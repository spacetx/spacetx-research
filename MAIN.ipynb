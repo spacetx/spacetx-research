{
 "cells": [
  {
   "cell_type": "markdown",
   "metadata": {},
   "source": [
    "## MULTI DAPI VAE in PYRO"
   ]
  },
  {
   "cell_type": "markdown",
   "metadata": {},
   "source": [
    "### IMPORT NECESSARY MODULES"
   ]
  },
  {
   "cell_type": "code",
   "execution_count": 1,
   "metadata": {},
   "outputs": [],
   "source": [
    "#%%bash\n",
    "#ls"
   ]
  },
  {
   "cell_type": "code",
   "execution_count": 2,
   "metadata": {
    "collapsed": true
   },
   "outputs": [],
   "source": [
    "#! pip3 install torch torchvision"
   ]
  },
  {
   "cell_type": "code",
   "execution_count": 3,
   "metadata": {
    "collapsed": true
   },
   "outputs": [],
   "source": [
    "#import torch"
   ]
  },
  {
   "cell_type": "code",
   "execution_count": 4,
   "metadata": {
    "collapsed": true
   },
   "outputs": [],
   "source": [
    "#! pip3 install pyro-ppl "
   ]
  },
  {
   "cell_type": "code",
   "execution_count": 5,
   "metadata": {
    "collapsed": true
   },
   "outputs": [],
   "source": [
    "#import pyro"
   ]
  },
  {
   "cell_type": "code",
   "execution_count": 6,
   "metadata": {
    "collapsed": true
   },
   "outputs": [],
   "source": [
    "%matplotlib inline\n",
    "import matplotlib.pyplot as plt\n",
    "from matplotlib import pyplot as mp\n",
    "\n",
    "from LOW_LEVEL_UTILITIES.utilities import show_batch, save_obj, load_obj, dataset_in_memory, check_datasets\n",
    "from LOW_LEVEL_UTILITIES.utilities import train_one_epoch, evaluate_one_epoch, test_model\n",
    "from simulation_dictionary import SimulationDictionary \n",
    "from VAE.vae_model import Compositional_VAE\n",
    "\n",
    "import numpy as np\n",
    "import os\n",
    "import torch\n",
    "import pyro\n",
    "from pyro.infer import SVI, TraceGraph_ELBO, TraceEnum_ELBO, config_enumerate, JitTraceEnum_ELBO \n",
    "from pyro.optim import Adam, Adamax, SGD"
   ]
  },
  {
   "cell_type": "markdown",
   "metadata": {},
   "source": [
    "## Generate (or load from file) the simulation parameters"
   ]
  },
  {
   "cell_type": "code",
   "execution_count": 7,
   "metadata": {},
   "outputs": [
    {
     "name": "stdout",
     "output_type": "stream",
     "text": [
      "{'SD.width': 28, 'UNET.N_up_conv': 2, 'PRIOR.n_max_objects': 6, 'ANNEALING.begin': 100, 'ANNEALING.duration': 200, 'ANNEALING.prob_initial': 1.0, 'ANNEALING.prob_final': 1e-05, 'SD.dim_h1': -1, 'UNET.N_prediction_maps': 1, 'ZWHAT.dim': 50, 'SD.dim_h2': -1, 'NMS.overlap_threshold': 0.2, 'PRIOR.min_object_size': 15, 'ANNEALING.protocol': 'Linear_Decay', 'ZMASK.dim': 50, 'IMG.size_raw_image': 80, 'PRIOR.expected_object_size': 20, 'IMG.ch_in_description': ['DAPI'], 'use_cuda': True, 'UNET.CH_after_first_two_conv': 32, 'NMS.p_threshold': 0.0, 'PRIOR.max_object_size': 35, 'UNET.N_max_pool': 4}\n"
     ]
    }
   ],
   "source": [
    "#### Create the simulation parameters dictionary\n",
    "\n",
    "#write_dir = \"/home/ldalessi/spacetx-research/parallel_enum_annealing_v2/ARCHIVE/\"\n",
    "#hyper_params = load_obj(write_dir,name_hyper_params)\n",
    "hyper_params=SimulationDictionary()\n",
    "hyper_params['UNET.N_prediction_maps']=1\n",
    "hyper_params['UNET.N_up_conv']=2\n",
    "print(hyper_params)\n",
    "hyper_params.check_consistency()"
   ]
  },
  {
   "cell_type": "markdown",
   "metadata": {},
   "source": [
    "## Instantiate and Checks the Compositional_VAE"
   ]
  },
  {
   "cell_type": "code",
   "execution_count": 8,
   "metadata": {
    "collapsed": true,
    "scrolled": true
   },
   "outputs": [],
   "source": [
    "vae = Compositional_VAE(hyper_params)"
   ]
  },
  {
   "cell_type": "code",
   "execution_count": 9,
   "metadata": {
    "collapsed": true
   },
   "outputs": [],
   "source": [
    "#putative_imgs,putative_masks,background,c = vae.model()\n",
    "#print(\"putative_imgs.shape\",putative_imgs.shape)\n",
    "#print(\"putative_masks.shape\",putative_masks.shape)\n",
    "#print(\"background.shape\",background.shape)\n",
    "#print(\"c.shape\",c.shape)\n",
    "#print(\"max(putative_imgs)\",torch.max(putative_imgs))"
   ]
  },
  {
   "cell_type": "code",
   "execution_count": 10,
   "metadata": {
    "collapsed": true
   },
   "outputs": [],
   "source": [
    "#show_batch(background)"
   ]
  },
  {
   "cell_type": "code",
   "execution_count": 11,
   "metadata": {
    "collapsed": true
   },
   "outputs": [],
   "source": [
    "#show_batch(putative_imgs[0])"
   ]
  },
  {
   "cell_type": "code",
   "execution_count": 12,
   "metadata": {
    "collapsed": true
   },
   "outputs": [],
   "source": [
    "#show_batch(putative_masks[0])\n",
    "#print(torch.min(putative_masks),torch.max(putative_masks))"
   ]
  },
  {
   "cell_type": "code",
   "execution_count": 13,
   "metadata": {
    "collapsed": true
   },
   "outputs": [],
   "source": [
    "#imgs_prior = vae.generate_synthetic_data(N=20)\n",
    "#show_batch(imgs_prior[:8,:1,:,:])\n",
    "\n",
    "#print(\"imgs_prior.shape\",imgs_prior.shape)\n",
    "#print(\"type(imgs_prior)\",type(imgs_prior))\n",
    "#print(\"imgs_prior.device\",imgs_prior.device)\n",
    "#print(\"torch.max(imgs_prior)\",torch.max(imgs_prior))\n",
    "#print(\"torch.min(imgs_prior)\",torch.min(imgs_prior))"
   ]
  },
  {
   "cell_type": "code",
   "execution_count": 14,
   "metadata": {
    "collapsed": true
   },
   "outputs": [],
   "source": [
    "#putative_imgs,putative_masks,background,c = vae.model(imgs_prior.cuda())\n",
    "##putative_imgs,pixel_weights,background,c = vae.model(imgs_prior)\n",
    "#\n",
    "#print(\"putative_imgs.shape\",putative_imgs.shape)\n",
    "#print(\"putative_masks.shape\",putative_masks.shape)\n",
    "#print(\"background.shape\",background.shape)\n",
    "#print(\"c.shape\",c.shape)"
   ]
  },
  {
   "cell_type": "code",
   "execution_count": 15,
   "metadata": {
    "collapsed": true
   },
   "outputs": [],
   "source": [
    "#rec_img,z_where,putative_imgs,putative_masks,logp,reg = vae.reconstruct_img(imgs_prior,True)\n",
    "#\n",
    "#print(\"rec_img.shape\",rec_img.shape)\n",
    "#print(\"min, max of rec_img)\",torch.min(rec_img),torch.max(rec_img))\n",
    "#print(\"putative_imgs.shape\",putative_imgs.shape)\n",
    "#print(\"putative_masks.shape\",putative_masks.shape)\n",
    "#print(\"logp.logp_off.shape\",logp.logp_off.shape)\n",
    "#print(\"logp.logp_on_cauchy.shape\",logp.logp_on_cauchy.shape)\n",
    "#print(\"logp.logp_on_normal.shape\",logp.logp_on_normal.shape)\n",
    "#print(\"reg.small_box_size.shape\",reg.small_box_size.shape)\n",
    "#print(\"reg.big_mask_volume.shape\",reg.big_mask_volume.shape)\n",
    "#print(\"reg.tot_var_mask.shape\",reg.tot_var_mask.shape)\n",
    "#print(\"reg.overlap_mask.shape\",reg.overlap_mask.shape)\n",
    "#show_batch(rec_img[:8,:,:,:])"
   ]
  },
  {
   "cell_type": "markdown",
   "metadata": {},
   "source": [
    "### Debug model and guide"
   ]
  },
  {
   "cell_type": "code",
   "execution_count": 16,
   "metadata": {},
   "outputs": [
    {
     "name": "stdout",
     "output_type": "stream",
     "text": [
      "TEST SAMPLE\n",
      "TEST PARALLEL ENUM\n"
     ]
    }
   ],
   "source": [
    "print(\"TEST SAMPLE\")\n",
    "test_model(vae.model, \n",
    "           vae.guide, TraceGraph_ELBO())\n",
    "\n",
    "print(\"TEST PARALLEL ENUM\")\n",
    "test_model(vae.model, \n",
    "           config_enumerate(vae.guide, \"parallel\"), \n",
    "           TraceEnum_ELBO(max_plate_nesting=2))"
   ]
  },
  {
   "cell_type": "markdown",
   "metadata": {},
   "source": [
    "## Load the data"
   ]
  },
  {
   "cell_type": "code",
   "execution_count": 17,
   "metadata": {
    "collapsed": true
   },
   "outputs": [],
   "source": [
    "#disk_data_dir = \"/home/ldalessi/DATA/MULTI_DISK/\"\n",
    "#real_data_dir = \"/home/ldalessi/DATA/DAPI_ONLY_v3/\"\n",
    "#mMNIST_data_dir = \"/home/ldalessi/DATA/MULTI_MNIST/\"\n",
    "mMNIST_data_dir = \"/home/jupyter/REPOS/spacetx-research/DATA/MULTI_MNIST/\"\n",
    "\n",
    "train_dataset = dataset_in_memory(mMNIST_data_dir,\"multi_mnist_train_large\",use_cuda=hyper_params['use_cuda'])\n",
    "test_dataset  = dataset_in_memory(mMNIST_data_dir,\"multi_mnist_test_large\",use_cuda=hyper_params['use_cuda'])\n",
    "\n",
    "#train_dataset = dataset_in_memory(disk_data_dir,\"multi_disk_train_v1\",use_cuda=hyper_params['use_cuda'])\n",
    "#test_dataset  = dataset_in_memory(disk_data_dir,\"multi_disk_test_v1\",use_cuda=hyper_params['use_cuda'])\n",
    "\n",
    "#train_dataset = dataset_in_memory(disk_data_dir,\"multi_disk_train_no_bg\",use_cuda=hyper_params['use_cuda'])\n",
    "#test_dataset  = dataset_in_memory(disk_data_dir,\"multi_disk_test_no_bg\",use_cuda=hyper_params['use_cuda'])\n",
    "\n",
    "#train_dataset = dataset_in_memory(real_data_dir,\"DAPI_dataset_train\",use_cuda=hyper_params['use_cuda'])\n",
    "#test_dataset  = dataset_in_memory(real_data_dir,\"DAPI_dataset_test\",use_cuda=hyper_params['use_cuda'])\n",
    "\n",
    "#train_dataset = dataset_in_memory(mMNIST_data_dir,\"multi_mnist_train_large\",use_cuda=hyper_params['use_cuda'])\n",
    "#test_dataset  = dataset_in_memory(mMNIST_data_dir,\"multi_mnist_test_large\",use_cuda=hyper_params['use_cuda'])\n",
    "\n",
    "#train_dataset = dataset_in_memory(mMNIST_data_dir,\"multi_mnist_train_no_bg\",use_cuda=hyper_params['use_cuda'])\n",
    "#test_dataset  = dataset_in_memory(mMNIST_data_dir,\"multi_mnist_test_no_bg\",use_cuda=hyper_params['use_cuda'])"
   ]
  },
  {
   "cell_type": "markdown",
   "metadata": {},
   "source": [
    "## Check the train and test datase"
   ]
  },
  {
   "cell_type": "code",
   "execution_count": 18,
   "metadata": {},
   "outputs": [
    {
     "name": "stdout",
     "output_type": "stream",
     "text": [
      "Dataset lenght: 60000\n",
      "imgs.shape torch.Size([8, 1, 80, 80])\n",
      "type(imgs) <class 'torch.Tensor'>\n",
      "imgs.device cuda:0\n",
      "torch.max(imgs) tensor(1., device='cuda:0')\n",
      "torch.min(imgs) tensor(0., device='cuda:0')\n"
     ]
    },
    {
     "data": {
      "image/png": "[encoded data removed]",
      "text/plain": [
       "<Figure size 432x288 with 1 Axes>"
      ]
     },
     "metadata": {
      "needs_background": "light"
     },
     "output_type": "display_data"
    }
   ],
   "source": [
    "check_datasets(train_dataset)"
   ]
  },
  {
   "cell_type": "code",
   "execution_count": 19,
   "metadata": {
    "collapsed": true
   },
   "outputs": [],
   "source": [
    "#check_datasets(test_dataset)"
   ]
  },
  {
   "cell_type": "code",
   "execution_count": 20,
   "metadata": {
    "collapsed": true
   },
   "outputs": [],
   "source": [
    "#size=15\n",
    "#r = test_dataset.analyze_brightness_distribution(size=size,stride=3)\n",
    "#a = plt.hist(r.view(-1), bins=100, range=(0,1),density=True)\n",
    "#plt.title(\"Empirical PDF\")\n",
    "#plt.xlabel(\"Average intensity in box of size \"+str(size))"
   ]
  },
  {
   "cell_type": "code",
   "execution_count": 21,
   "metadata": {
    "collapsed": true
   },
   "outputs": [],
   "source": [
    "#size=35\n",
    "#r = test_dataset.analyze_brightness_distribution(size=size,stride=3)\n",
    "#a = plt.hist(r.view(-1), bins=100, range=(0,1),density=True)\n",
    "#plt.title(\"Empirical PDF\")\n",
    "#plt.xlabel(\"Average intensity in box of size \"+str(size))"
   ]
  },
  {
   "cell_type": "code",
   "execution_count": 22,
   "metadata": {
    "collapsed": true
   },
   "outputs": [],
   "source": [
    "#imgs_in, labels = train_dataset.load(128)\n",
    "#print(labels[0])\n",
    "#show_batch(imgs_in[:1])"
   ]
  },
  {
   "cell_type": "code",
   "execution_count": 23,
   "metadata": {
    "collapsed": true
   },
   "outputs": [],
   "source": [
    "#b = plt.hist(imgs_in.view(-1).cpu().numpy(), bins=100, range=(0,1),density=True)\n",
    "#plt.title(\"Empirical PDF\")\n",
    "#plt.xlabel(\"pixel intensity\")"
   ]
  },
  {
   "cell_type": "markdown",
   "metadata": {},
   "source": [
    "# Set up the simulation"
   ]
  },
  {
   "cell_type": "markdown",
   "metadata": {},
   "source": [
    "## Global parameters"
   ]
  },
  {
   "cell_type": "code",
   "execution_count": 24,
   "metadata": {
    "collapsed": true
   },
   "outputs": [],
   "source": [
    "# Set up pyro environment\n",
    "pyro.clear_param_store()\n",
    "pyro.set_rng_seed(0)\n",
    "\n",
    "TEST_FREQUENCY = 5\n",
    "WRITE_FREQUENCY = 20\n",
    "smoke_test= False\n",
    "if(smoke_test):\n",
    "    pyro.enable_validation(True)\n",
    "    pyro.distributions.enable_validation(True)\n",
    "    NUM_EPOCHS = 21\n",
    "else:\n",
    "    pyro.enable_validation(False)\n",
    "    pyro.distributions.enable_validation(False)\n",
    "    NUM_EPOCHS = 101"
   ]
  },
  {
   "cell_type": "markdown",
   "metadata": {},
   "source": [
    "## Initialize stuff (always) from the same state"
   ]
  },
  {
   "cell_type": "code",
   "execution_count": 25,
   "metadata": {
    "collapsed": true
   },
   "outputs": [],
   "source": [
    "#Load if necessary\n",
    "dir_init_file = \"/home/jupyter/REPOS/spacetx-research/ARCHIVE/INIT/\"\n",
    "name_init = \"vae_initialization_MULTI_MNIST_v1\"\n",
    "\n",
    "min_loss = 99999999\n",
    "history_dict = {\n",
    "    \"train_loss\" : [],\n",
    "    \"test_loss\" : [],\n",
    "    \"fg_mu\" : [],\n",
    "    \"bg_mu\" : [],\n",
    "    \"fg_sigma\" : [],\n",
    "    \"bg_sigma\" : [],\n",
    "    \"normal_sigma\" : [],\n",
    "    \"std_bx_dimfull\" : [],\n",
    "    \"std_by_dimfull\" : [],\n",
    "    \"std_bw_dimfull\" : [],\n",
    "    \"std_bh_dimfull\" : []\n",
    "    }\n",
    "\n",
    "#vae.reset()\n",
    "#vae.save_everything(dir_init_file,name_init)\n",
    "vae.load_everything(dir_init_file,name_init)"
   ]
  },
  {
   "cell_type": "markdown",
   "metadata": {},
   "source": [
    "## Set up the names"
   ]
  },
  {
   "cell_type": "code",
   "execution_count": 26,
   "metadata": {
    "collapsed": true
   },
   "outputs": [],
   "source": [
    "# the actual code \n",
    "write_dir  = '/home/jupyter/REPOS/spacetx-research/ARCHIVE/'\n",
    "\n",
    "descriptor        = \"MNIST_unit_cauchy_t4_v1\"\n",
    "#descriptor        = \"DISK_v2\"\n",
    "#descriptor        = \"MNIST_unit_cauchy_v1\"\n",
    "name_vae          = descriptor+\"_vae\"\n",
    "name_history      = descriptor+\"_hystory\"\n",
    "name_hyper_params = descriptor+\"_hyper_params\"\n"
   ]
  },
  {
   "cell_type": "markdown",
   "metadata": {},
   "source": [
    "## Load from file (if necessary)"
   ]
  },
  {
   "cell_type": "code",
   "execution_count": 27,
   "metadata": {
    "collapsed": true
   },
   "outputs": [],
   "source": [
    "#epoch_restart = \"_5\"\n",
    "#vae.load_everything(write_dir,name_vae+epoch_restart)\n",
    "#history_dict = load_obj(write_dir,name_history+epoch_restart)\n",
    "#hyper_params = load_obj(write_dir,name_hyper_params+epoch_restart)"
   ]
  },
  {
   "cell_type": "markdown",
   "metadata": {},
   "source": [
    "## Initialize SVI and optimizer (always)"
   ]
  },
  {
   "cell_type": "code",
   "execution_count": 28,
   "metadata": {
    "collapsed": true
   },
   "outputs": [],
   "source": [
    "# batch size\n",
    "batch_size = 256\n",
    "\n",
    "# setup the optimizer\n",
    "#optimizer = Adamax(adam_args)\n",
    "adam_args = {\"lr\": 1.0e-3} # pyro.tutorail has 1E-4 with Adam. I have used Adamax and 1E-3 for a while\n",
    "optimizer = Adam(adam_args)\n",
    "\n",
    "svi = SVI(vae.model, config_enumerate(vae.guide, \"parallel\"), optimizer, loss=TraceEnum_ELBO(max_plate_nesting=2))\n",
    "#svi = SVI(vae.model, config_enumerate(vae.guide, \"parallel\"), optimizer, loss=JitTraceEnum_ELBO(max_plate_nesting=2))"
   ]
  },
  {
   "cell_type": "markdown",
   "metadata": {},
   "source": [
    "## Hyperparameter for training (change if necessary)"
   ]
  },
  {
   "cell_type": "code",
   "execution_count": 29,
   "metadata": {
    "collapsed": true
   },
   "outputs": [],
   "source": [
    "# regularization parameters\n",
    "#vae.p_corr_factor = 0.5\n",
    "\n",
    "\n",
    "vae.lambda_small_box_size  = 0.0\n",
    "vae.lambda_big_mask_volume = 1.0\n",
    "vae.lambda_tot_var         = 0.0\n",
    "vae.lambda_overlap         = 0.0\n",
    "\n",
    "vae.LOSS_ZMASK = 0.1\n",
    "vae.LOSS_ZWHAT = 1.0"
   ]
  },
  {
   "cell_type": "markdown",
   "metadata": {},
   "source": [
    "# Actual train loop"
   ]
  },
  {
   "cell_type": "code",
   "execution_count": null,
   "metadata": {},
   "outputs": [
    {
     "name": "stdout",
     "output_type": "stream",
     "text": [
      "i=   0 train_loss=-930438.00000\n",
      "i=   1 train_loss=-980961.37500\n",
      "i=   2 train_loss=-1041697.25000\n",
      "i=   3 train_loss=-1088797.12500\n",
      "i=   4 train_loss=-1089314.50000\n",
      "i=   5 train_loss=-1101503.25000\n",
      "i=   6 train_loss=-1120573.62500\n",
      "i=   7 train_loss=-1127656.87500\n",
      "i=   8 train_loss=-1134785.50000\n",
      "i=   9 train_loss=-1134750.12500\n",
      "i=  10 train_loss=-1138293.37500\n",
      "i=  11 train_loss=-1136956.87500\n",
      "i=  12 train_loss=-1151277.87500\n",
      "i=  13 train_loss=-1162014.12500\n",
      "i=  14 train_loss=-1163791.62500\n",
      "i=  15 train_loss=-1163290.37500\n",
      "i=  16 train_loss=-1158397.37500\n",
      "i=  17 train_loss=-1165644.37500\n",
      "i=  18 train_loss=-1166914.50000\n",
      "i=  19 train_loss=-1166125.62500\n",
      "i=  20 train_loss=-1161483.00000\n",
      "i=  21 train_loss=-1175240.50000\n",
      "i=  22 train_loss=-1164016.25000\n",
      "i=  23 train_loss=-1173814.62500\n",
      "i=  24 train_loss=-1171194.62500\n"
     ]
    }
   ],
   "source": [
    "# training loop\n",
    "for epoch in range(0,1000):\n",
    "    vae.train()     \n",
    "    vae.p_corr_factor = max(0.5-epoch*0.005,0.0)\n",
    "    loss = train_one_epoch(svi, train_dataset, epoch, batch_size, verbose=(epoch==0))\n",
    "    print(\"[epoch %03d] train loss: %.4f\" % (epoch, loss))\n",
    "                \n",
    "    history_dict[\"train_loss\"].append(loss)\n",
    "    try:\n",
    "        history_dict[\"fg_mu\"].append(pyro.param(\"fg_mu\").item())\n",
    "        history_dict[\"bg_mu\"].append(pyro.param(\"bg_mu\").item())\n",
    "        history_dict[\"fg_sigma\"].append(pyro.param(\"fg_sigma\").item())\n",
    "        history_dict[\"bg_sigma\"].append(pyro.param(\"bg_sigma\").item())\n",
    "        history_dict[\"normal_sigma\"].append(pyro.param(\"normal_sigma\").item())\n",
    "        history_dict[\"std_bx_dimfull\"].append(pyro.param(\"std_bx_dimfull\").item())\n",
    "        history_dict[\"std_by_dimfull\"].append(pyro.param(\"std_by_dimfull\").item())\n",
    "        history_dict[\"std_bw_dimfull\"].append(pyro.param(\"std_bw_dimfull\").item())\n",
    "        history_dict[\"std_bh_dimfull\"].append(pyro.param(\"std_bh_dimfull\").item())\n",
    "    except:\n",
    "        pass\n",
    "            \n",
    "    if(epoch % TEST_FREQUENCY == 0):\n",
    "        vae.eval()\n",
    "        loss = evaluate_one_epoch(svi, test_dataset, epoch, batch_size, verbose=(epoch==0))        \n",
    "        history_dict[\"test_loss\"].append(loss)\n",
    "            \n",
    "        if(loss < min_loss):\n",
    "            min_loss = loss\n",
    "            print(\"[epoch %03d] test  loss: %.4f --New Record--\" % (epoch, loss)) \n",
    "        else:\n",
    "            print(\"[epoch %03d] test  loss: %.4f \" % (epoch, loss))\n",
    "                \n",
    "        if((loss == min_loss) or ((epoch % WRITE_FREQUENCY) == 0)):   \n",
    "            # Save on disk\n",
    "            vae.save_everything(write_dir,name_vae+\"_\"+str(epoch))\n",
    "            save_obj(history_dict,write_dir,name_history+\"_\"+str(epoch))\n",
    "            save_obj(hyper_params,write_dir,name_hyper_params+\"_\"+str(epoch))"
   ]
  },
  {
   "cell_type": "markdown",
   "metadata": {},
   "source": [
    "# Check the results"
   ]
  },
  {
   "cell_type": "code",
   "execution_count": null,
   "metadata": {
    "collapsed": true
   },
   "outputs": [],
   "source": [
    "print(history_dict[\"train_loss\"][-5:])\n",
    "print(history_dict[\"test_loss\"][-5:])\n",
    "print(history_dict[\"bg_mu\"][-5:])\n",
    "print(history_dict[\"fg_mu\"][-5:])\n",
    "print(history_dict[\"bg_sigma\"][-5:])\n",
    "print(history_dict[\"fg_sigma\"][-5:])\n",
    "print(history_dict[\"normal_sigma\"][-5:])\n",
    "print(history_dict[\"std_bx_dimfull\"][-5:])\n",
    "print(history_dict[\"std_by_dimfull\"][-5:])\n",
    "print(history_dict[\"std_bw_dimfull\"][-5:])\n",
    "print(history_dict[\"std_bh_dimfull\"][-5:])"
   ]
  },
  {
   "cell_type": "code",
   "execution_count": null,
   "metadata": {
    "collapsed": true,
    "scrolled": true
   },
   "outputs": [],
   "source": [
    "#plt.yscale('log')\n",
    "y_shift=0\n",
    "x_shift=0\n",
    "plt.plot(np.arange(x_shift, x_shift+len(history_dict[\"train_loss\"])), np.array(history_dict[\"train_loss\"])+y_shift)\n",
    "plt.plot(np.arange(x_shift, x_shift+len(history_dict[\"train_loss\"]), TEST_FREQUENCY), np.array(history_dict[\"test_loss\"])+y_shift, '.--')\n",
    "plt.xlabel('epoch')\n",
    "plt.ylabel('LOSS = - ELBO')\n",
    "plt.title('Training procedure')\n",
    "#plt.ylim(ymin = -10000, ymax=-4000)\n",
    "plt.grid(True)\n",
    "plt.legend(['train', 'test'])\n",
    "#plt.show()\n",
    "from matplotlib import pyplot as plt\n",
    "plt.savefig(write_dir+name_vae+'_train.png')"
   ]
  },
  {
   "cell_type": "code",
   "execution_count": null,
   "metadata": {
    "collapsed": true
   },
   "outputs": [],
   "source": [
    "# Create a plot with the priors\n",
    "fontsize=20\n",
    "labelsize=20\n",
    "fig, axs = plt.subplots(2,1, figsize=(15,15))\n",
    "        \n",
    "axs[0].set_xlabel('epoch',fontsize=fontsize)\n",
    "axs[0].set_ylabel('parameters bg fg',fontsize=fontsize)\n",
    "axs[0].tick_params(axis='both', which='major', labelsize=labelsize)\n",
    "axs[0].plot(history_dict[\"bg_mu\"],'.')\n",
    "axs[0].plot(history_dict[\"bg_sigma\"],'.--')\n",
    "axs[0].plot(history_dict[\"fg_mu\"],'-')\n",
    "axs[0].plot(history_dict[\"fg_sigma\"],'-')\n",
    "axs[0].plot(history_dict[\"normal_sigma\"],'.')\n",
    "axs[0].legend(['bg_mu','bg_sigma','fg_mu','fg_sigma','normal_sigma'])\n",
    "        \n",
    "axs[1].set_xlabel('epoch',fontsize=fontsize)\n",
    "axs[1].set_ylabel('parameters dist',fontsize=fontsize)\n",
    "axs[1].tick_params(axis='both', which='major', labelsize=labelsize)\n",
    "axs[1].plot(history_dict[\"std_bx_dimfull\"],'.--')\n",
    "axs[1].plot(history_dict[\"std_by_dimfull\"],'-')\n",
    "axs[1].plot(history_dict[\"std_bw_dimfull\"],'-')\n",
    "axs[1].plot(history_dict[\"std_bh_dimfull\"],'.')\n",
    "axs[1].legend(['std_bx','std_by','std_bw', 'std_bh'])\n",
    "              \n",
    "fig.savefig(write_dir+name_vae+'_hystory.png')"
   ]
  },
  {
   "cell_type": "code",
   "execution_count": null,
   "metadata": {
    "collapsed": true
   },
   "outputs": [],
   "source": [
    "from matplotlib import pyplot as mp\n",
    "\n",
    "#reference_dir = '/home/ldalessi/DATA/REFERENCE/'\n",
    "reference_dir = '/home/jupyter/REPOS/spacetx-research/DATA/REFERENCES/'\n",
    "name='reference_mMNIST_v2'\n",
    "#name='reference_disks_v3'\n",
    "#name='reference_dapi'\n",
    "\n",
    "# create image if necessary\n",
    "reference_imgs, labels=test_dataset.load(8)\n",
    "save_obj(reference_imgs ,reference_dir,name)\n",
    "\n",
    "reference_imgs = load_obj(reference_dir,name)\n",
    "show_batch(reference_imgs[:8],nrow=4,npadding=4,title=\"REFERENCE\")\n",
    "mp.savefig(write_dir+name+'.png')"
   ]
  },
  {
   "cell_type": "code",
   "execution_count": null,
   "metadata": {
    "collapsed": true
   },
   "outputs": [],
   "source": [
    "#vae.p_corr_factor = 0.0\n",
    "rec_img,z_where,putative_imgs,putative_masks,logp,reg = vae.reconstruct_img(reference_imgs,True)\n",
    "counts = torch.sum(z_where.prob>0.5,dim=1).view(-1).cpu().numpy().tolist(),\n",
    "b=show_batch(rec_img[:8],nrow=4,npadding=4,title=\"# COUNTS= \"+str(counts))\n",
    "mp.savefig(write_dir+name_vae+'_rec_both.png')"
   ]
  },
  {
   "cell_type": "code",
   "execution_count": null,
   "metadata": {
    "collapsed": true
   },
   "outputs": [],
   "source": [
    "chosen=6\n",
    "z_where.prob[chosen]"
   ]
  },
  {
   "cell_type": "code",
   "execution_count": null,
   "metadata": {
    "collapsed": true
   },
   "outputs": [],
   "source": [
    "prob_tmp = np.round(z_where.prob[chosen].view(-1).cpu().numpy(),decimals=4)*10000\n",
    "prob_title = (prob_tmp.astype(int)/10000).tolist()\n",
    "b=show_batch(putative_imgs[chosen],nrow=3,npadding=4,title=\"# IMGS, p=\"+str(prob_title))\n",
    "mp.savefig(write_dir+name_vae+'_rec_imgs.png')"
   ]
  },
  {
   "cell_type": "code",
   "execution_count": null,
   "metadata": {
    "collapsed": true
   },
   "outputs": [],
   "source": [
    "b=show_batch(putative_masks[chosen],nrow=3,npadding=4,title=\"# MASKS, p=\"+str(prob_title))\n",
    "print(name_vae)\n",
    "mp.savefig(write_dir+name_vae+'_rec_masks.png')"
   ]
  },
  {
   "cell_type": "code",
   "execution_count": null,
   "metadata": {
    "collapsed": true
   },
   "outputs": [],
   "source": [
    "print(\"logp_off -------->\",logp.logp_off[chosen].detach().cpu())\n",
    "print(\"logp_on_cauchy -->\",logp.logp_on_cauchy[chosen].detach().cpu())\n",
    "print(\"logp_on_normal -->\",logp.logp_on_normal[chosen].detach().cpu())\n",
    "print(\"probability object\",z_where.prob[chosen].detach().cpu().view(-1))"
   ]
  },
  {
   "cell_type": "code",
   "execution_count": null,
   "metadata": {
    "collapsed": true
   },
   "outputs": [],
   "source": [
    "off=logp.logp_off.view(-1).detach().cpu().numpy()\n",
    "on_c=logp.logp_on_cauchy.view(-1).detach().cpu().numpy()\n",
    "on_n=logp.logp_on_normal.view(-1).detach().cpu().numpy()\n",
    "a1 = plt.hist([off,on_c,on_n],bins=20,histtype=\"bar\",stacked=True)\n",
    "plt.legend([\"logp_off\",\"logp_on_cauchy\",\"logp_on_normal\"], loc='upper right')\n",
    "plt.title(\"Distribution of the three log_probs\")\n",
    "plt.xlabel(\"Log prob\")"
   ]
  },
  {
   "cell_type": "markdown",
   "metadata": {},
   "source": [
    "# MAKE MOVIE"
   ]
  },
  {
   "cell_type": "code",
   "execution_count": null,
   "metadata": {
    "collapsed": true
   },
   "outputs": [],
   "source": [
    "epoch=0\n",
    "vae.load_everything(write_dir,name_vae+\"_\"+str(epoch))\n",
    "rec_img,z_where,putative_imgs,putative_masks,logp,reg = vae.reconstruct_img(reference_imgs,True)\n",
    "counts = torch.sum(z_where.prob>0.5,dim=1).view(-1).cpu().numpy().tolist()\n",
    "b=show_batch(rec_img[:8],nrow=4,npadding=4,title=\"EPOCH = \"+str(epoch))   "
   ]
  },
  {
   "cell_type": "code",
   "execution_count": null,
   "metadata": {
    "collapsed": true
   },
   "outputs": [],
   "source": [
    "epoch=5\n",
    "vae.load_everything(write_dir,name_vae+\"_\"+str(epoch))\n",
    "rec_img,z_where,putative_imgs,putative_masks,logp,reg = vae.reconstruct_img(reference_imgs,True)\n",
    "counts = torch.sum(z_where.prob>0.5,dim=1).view(-1).cpu().numpy().tolist()\n",
    "b=show_batch(rec_img[:8],nrow=4,npadding=4,title=\"EPOCH = \"+str(epoch))   "
   ]
  },
  {
   "cell_type": "code",
   "execution_count": null,
   "metadata": {
    "collapsed": true
   },
   "outputs": [],
   "source": [
    "epoch=10\n",
    "vae.load_everything(write_dir,name_vae+\"_\"+str(epoch))\n",
    "rec_img,z_where,putative_imgs,putative_masks,logp,reg = vae.reconstruct_img(reference_imgs,True)\n",
    "counts = torch.sum(z_where.prob>0.5,dim=1).view(-1).cpu().numpy().tolist()\n",
    "b=show_batch(rec_img[:8],nrow=4,npadding=4,title=\"EPOCH = \"+str(epoch))                                                                        "
   ]
  },
  {
   "cell_type": "code",
   "execution_count": null,
   "metadata": {
    "collapsed": true
   },
   "outputs": [],
   "source": [
    "#vae.p_corr_factor = 0.5\n",
    "\n",
    "list_of_movie_files = []\n",
    "for epoch in range(0,205,5):\n",
    "    if(epoch<10):\n",
    "        label =\"_000\"+str(epoch)\n",
    "    elif(epoch<100):\n",
    "        label = \"_00\"+str(epoch)\n",
    "    elif(epoch<1000):\n",
    "        label = \"_0\"+str(epoch)\n",
    "    else:\n",
    "        label = str(epoch)\n",
    "    #print(label)\n",
    "    \n",
    "    try:\n",
    "        vae.load_everything(write_dir,name_vae+\"_\"+str(epoch))\n",
    "        rec_img,z_where,putative_imgs,putative_masks,logp,reg = vae.reconstruct_img(reference_imgs,True)\n",
    "        counts = torch.sum(z_where.prob>0.5,dim=1).view(-1).cpu().numpy().tolist()\n",
    "        b=show_batch(rec_img[:8],nrow=4,npadding=4,title=\"EPOCH = \"+str(epoch))\n",
    "        name_output = name_vae+label+'.png'\n",
    "        list_of_movie_files.append(name_output)\n",
    "        mp.savefig(write_dir+name_output) \n",
    "    except:\n",
    "        pass"
   ]
  },
  {
   "cell_type": "markdown",
   "metadata": {},
   "source": [
    "## Check individual images"
   ]
  },
  {
   "cell_type": "code",
   "execution_count": null,
   "metadata": {
    "collapsed": true
   },
   "outputs": [],
   "source": [
    "#from ipywidgets import interactive, IntSlider\n",
    "#from PIL import Image\n",
    "from IPython.display import Image\n",
    "\n",
    "def show_frame(n):\n",
    "    return Image(filename=write_dir+list_of_movie_files[n])  \n",
    "    #image = Image.open(write_dir+list_of_movie_files[n], mode='r')\n",
    "    #plt.imshow(image)\n",
    "    #plt.show()    \n",
    "\n",
    "# Widget does not work\n",
    "#interactive_plot = interactive(show_frame,n=IntSlider(min=0, max=N_frames-1, step=1))\n",
    "#output = interactive_plot.children[-1]\n",
    "#interactive_plot"
   ]
  },
  {
   "cell_type": "code",
   "execution_count": null,
   "metadata": {
    "collapsed": true
   },
   "outputs": [],
   "source": [
    "N_frames = len(list_of_movie_files)\n",
    "print(N_frames)\n",
    "show_frame(0)"
   ]
  }
 ],
 "metadata": {
  "kernelspec": {
   "display_name": "Python 3",
   "language": "python",
   "name": "python3"
  },
  "language_info": {
   "codemirror_mode": {
    "name": "ipython",
    "version": 3
   },
   "file_extension": ".py",
   "mimetype": "text/x-python",
   "name": "python",
   "nbconvert_exporter": "python",
   "pygments_lexer": "ipython3",
   "version": "3.5.3"
  }
 },
 "nbformat": 4,
 "nbformat_minor": 2
}
