{
 "cells": [
  {
   "cell_type": "markdown",
   "metadata": {},
   "source": [
    "# MASKING THE DISTRIBUTIONS"
   ]
  },
  {
   "cell_type": "code",
   "execution_count": null,
   "metadata": {},
   "outputs": [],
   "source": [
    "import torch \n",
    "import pyro\n",
    "import pyro.distributions as dist\n",
    "from pyro.infer import Trace_ELBO, TraceEnum_ELBO\n",
    "\n",
    "def test_model(model, guide, loss):\n",
    "    pyro.clear_param_store()\n",
    "    loss.loss(model, guide)\n",
    "    \n",
    "    \n",
    "batch_size=3\n",
    "n_max_objects=8\n",
    "dim_z_what=10\n",
    "zero=torch.zeros([1])\n",
    "one=torch.ones([1])\n",
    "\n",
    "def guide():\n",
    "    p = 0.5*torch.ones(batch_size,n_max_objects)\n",
    "    z_mu  = torch.randn(batch_size,n_max_objects,dim_z_what)\n",
    "    z_std = torch.exp(torch.randn(batch_size,n_max_objects,dim_z_what))\n",
    "    \n",
    "    with pyro.plate(\"batch\", batch_size, dim=-2):\n",
    "        with pyro.plate(\"n_objects\", n_max_objects, dim =-1):\n",
    "            z_pres = pyro.sample(\"prob_object\",dist.Bernoulli(probs = p),infer={\"enumerate\": \"parallel\"}) \n",
    "            z_pres_mask = z_pres.unsqueeze(-1)\n",
    "            z_what = pyro.sample(\"z_what\",dist.Normal(z_mu,z_std).mask(z_pres_mask).to_event(1))            \n",
    "            print(\"GUIDE z_pres.shape, z_what.shape\",z_pres.shape,z_what.shape)\n",
    "\n",
    "def model():\n",
    "    with pyro.plate(\"batch\", batch_size, dim=-2):\n",
    "        with pyro.plate(\"n_objects\", n_max_objects, dim =-1):\n",
    "            z_pres = pyro.sample(\"prob_object\",dist.Bernoulli(probs = 0.5))\n",
    "            z_pres_mask = z_pres.unsqueeze(-1)\n",
    "            z_what = pyro.sample(\"z_what\",dist.Normal(zero.expand(batch_size,n_max_objects,dim_z_what),one).mask(z_pres_mask).to_event(1))            \n",
    "            print(\"MODEL z_pres.shape, z_what.shape\",z_pres.shape,z_what.shape)\n",
    "\n",
    "            \n",
    "print(\"TEST SAMPLE\")\n",
    "test_model(model, guide, Trace_ELBO(max_plate_nesting=2))\n",
    "\n",
    "print(\"TEST PARALLEL ENUM\")\n",
    "test_model(model, guide, TraceEnum_ELBO(max_plate_nesting=2))\n",
    "\n",
    "#import pyro.poutine as poutine\n",
    "\n",
    "#print(\"MODEL\")\n",
    "#trace = poutine.trace(poutine.enum(model, first_available_dim=-2)).get_trace()\n",
    "#trace.compute_log_prob()  # optional, but allows printing of log_prob shapes\n",
    "#print(trace.format_shapes())\n",
    "\n",
    "#print(\"GUIDE\")\n",
    "#trace = poutine.trace(poutine.enum(guide, first_available_dim=-2)).get_trace()\n",
    "#trace.compute_log_prob()  # optional, but allows printing of log_prob shapes\n",
    "#print(trace.format_shapes())\n",
    " \n",
    "#guide()    \n",
    "#model()"
   ]
  },
  {
   "cell_type": "code",
   "execution_count": null,
   "metadata": {
    "collapsed": true
   },
   "outputs": [],
   "source": [
    "def sigmoid(x):\n",
    "    return 1.0/(1.0+torch.exp(-x))\n",
    "g=20.0\n",
    "x = torch.arange(0,3,0.01)\n",
    "y1 = sigmoid(g*(1-x))\n",
    "plt.plot(x.numpy(),y1.numpy())\n",
    "#plt.plot(x.numpy(),y2.numpy())\n",
    "plt.grid()"
   ]
  },
  {
   "cell_type": "code",
   "execution_count": null,
   "metadata": {
    "collapsed": true
   },
   "outputs": [],
   "source": [
    "one =  torch.ones([1])\n",
    "alpha = 5*one\n",
    "beta = 0.5*one\n",
    "print(\"mean, std\",alpha/beta,torch.sqrt(alpha)/beta)\n",
    "d = dist.Gamma(4*one,0.2*one)\n",
    "d = dist.Normal(10*one,4*one)\n",
    "#d = dist.Cauchy(10*one,10*one)\n",
    "x = torch.arange(0,100,0.01)\n",
    "y=d.log_prob(x)\n",
    "plt.plot(x.numpy(),torch.exp(y).numpy())"
   ]
  },
  {
   "cell_type": "code",
   "execution_count": 1,
   "metadata": {},
   "outputs": [
    {
     "data": {
      "text/plain": [
       "[<matplotlib.lines.Line2D at 0x7f9db5dc5668>]"
      ]
     },
     "execution_count": 1,
     "metadata": {},
     "output_type": "execute_result"
    },
    {
     "data": {
      "image/png": "[encoded data removed]",
      "text/plain": [
       "<Figure size 432x288 with 1 Axes>"
      ]
     },
     "metadata": {},
     "output_type": "display_data"
    }
   ],
   "source": [
    "%matplotlib inline\n",
    "import matplotlib.pyplot as plt\n",
    "import torch \n",
    "import pyro\n",
    "import pyro.distributions as dist\n",
    "\n",
    "\n",
    "one =  torch.ones([1])\n",
    "d=dist.RelaxedBernoulli(probs =0.5*one,temperature=one)\n",
    "x = torch.arange(0,1,0.01)\n",
    "y = torch.exp(d.log_prob(x))\n",
    "plt.plot(x.numpy(),y.numpy())"
   ]
  },
  {
   "cell_type": "code",
   "execution_count": null,
   "metadata": {
    "collapsed": true
   },
   "outputs": [],
   "source": []
  },
  {
   "cell_type": "code",
   "execution_count": null,
   "metadata": {
    "collapsed": true
   },
   "outputs": [],
   "source": []
  }
 ],
 "metadata": {
  "kernelspec": {
   "display_name": "Python [conda env:pyro]",
   "language": "python",
   "name": "conda-env-pyro-py"
  },
  "language_info": {
   "codemirror_mode": {
    "name": "ipython",
    "version": 3
   },
   "file_extension": ".py",
   "mimetype": "text/x-python",
   "name": "python",
   "nbconvert_exporter": "python",
   "pygments_lexer": "ipython3",
   "version": "3.6.2"
  }
 },
 "nbformat": 4,
 "nbformat_minor": 2
}
