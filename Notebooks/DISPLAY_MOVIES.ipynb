{
 "cells": [
  {
   "cell_type": "code",
   "execution_count": 67,
   "metadata": {},
   "outputs": [
    {
     "name": "stdout",
     "output_type": "stream",
     "text": [
      "movie_MNIST_increase_test_ZWHERE_v3_vae_bg.gif\r\n",
      "movie_MNIST_increase_test_ZWHERE_v3_vae_map.gif\r\n",
      "movie_MNIST_increase_test_ZWHERE_v3_vae_rec.gif\r\n"
     ]
    },
    {
     "data": {
      "text/html": [
       "./MOVIES/<br>\n",
       "&nbsp;&nbsp;<a href='./MOVIES/movie_MNIST_increase_test_ZWHERE_v3_vae_rec.gif' target='_blank'>movie_MNIST_increase_test_ZWHERE_v3_vae_rec.gif</a><br>\n",
       "&nbsp;&nbsp;<a href='./MOVIES/movie_MNIST_increase_test_ZWHERE_v3_vae_bg.gif' target='_blank'>movie_MNIST_increase_test_ZWHERE_v3_vae_bg.gif</a><br>\n",
       "&nbsp;&nbsp;<a href='./MOVIES/movie_MNIST_increase_test_ZWHERE_v3_vae_map.gif' target='_blank'>movie_MNIST_increase_test_ZWHERE_v3_vae_map.gif</a><br>"
      ],
      "text/plain": [
       "./MOVIES/\n",
       "  movie_MNIST_increase_test_ZWHERE_v3_vae_rec.gif\n",
       "  movie_MNIST_increase_test_ZWHERE_v3_vae_bg.gif\n",
       "  movie_MNIST_increase_test_ZWHERE_v3_vae_map.gif"
      ]
     },
     "execution_count": 67,
     "metadata": {},
     "output_type": "execute_result"
    }
   ],
   "source": [
    "from IPython.display import HTML, FileLinks\n",
    "import moviepy.editor as mpy\n",
    "\n",
    "!ls MOVIES/\n",
    "FileLinks(\"./MOVIES\")"
   ]
  },
  {
   "cell_type": "code",
   "execution_count": 65,
   "metadata": {},
   "outputs": [],
   "source": [
    "movie_bg = \"movie_MNIST_increase_test_ZWHERE_v3_vae_bg.gif\"\n",
    "movie_map = \"movie_MNIST_increase_test_ZWHERE_v3_vae_map.gif\"\n",
    "movie_rec = \"movie_MNIST_increase_test_ZWHERE_v3_vae_rec.gif\""
   ]
  },
  {
   "cell_type": "code",
   "execution_count": 66,
   "metadata": {},
   "outputs": [
    {
     "data": {
      "text/html": [
       "<img src=movie_MNIST_increase_test_ZWHERE_v3_vae_bg.gif></img>"
      ],
      "text/plain": [
       "<IPython.core.display.HTML object>"
      ]
     },
     "execution_count": 66,
     "metadata": {},
     "output_type": "execute_result"
    }
   ],
   "source": [
    "display.HTML(\"<img src=\"+movie_bg+\"></img>\")"
   ]
  },
  {
   "cell_type": "code",
   "execution_count": 68,
   "metadata": {},
   "outputs": [
    {
     "data": {
      "text/html": [
       "<img src=movie_MNIST_increase_test_ZWHERE_v3_vae_map.gif></img>"
      ],
      "text/plain": [
       "<IPython.core.display.HTML object>"
      ]
     },
     "execution_count": 68,
     "metadata": {},
     "output_type": "execute_result"
    }
   ],
   "source": [
    "display.HTML(\"<img src=\"+movie_map+\"></img>\")"
   ]
  },
  {
   "cell_type": "code",
   "execution_count": 69,
   "metadata": {},
   "outputs": [
    {
     "data": {
      "text/html": [
       "<img src=movie_MNIST_increase_test_ZWHERE_v3_vae_rec.gif></img>"
      ],
      "text/plain": [
       "<IPython.core.display.HTML object>"
      ]
     },
     "execution_count": 69,
     "metadata": {},
     "output_type": "execute_result"
    }
   ],
   "source": [
    "display.HTML(\"<img src=\"+movie_rec+\"></img>\")"
   ]
  }
 ],
 "metadata": {
  "kernelspec": {
   "display_name": "Python [conda env:pyro] *",
   "language": "python",
   "name": "conda-env-pyro-py"
  },
  "language_info": {
   "codemirror_mode": {
    "name": "ipython",
    "version": 3
   },
   "file_extension": ".py",
   "mimetype": "text/x-python",
   "name": "python",
   "nbconvert_exporter": "python",
   "pygments_lexer": "ipython3",
   "version": "3.7.3"
  }
 },
 "nbformat": 4,
 "nbformat_minor": 2
}
