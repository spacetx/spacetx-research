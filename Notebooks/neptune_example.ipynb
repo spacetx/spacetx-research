{
 "cells": [
  {
   "cell_type": "code",
   "execution_count": 3,
   "metadata": {},
   "outputs": [
    {
     "name": "stdout",
     "output_type": "stream",
     "text": [
      "Requirement already satisfied: neptune-client in /Users/ldalessi/anaconda3/envs/pyro/lib/python3.8/site-packages (0.4.110)\n",
      "Requirement already satisfied: GitPython>=2.0.8 in /Users/ldalessi/anaconda3/envs/pyro/lib/python3.8/site-packages (from neptune-client) (3.1.1)\n",
      "Requirement already satisfied: PyJWT in /Users/ldalessi/anaconda3/envs/pyro/lib/python3.8/site-packages (from neptune-client) (1.7.1)\n",
      "Requirement already satisfied: websocket-client>=0.35.0 in /Users/ldalessi/anaconda3/envs/pyro/lib/python3.8/site-packages (from neptune-client) (0.57.0)\n",
      "Requirement already satisfied: bravado in /Users/ldalessi/anaconda3/envs/pyro/lib/python3.8/site-packages (from neptune-client) (10.6.0)\n",
      "Requirement already satisfied: six>=1.12.0 in /Users/ldalessi/anaconda3/envs/pyro/lib/python3.8/site-packages (from neptune-client) (1.14.0)\n",
      "Requirement already satisfied: pandas in /Users/ldalessi/anaconda3/envs/pyro/lib/python3.8/site-packages (from neptune-client) (1.0.3)\n",
      "Requirement already satisfied: py3nvml in /Users/ldalessi/anaconda3/envs/pyro/lib/python3.8/site-packages (from neptune-client) (0.2.5)\n",
      "Requirement already satisfied: click>=7.0 in /Users/ldalessi/anaconda3/envs/pyro/lib/python3.8/site-packages (from neptune-client) (7.1.1)\n",
      "Requirement already satisfied: oauthlib>=2.1.0 in /Users/ldalessi/anaconda3/envs/pyro/lib/python3.8/site-packages (from neptune-client) (3.0.1)\n",
      "Requirement already satisfied: requests-oauthlib>=1.0.0 in /Users/ldalessi/anaconda3/envs/pyro/lib/python3.8/site-packages (from neptune-client) (1.2.0)\n",
      "Requirement already satisfied: Pillow>=1.1.6 in /Users/ldalessi/anaconda3/envs/pyro/lib/python3.8/site-packages (from neptune-client) (7.0.0)\n",
      "Requirement already satisfied: future>=0.17.1 in /Users/ldalessi/anaconda3/envs/pyro/lib/python3.8/site-packages (from neptune-client) (0.18.2)\n",
      "Requirement already satisfied: requests>=2.20.0 in /Users/ldalessi/anaconda3/envs/pyro/lib/python3.8/site-packages (from neptune-client) (2.23.0)\n",
      "Requirement already satisfied: gitdb<5,>=4.0.1 in /Users/ldalessi/anaconda3/envs/pyro/lib/python3.8/site-packages (from GitPython>=2.0.8->neptune-client) (4.0.4)\n",
      "Requirement already satisfied: monotonic in /Users/ldalessi/anaconda3/envs/pyro/lib/python3.8/site-packages (from bravado->neptune-client) (1.5)\n",
      "Requirement already satisfied: simplejson in /Users/ldalessi/anaconda3/envs/pyro/lib/python3.8/site-packages (from bravado->neptune-client) (3.17.0)\n",
      "Requirement already satisfied: pyyaml in /Users/ldalessi/anaconda3/envs/pyro/lib/python3.8/site-packages (from bravado->neptune-client) (5.3.1)\n",
      "Requirement already satisfied: bravado-core>=5.16.1 in /Users/ldalessi/anaconda3/envs/pyro/lib/python3.8/site-packages (from bravado->neptune-client) (5.17.0)\n",
      "Requirement already satisfied: typing-extensions in /Users/ldalessi/anaconda3/envs/pyro/lib/python3.8/site-packages (from bravado->neptune-client) (3.7.4.2)\n",
      "Requirement already satisfied: msgpack-python in /Users/ldalessi/anaconda3/envs/pyro/lib/python3.8/site-packages (from bravado->neptune-client) (0.5.6)\n",
      "Requirement already satisfied: python-dateutil in /Users/ldalessi/anaconda3/envs/pyro/lib/python3.8/site-packages (from bravado->neptune-client) (2.8.1)\n",
      "Requirement already satisfied: numpy>=1.13.3 in /Users/ldalessi/anaconda3/envs/pyro/lib/python3.8/site-packages (from pandas->neptune-client) (1.18.1)\n",
      "Requirement already satisfied: pytz>=2017.2 in /Users/ldalessi/anaconda3/envs/pyro/lib/python3.8/site-packages (from pandas->neptune-client) (2019.3)\n",
      "Requirement already satisfied: xmltodict in /Users/ldalessi/anaconda3/envs/pyro/lib/python3.8/site-packages (from py3nvml->neptune-client) (0.12.0)\n",
      "Requirement already satisfied: urllib3!=1.25.0,!=1.25.1,<1.26,>=1.21.1 in /Users/ldalessi/anaconda3/envs/pyro/lib/python3.8/site-packages (from requests>=2.20.0->neptune-client) (1.25.9)\n",
      "Requirement already satisfied: certifi>=2017.4.17 in /Users/ldalessi/anaconda3/envs/pyro/lib/python3.8/site-packages (from requests>=2.20.0->neptune-client) (2020.4.5.1)\n",
      "Requirement already satisfied: chardet<4,>=3.0.2 in /Users/ldalessi/anaconda3/envs/pyro/lib/python3.8/site-packages (from requests>=2.20.0->neptune-client) (3.0.4)\n",
      "Requirement already satisfied: idna<3,>=2.5 in /Users/ldalessi/anaconda3/envs/pyro/lib/python3.8/site-packages (from requests>=2.20.0->neptune-client) (2.9)\n",
      "Requirement already satisfied: smmap<4,>=3.0.1 in /Users/ldalessi/anaconda3/envs/pyro/lib/python3.8/site-packages (from gitdb<5,>=4.0.1->GitPython>=2.0.8->neptune-client) (3.0.2)\n",
      "Requirement already satisfied: swagger-spec-validator>=2.0.1 in /Users/ldalessi/anaconda3/envs/pyro/lib/python3.8/site-packages (from bravado-core>=5.16.1->bravado->neptune-client) (2.5.0)\n",
      "Requirement already satisfied: jsonschema[format]>=2.5.1 in /Users/ldalessi/anaconda3/envs/pyro/lib/python3.8/site-packages (from bravado-core>=5.16.1->bravado->neptune-client) (3.2.0)\n",
      "Requirement already satisfied: msgpack>=0.5.2 in /Users/ldalessi/anaconda3/envs/pyro/lib/python3.8/site-packages (from bravado-core>=5.16.1->bravado->neptune-client) (1.0.0)\n",
      "Requirement already satisfied: jsonref in /Users/ldalessi/anaconda3/envs/pyro/lib/python3.8/site-packages (from bravado-core>=5.16.1->bravado->neptune-client) (0.2)\n",
      "Requirement already satisfied: pyrsistent>=0.14.0 in /Users/ldalessi/anaconda3/envs/pyro/lib/python3.8/site-packages (from jsonschema[format]>=2.5.1->bravado-core>=5.16.1->bravado->neptune-client) (0.16.0)\n",
      "Requirement already satisfied: attrs>=17.4.0 in /Users/ldalessi/anaconda3/envs/pyro/lib/python3.8/site-packages (from jsonschema[format]>=2.5.1->bravado-core>=5.16.1->bravado->neptune-client) (19.3.0)\n",
      "Requirement already satisfied: setuptools in /Users/ldalessi/anaconda3/envs/pyro/lib/python3.8/site-packages (from jsonschema[format]>=2.5.1->bravado-core>=5.16.1->bravado->neptune-client) (46.0.0.post20200311)\n",
      "Requirement already satisfied: strict-rfc3339; extra == \"format\" in /Users/ldalessi/anaconda3/envs/pyro/lib/python3.8/site-packages (from jsonschema[format]>=2.5.1->bravado-core>=5.16.1->bravado->neptune-client) (0.7)\n",
      "Requirement already satisfied: webcolors; extra == \"format\" in /Users/ldalessi/anaconda3/envs/pyro/lib/python3.8/site-packages (from jsonschema[format]>=2.5.1->bravado-core>=5.16.1->bravado->neptune-client) (1.11.1)\n",
      "Requirement already satisfied: rfc3987; extra == \"format\" in /Users/ldalessi/anaconda3/envs/pyro/lib/python3.8/site-packages (from jsonschema[format]>=2.5.1->bravado-core>=5.16.1->bravado->neptune-client) (1.3.8)\n",
      "Requirement already satisfied: jsonpointer>1.13; extra == \"format\" in /Users/ldalessi/anaconda3/envs/pyro/lib/python3.8/site-packages (from jsonschema[format]>=2.5.1->bravado-core>=5.16.1->bravado->neptune-client) (2.0)\n",
      "Collecting psutil\n",
      "  Downloading psutil-5.7.0.tar.gz (449 kB)\n",
      "\u001b[K     |████████████████████████████████| 449 kB 3.1 MB/s eta 0:00:01\n",
      "\u001b[?25hBuilding wheels for collected packages: psutil\n",
      "  Building wheel for psutil (setup.py) ... \u001b[?25ldone\n",
      "\u001b[?25h  Created wheel for psutil: filename=psutil-5.7.0-cp38-cp38-macosx_10_9_x86_64.whl size=226943 sha256=49be2c62d0d2f975cb64f960ee46a57cfc81dfe8706c717fcdaa94908b0c6a03\n",
      "  Stored in directory: /Users/ldalessi/Library/Caches/pip/wheels/90/c9/b6/04665702b01dbd9ee92a05e834b627948ed01cdd482e6a78e1\n",
      "Successfully built psutil\n",
      "Installing collected packages: psutil\n",
      "Successfully installed psutil-5.7.0\n"
     ]
    }
   ],
   "source": [
    "#!pip install neptune-client\n",
    "!pip install psutil"
   ]
  },
  {
   "cell_type": "code",
   "execution_count": 5,
   "metadata": {},
   "outputs": [
    {
     "name": "stdout",
     "output_type": "stream",
     "text": [
      "Requirement already satisfied: psutil in /Users/ldalessi/anaconda3/envs/pyro/lib/python3.8/site-packages (5.7.0)\r\n"
     ]
    }
   ],
   "source": [
    "!pip install psutil"
   ]
  },
  {
   "cell_type": "code",
   "execution_count": 6,
   "metadata": {},
   "outputs": [
    {
     "name": "stderr",
     "output_type": "stream",
     "text": [
      "psutil is not installed. You will not be able to abort this experiment from the UI.\n",
      "psutil is not installed. Hardware metrics will not be collected.\n"
     ]
    },
    {
     "name": "stdout",
     "output_type": "stream",
     "text": [
      "https://ui.neptune.ai/dalessioluca/sandbox/e/SAN-3\n"
     ]
    }
   ],
   "source": [
    "import neptune\n",
    "\n",
    "# The init() function called this way assumes that \n",
    "# NEPTUNE_API_TOKEN environment variable is defined.\n",
    "\n",
    "neptune.init('dalessioluca/sandbox')\n",
    "neptune.create_experiment(name='minimal_example')\n",
    "\n",
    "# log some metrics\n",
    "\n",
    "for i in range(100):\n",
    "    neptune.log_metric('loss', 0.95**i)\n",
    "\n",
    "neptune.log_metric('AUC', 0.96)"
   ]
  },
  {
   "cell_type": "code",
   "execution_count": null,
   "metadata": {},
   "outputs": [],
   "source": []
  }
 ],
 "metadata": {
  "kernelspec": {
   "display_name": "Python 3",
   "language": "python",
   "name": "python3"
  },
  "language_info": {
   "codemirror_mode": {
    "name": "ipython",
    "version": 3
   },
   "file_extension": ".py",
   "mimetype": "text/x-python",
   "name": "python",
   "nbconvert_exporter": "python",
   "pygments_lexer": "ipython3",
   "version": "3.8.2"
  }
 },
 "nbformat": 4,
 "nbformat_minor": 4
}
