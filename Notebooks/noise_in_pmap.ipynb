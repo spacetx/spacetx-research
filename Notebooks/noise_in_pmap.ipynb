{
 "cells": [
  {
   "cell_type": "code",
   "execution_count": 1,
   "metadata": {},
   "outputs": [],
   "source": [
    "%matplotlib inline\n",
    "import matplotlib.pyplot as plt\n",
    "import torch.nn.functional as F\n",
    "\n",
    "\n",
    "from MODULES.utilities import show_batch, save_obj, load_obj \n",
    "from MODULES.utilities import load_json_as_dict, save_dict_as_json, DatasetInMemory\n",
    "from MODULES.utilities import train_one_epoch, evaluate_one_epoch, test_model, linear_interpolation\n",
    "from MODULES.vae_model import CompositionalVae\n",
    "\n",
    "#!pip install moviepy\n",
    "from IPython.display import Image, display, HTML\n",
    "import moviepy.editor as mpy\n",
    "import numpy as np\n",
    "import torch\n",
    "import pyro\n",
    "from pyro.infer import SVI, Trace_ELBO #,TraceEnum_ELBO, TraceGraph_ELBO, config_enumerate, JitTraceEnum_ELBO \n"
   ]
  },
  {
   "cell_type": "code",
   "execution_count": 2,
   "metadata": {},
   "outputs": [
    {
     "name": "stdout",
     "output_type": "stream",
     "text": [
      "torch.Size([8, 1, 10, 10])\n"
     ]
    },
    {
     "data": {
      "image/png": "[encoded data removed]",
      "text/plain": [
       "<Figure size 432x288 with 1 Axes>"
      ]
     },
     "execution_count": 2,
     "metadata": {},
     "output_type": "execute_result"
    }
   ],
   "source": [
    "batch_size,ch,w,h = 8, 1, 10, 10\n",
    "n_peak = 6\n",
    "\n",
    "\n",
    "ix = (w*torch.rand(batch_size,n_peak)).long()\n",
    "iy = (h*torch.rand(batch_size,n_peak)).long()\n",
    "pmap = torch.zeros(batch_size,w,h)\n",
    "for b in range(batch_size):\n",
    "    for n in range(n_peak):\n",
    "        pmap[b,ix[b,n],iy[b,n]]=1.0\n",
    "        \n",
    "pmap = pmap.unsqueeze(-3)\n",
    "print(pmap.shape)\n",
    "\n",
    "show_batch(pmap, n_col=4, n_padding=4, title=\"pmap\")"
   ]
  },
  {
   "cell_type": "code",
   "execution_count": 140,
   "metadata": {},
   "outputs": [
    {
     "name": "stdout",
     "output_type": "stream",
     "text": [
      "tensor([6., 5., 6., 6., 6., 6., 6., 6.])\n"
     ]
    },
    {
     "data": {
      "image/png": "[encoded data removed]",
      "text/plain": [
       "<Figure size 432x288 with 2 Axes>"
      ]
     },
     "metadata": {
      "needs_background": "light"
     },
     "output_type": "display_data"
    }
   ],
   "source": [
    "class PSF:\n",
    "    \"\"\" Compute int dr dr' U(|r-r'|) p(r') p(r) =\n",
    "        int dr p(r) [int dr' U(|r-r'|) p(r') ]\n",
    "        The double sum can be avoided by making the convolution in square bracket first.\n",
    "        The potential has the form exp(-0.5 * (r/sdt)^2)\n",
    "    \"\"\"\n",
    "    \n",
    "    def __init__(self, std_potential, concentration_0, concentration_other):\n",
    "        self.c0 = concentration_0\n",
    "        self.c_other = concentration_other \n",
    "        self.length_scale = std_potential\n",
    "\n",
    "        # make a gaussian kernel exp(-0.5*(x/l)^2)\n",
    "        radius = 3 * self.length_scale # this guarantees that the interaction potential goes to zero at the edges\n",
    "        self.radius_rounded = int(radius) + 1\n",
    "        x_mat = torch.linspace(-self.radius_rounded, \n",
    "                               self.radius_rounded, \n",
    "                               steps=2 * self.radius_rounded + 1).view(-1, 1).float()\n",
    "        y_mat = x_mat.clone().permute(1, 0)\n",
    "        r2 = (x_mat ** 2 + y_mat ** 2) / (self.length_scale * self.length_scale)\n",
    "        kernel = torch.exp(-0.5 * r2)\n",
    "        self.kernel = (kernel /torch.sum(kernel)).detach()\n",
    "       \n",
    "    def _apply_psf(self, x=None):\n",
    "        # make sure member variables are on the correct device\n",
    "        if self.kernel.device != x.device:\n",
    "            self.kernel = self.kernel.to(x.device)\n",
    "       \n",
    "        pad = int((self.kernel.shape[-1]-1)*0.5)\n",
    "        return F.conv2d(input=x,\n",
    "                        weight=self.kernel[None, None, ...],\n",
    "                        bias=None,\n",
    "                        stride=1,\n",
    "                        padding=pad,\n",
    "                        dilation=1,\n",
    "                        groups=1)\n",
    "    \n",
    "    def _apply_4_shifts(self, x, shift_size=1):\n",
    "        input_padded = F.pad(x, pad=(shift_size,shift_size,shift_size,shift_size), \n",
    "                             mode='constant', value=0.0)\n",
    "        shift0 = input_padded[..., shift_size:-shift_size, shift_size:-shift_size]\n",
    "        shift1 = input_padded[..., :-2*shift_size, shift_size:-shift_size]\n",
    "        shift2 = input_padded[..., 2*shift_size:, shift_size:-shift_size]\n",
    "        shift3 = input_padded[..., shift_size:-shift_size, :-2*shift_size]\n",
    "        shift4 = input_padded[..., shift_size:-shift_size, 2*shift_size:]\n",
    "        return torch.stack((shift0,shift1,shift2,shift3,shift4), dim=-1)  # stack along a new dimension\n",
    "    \n",
    "    def _combine_all_shifts(self, x):\n",
    "        batch, ch, w, h, n = x.shape\n",
    "        other_concentration = self.c_other * torch.ones([n-1])\n",
    "        zeroth_concentration = self.c0 * torch.ones([1])\n",
    "        concentration = torch.cat((zeroth_concentration, other_concentration), dim=0)\n",
    "        assert concentration.shape[0] == n\n",
    "        m = dist.Dirichlet(concentration)\n",
    "        weight = m.sample([batch,1,w,h])  # all channels will be treated equally        \n",
    "        return torch.sum(x*weight, dim=-1)  # sum over the n dimension\n",
    "    \n",
    "    def make_noisy_pmap(self, x, shift_size=1):\n",
    "        x1 = self._apply_psf(x)\n",
    "        x2 = self._apply_4_shifts(x1, shift_size)\n",
    "        x3 = self._combine_all_shifts(x2)\n",
    "        return x3\n",
    "        \n",
    "\n",
    "plt.imshow(pmap[0,0])\n",
    "plt.colorbar()\n",
    "print(torch.sum(pmap, dim=(-1,-2,-3)))"
   ]
  },
  {
   "cell_type": "code",
   "execution_count": 141,
   "metadata": {},
   "outputs": [
    {
     "name": "stdout",
     "output_type": "stream",
     "text": [
      "tensor([5.7861, 4.9995, 5.6796, 5.8920, 5.8922, 5.3823, 5.8930, 5.4662])\n"
     ]
    },
    {
     "data": {
      "image/png": "[encoded data removed]",
      "text/plain": [
       "<Figure size 432x288 with 2 Axes>"
      ]
     },
     "metadata": {
      "needs_background": "light"
     },
     "output_type": "display_data"
    }
   ],
   "source": [
    "psf = PSF(std_potential=0.5, concentration_0=0.5, concentration_other=0.1)\n",
    "tmp=psf._apply_psf(pmap)\n",
    "plt.imshow(tmp[0,0])\n",
    "plt.colorbar()\n",
    "print(torch.sum(tmp, dim=(-1,-2,-3)))"
   ]
  },
  {
   "cell_type": "code",
   "execution_count": 153,
   "metadata": {},
   "outputs": [
    {
     "name": "stdout",
     "output_type": "stream",
     "text": [
      "tensor([4.8751, 4.7859, 4.9454, 5.9087, 6.1940, 5.3577, 5.2229, 5.5991])\n"
     ]
    },
    {
     "data": {
      "image/png": "[encoded data removed]",
      "text/plain": [
       "<Figure size 432x288 with 2 Axes>"
      ]
     },
     "metadata": {
      "needs_background": "light"
     },
     "output_type": "display_data"
    }
   ],
   "source": [
    "pmap_noisy = psf.make_noisy_pmap(pmap)\n",
    "plt.imshow(pmap_noisy[0,0])\n",
    "plt.colorbar()\n",
    "print(torch.sum(pmap_noisy, dim=(-1,-2,-3)))"
   ]
  },
  {
   "cell_type": "code",
   "execution_count": 144,
   "metadata": {},
   "outputs": [
    {
     "name": "stdout",
     "output_type": "stream",
     "text": [
      "torch.Size([8, 1, 10, 10])\n"
     ]
    }
   ],
   "source": [
    "pmap_with_psf = psf._apply_psf(pmap)\n",
    "print(pmap_with_psf.shape)"
   ]
  },
  {
   "cell_type": "code",
   "execution_count": 101,
   "metadata": {},
   "outputs": [
    {
     "data": {
      "text/plain": [
       "<matplotlib.image.AxesImage at 0x1c27fc09b0>"
      ]
     },
     "execution_count": 101,
     "metadata": {},
     "output_type": "execute_result"
    },
    {
     "data": {
      "image/png": "[encoded data removed]",
      "text/plain": [
       "<Figure size 432x288 with 1 Axes>"
      ]
     },
     "metadata": {
      "needs_background": "light"
     },
     "output_type": "display_data"
    }
   ],
   "source": [
    "plt.imshow(pmap[0,0])"
   ]
  },
  {
   "cell_type": "code",
   "execution_count": 102,
   "metadata": {},
   "outputs": [
    {
     "data": {
      "text/plain": [
       "<matplotlib.image.AxesImage at 0x1c28074e48>"
      ]
     },
     "execution_count": 102,
     "metadata": {},
     "output_type": "execute_result"
    },
    {
     "data": {
      "image/png": "[encoded data removed]",
      "text/plain": [
       "<Figure size 432x288 with 1 Axes>"
      ]
     },
     "metadata": {
      "needs_background": "light"
     },
     "output_type": "display_data"
    }
   ],
   "source": [
    "plt.imshow(pmap_with_psf[0,0])"
   ]
  },
  {
   "cell_type": "code",
   "execution_count": 103,
   "metadata": {},
   "outputs": [
    {
     "name": "stdout",
     "output_type": "stream",
     "text": [
      "torch.Size([8, 1, 10, 10, 5])\n"
     ]
    },
    {
     "data": {
      "text/plain": [
       "<matplotlib.colorbar.Colorbar at 0x1c281fb358>"
      ]
     },
     "execution_count": 103,
     "metadata": {},
     "output_type": "execute_result"
    },
    {
     "data": {
      "image/png": "[encoded data removed]",
      "text/plain": [
       "<Figure size 432x288 with 2 Axes>"
      ]
     },
     "metadata": {
      "needs_background": "light"
     },
     "output_type": "display_data"
    }
   ],
   "source": [
    "pmap_shifted = psf.apply_4_shifts(pmap,shift_size=1)\n",
    "print(pmap_shifted.shape)\n",
    "aa = torch.sum(pmap_shifted, dim=-1)\n",
    "plt.imshow(aa[0,0])\n",
    "plt.colorbar()"
   ]
  },
  {
   "cell_type": "code",
   "execution_count": 108,
   "metadata": {},
   "outputs": [
    {
     "name": "stdout",
     "output_type": "stream",
     "text": [
      "torch.Size([8, 1, 10, 10])\n"
     ]
    },
    {
     "data": {
      "text/plain": [
       "<matplotlib.colorbar.Colorbar at 0x1c28341d30>"
      ]
     },
     "execution_count": 108,
     "metadata": {},
     "output_type": "execute_result"
    },
    {
     "data": {
      "image/png": "[encoded data removed]",
      "text/plain": [
       "<Figure size 432x288 with 2 Axes>"
      ]
     },
     "metadata": {
      "needs_background": "light"
     },
     "output_type": "display_data"
    }
   ],
   "source": [
    "bb = psf.combine_all_shifts(pmap_shifted)\n",
    "print(bb.shape)\n",
    "plt.imshow(bb[0,0])\n",
    "plt.colorbar()"
   ]
  },
  {
   "cell_type": "code",
   "execution_count": 105,
   "metadata": {},
   "outputs": [
    {
     "ename": "AssertionError",
     "evalue": "",
     "output_type": "error",
     "traceback": [
      "\u001b[0;31m---------------------------------------------------------------------------\u001b[0m",
      "\u001b[0;31mAssertionError\u001b[0m                            Traceback (most recent call last)",
      "\u001b[0;32m<ipython-input-105-878f1c9f22b4>\u001b[0m in \u001b[0;36m<module>\u001b[0;34m\u001b[0m\n\u001b[0;32m----> 1\u001b[0;31m \u001b[0mshow_batch\u001b[0m\u001b[0;34m(\u001b[0m\u001b[0mpmap_shifted\u001b[0m\u001b[0;34m[\u001b[0m\u001b[0;36m0\u001b[0m\u001b[0;34m]\u001b[0m\u001b[0;34m.\u001b[0m\u001b[0munsqueeze\u001b[0m\u001b[0;34m(\u001b[0m\u001b[0;36m1\u001b[0m\u001b[0;34m)\u001b[0m\u001b[0;34m,\u001b[0m \u001b[0mn_col\u001b[0m\u001b[0;34m=\u001b[0m\u001b[0;36m5\u001b[0m\u001b[0;34m,\u001b[0m \u001b[0mn_padding\u001b[0m\u001b[0;34m=\u001b[0m\u001b[0;36m4\u001b[0m\u001b[0;34m,\u001b[0m \u001b[0mtitle\u001b[0m\u001b[0;34m=\u001b[0m\u001b[0;34m\"shifts\"\u001b[0m\u001b[0;34m)\u001b[0m\u001b[0;34m\u001b[0m\u001b[0;34m\u001b[0m\u001b[0m\n\u001b[0m",
      "\u001b[0;32m~/DAPI_unsupervised/spacetx-research/MODULES/utilities.py\u001b[0m in \u001b[0;36mshow_batch\u001b[0;34m(images, n_col, n_padding, title, pad_value)\u001b[0m\n\u001b[1;32m     12\u001b[0m \u001b[0;32mdef\u001b[0m \u001b[0mshow_batch\u001b[0m\u001b[0;34m(\u001b[0m\u001b[0mimages\u001b[0m\u001b[0;34m,\u001b[0m \u001b[0mn_col\u001b[0m\u001b[0;34m=\u001b[0m\u001b[0;36m4\u001b[0m\u001b[0;34m,\u001b[0m \u001b[0mn_padding\u001b[0m\u001b[0;34m=\u001b[0m\u001b[0;36m10\u001b[0m\u001b[0;34m,\u001b[0m \u001b[0mtitle\u001b[0m\u001b[0;34m=\u001b[0m\u001b[0;32mNone\u001b[0m\u001b[0;34m,\u001b[0m \u001b[0mpad_value\u001b[0m\u001b[0;34m=\u001b[0m\u001b[0;36m1\u001b[0m\u001b[0;34m)\u001b[0m\u001b[0;34m:\u001b[0m\u001b[0;34m\u001b[0m\u001b[0;34m\u001b[0m\u001b[0m\n\u001b[1;32m     13\u001b[0m     \u001b[0;34m\"\"\"Visualize a torch tensor of shape: (batch x ch x width x height) \"\"\"\u001b[0m\u001b[0;34m\u001b[0m\u001b[0;34m\u001b[0m\u001b[0m\n\u001b[0;32m---> 14\u001b[0;31m     \u001b[0;32massert\u001b[0m \u001b[0mlen\u001b[0m\u001b[0;34m(\u001b[0m\u001b[0mimages\u001b[0m\u001b[0;34m.\u001b[0m\u001b[0mshape\u001b[0m\u001b[0;34m)\u001b[0m \u001b[0;34m==\u001b[0m \u001b[0;36m4\u001b[0m  \u001b[0;31m# batch, ch, width, height\u001b[0m\u001b[0;34m\u001b[0m\u001b[0;34m\u001b[0m\u001b[0m\n\u001b[0m\u001b[1;32m     15\u001b[0m     \u001b[0;32mif\u001b[0m \u001b[0mimages\u001b[0m\u001b[0;34m.\u001b[0m\u001b[0mdevice\u001b[0m \u001b[0;34m!=\u001b[0m \u001b[0;34m\"cpu\"\u001b[0m\u001b[0;34m:\u001b[0m\u001b[0;34m\u001b[0m\u001b[0;34m\u001b[0m\u001b[0m\n\u001b[1;32m     16\u001b[0m         \u001b[0mimages\u001b[0m \u001b[0;34m=\u001b[0m \u001b[0mimages\u001b[0m\u001b[0;34m.\u001b[0m\u001b[0mcpu\u001b[0m\u001b[0;34m(\u001b[0m\u001b[0;34m)\u001b[0m\u001b[0;34m\u001b[0m\u001b[0;34m\u001b[0m\u001b[0m\n",
      "\u001b[0;31mAssertionError\u001b[0m: "
     ]
    }
   ],
   "source": [
    "show_batch(pmap_shifted[0].unsqueeze(1), n_col=5, n_padding=4, title=\"shifts\")"
   ]
  },
  {
   "cell_type": "code",
   "execution_count": 81,
   "metadata": {},
   "outputs": [
    {
     "name": "stdout",
     "output_type": "stream",
     "text": [
      "input_padded.shape torch.Size([8, 1, 14, 14])\n",
      "8 torch.Size([1, 5, 10, 10])\n"
     ]
    }
   ],
   "source": [
    "def combine_4_shifts(input):\n",
    "    batch, ch, w, h, n = input.shape\n",
    "    assert ch == 1\n",
    "    input = input.squeeze(-4)\n",
    "    concentration = torch.tensor([0.2, 0.1, 0.1, 0.1, 0.1])\n",
    "    assert concentration.shape[0] == n\n",
    "    m = dist.Dirichlet(concentration)\n",
    "    weight = m.sample([batch,w,h])\n",
    "    assert weight.shape == input.shape\n",
    "    \n",
    "   \n",
    "\n",
    "a1 = apply_4_shifts(a0, size=2)\n",
    "print(len(a1),a1[0].shape)"
   ]
  },
  {
   "cell_type": "code",
   "execution_count": 33,
   "metadata": {},
   "outputs": [
    {
     "name": "stdout",
     "output_type": "stream",
     "text": [
      "tensor([[8.8166e-01, 1.4737e-07, 7.3548e-07, 1.0327e-01, 1.5071e-02],\n",
      "        [2.4456e-10, 9.9874e-01, 2.1736e-14, 3.5278e-05, 1.2270e-03],\n",
      "        [7.0948e-06, 5.1717e-01, 4.8115e-01, 1.6703e-03, 3.3253e-20],\n",
      "        [9.8505e-01, 6.4969e-08, 1.4865e-02, 8.8718e-05, 4.3266e-08],\n",
      "        [1.3055e-06, 4.0241e-01, 3.1000e-01, 1.3078e-01, 1.5680e-01],\n",
      "        [1.2857e-01, 6.5765e-08, 3.0511e-11, 2.4301e-01, 6.2842e-01],\n",
      "        [7.2190e-03, 1.2457e-16, 7.8924e-01, 1.9375e-01, 9.7959e-03],\n",
      "        [7.6603e-03, 1.6513e-02, 7.1995e-11, 2.1357e-02, 9.5447e-01],\n",
      "        [2.7417e-03, 7.8946e-08, 1.2429e-03, 9.9602e-01, 1.2923e-07],\n",
      "        [1.0889e-08, 3.4984e-05, 9.0290e-01, 9.6770e-02, 2.9552e-04]])\n",
      "tensor([[0.1538, 0.0702, 0.3799, 0.1809, 0.2152],\n",
      "        [0.0517, 0.3204, 0.1143, 0.0382, 0.4754],\n",
      "        [0.4464, 0.0742, 0.1839, 0.1293, 0.1663],\n",
      "        [0.3130, 0.0149, 0.0828, 0.3592, 0.2302],\n",
      "        [0.1757, 0.3258, 0.2309, 0.2183, 0.0493],\n",
      "        [0.0091, 0.0659, 0.0790, 0.3808, 0.4652],\n",
      "        [0.4198, 0.2540, 0.1081, 0.1797, 0.0384],\n",
      "        [0.3859, 0.0775, 0.2115, 0.1907, 0.1345],\n",
      "        [0.0753, 0.1588, 0.0398, 0.0859, 0.6401],\n",
      "        [0.1827, 0.2262, 0.1897, 0.0490, 0.3524]])\n",
      "tensor([[0.2745, 0.1620, 0.1614, 0.2159, 0.1861],\n",
      "        [0.1030, 0.1935, 0.2817, 0.2416, 0.1802],\n",
      "        [0.2394, 0.1795, 0.1589, 0.1721, 0.2502],\n",
      "        [0.2036, 0.2005, 0.1304, 0.1939, 0.2716],\n",
      "        [0.1720, 0.2072, 0.2623, 0.1531, 0.2055],\n",
      "        [0.2695, 0.2026, 0.1716, 0.1561, 0.2002],\n",
      "        [0.1742, 0.1769, 0.1497, 0.2990, 0.2002],\n",
      "        [0.1299, 0.2391, 0.2379, 0.2344, 0.1587],\n",
      "        [0.1636, 0.2474, 0.2147, 0.1070, 0.2673],\n",
      "        [0.2811, 0.2204, 0.1314, 0.1982, 0.1688]])\n",
      "tensor([[0.1942, 0.1762, 0.1985, 0.2262, 0.2050],\n",
      "        [0.1907, 0.2087, 0.2180, 0.1784, 0.2043],\n",
      "        [0.1915, 0.1968, 0.2141, 0.2032, 0.1944],\n",
      "        [0.2031, 0.1889, 0.1960, 0.2109, 0.2011],\n",
      "        [0.1955, 0.2067, 0.2077, 0.1919, 0.1982],\n",
      "        [0.2284, 0.1981, 0.2128, 0.1747, 0.1860],\n",
      "        [0.2063, 0.1975, 0.2019, 0.1999, 0.1945],\n",
      "        [0.1723, 0.1774, 0.2334, 0.2272, 0.1897],\n",
      "        [0.2001, 0.2050, 0.2206, 0.1756, 0.1986],\n",
      "        [0.1950, 0.2205, 0.1867, 0.1555, 0.2423]])\n"
     ]
    }
   ],
   "source": [
    "import torch.distributions as dist\n",
    "\n",
    "m = dist.Dirichlet(concentration=torch.tensor([0.1, 0.1, 0.1, 0.1, 0.1]))\n",
    "w = m.sample([10])\n",
    "print(w)\n",
    "\n",
    "m = dist.Dirichlet(concentration=torch.tensor([1.0, 1.0, 1.0, 1.0, 1.0]))\n",
    "w = m.sample([10])\n",
    "print(w)\n",
    "\n",
    "m = dist.Dirichlet(concentration=torch.tensor([10.0, 10.0, 10.0, 10.0, 10.0]))\n",
    "w = m.sample([10])\n",
    "print(w)\n",
    "\n",
    "\n",
    "m = dist.Dirichlet(concentration=torch.tensor([100.0, 100.0, 100.0, 100.0, 100.0]))\n",
    "w = m.sample([10])\n",
    "print(w)"
   ]
  },
  {
   "cell_type": "code",
   "execution_count": 38,
   "metadata": {},
   "outputs": [
    {
     "name": "stdout",
     "output_type": "stream",
     "text": [
      "torch.Size([60, 60, 5])\n"
     ]
    }
   ],
   "source": [
    "WIDTH,HEIGHT = 60,60\n",
    "m = dist.Dirichlet(concentration=torch.tensor([0.2, 0.1, 0.1, 0.1, 0.1]))\n",
    "w = m.sample([WIDTH,HEIGHT])\n",
    "print(w.shape)"
   ]
  },
  {
   "cell_type": "markdown",
   "metadata": {},
   "source": [
    "###### WIDTH,HEIGHT = 60,60\n",
    "m = dist.Dirichlet(concentration=torch.tensor([0.2, 0.1, 0.1, 0.1, 0.1]))\n",
    "w = m.sample([WIDTH,HEIGHT])\n",
    "print(w)"
   ]
  },
  {
   "cell_type": "code",
   "execution_count": null,
   "metadata": {},
   "outputs": [],
   "source": [
    "m = dist.Dirichlet(concentration=torch.tensor([0.5, 0.2, 0.2, 0.2, 0.2]))\n",
    "w = m.sample([10])\n",
    "print(w)"
   ]
  },
  {
   "cell_type": "code",
   "execution_count": null,
   "metadata": {},
   "outputs": [],
   "source": [
    "plt.imshow(pmap[0,0])"
   ]
  },
  {
   "cell_type": "code",
   "execution_count": 38,
   "metadata": {},
   "outputs": [
    {
     "data": {
      "text/plain": [
       "<matplotlib.image.AxesImage at 0x1c2452cb38>"
      ]
     },
     "execution_count": 38,
     "metadata": {},
     "output_type": "execute_result"
    },
    {
     "data": {
      "image/png": "[encoded data removed]",
      "text/plain": [
       "<Figure size 432x288 with 1 Axes>"
      ]
     },
     "metadata": {
      "needs_background": "light"
     },
     "output_type": "display_data"
    }
   ],
   "source": []
  },
  {
   "cell_type": "code",
   "execution_count": 28,
   "metadata": {},
   "outputs": [
    {
     "data": {
      "image/png": "[encoded data removed]",
      "text/plain": [
       "<Figure size 432x288 with 1 Axes>"
      ]
     },
     "execution_count": 28,
     "metadata": {},
     "output_type": "execute_result"
    }
   ],
   "source": [
    "show_batch(a)"
   ]
  },
  {
   "cell_type": "code",
   "execution_count": null,
   "metadata": {},
   "outputs": [],
   "source": [
    "psf_weight =   \n",
    "\n",
    "\n",
    "n_boxes, batch_size = bounding_box.bx.shape\n",
    "        small_bb = torch.ones_like(small_weight)\n",
    "        pad = int(0.5 * self.cropped_height)\n",
    "        small_weight_padded = F.pad(small_weight, (pad, pad, pad, pad), mode='constant', value=0)\n",
    "        small_bb_padded = F.pad(small_bb, (pad, pad, pad, pad), mode='constant', value=0)\n",
    "        bounding_box_few_twice_the_size = BB(bx=bounding_box.bx,\n",
    "                                             by=bounding_box.by,\n",
    "                                             bw=2 * bounding_box.bw,\n",
    "                                             bh=2 * bounding_box.bh)\n",
    "        cropped_feature_map_twice_the_size = self.cropper(bounding_box=bounding_box_few_twice_the_size,\n",
    "                                                          big_stuff=unet_features_expanded,\n",
    "                                                          width_small=2 * self.cropped_width,\n",
    "                                                          height_small=2 * self.cropped_height)\n",
    "        \n",
    "        "
   ]
  }
 ],
 "metadata": {
  "kernelspec": {
   "display_name": "Python [conda env:pyro] *",
   "language": "python",
   "name": "conda-env-pyro-py"
  },
  "language_info": {
   "codemirror_mode": {
    "name": "ipython",
    "version": 3
   },
   "file_extension": ".py",
   "mimetype": "text/x-python",
   "name": "python",
   "nbconvert_exporter": "python",
   "pygments_lexer": "ipython3",
   "version": "3.7.3"
  }
 },
 "nbformat": 4,
 "nbformat_minor": 2
}
