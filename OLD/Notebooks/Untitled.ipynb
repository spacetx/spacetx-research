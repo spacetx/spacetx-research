{
 "cells": [
  {
   "cell_type": "code",
   "execution_count": 74,
   "metadata": {},
   "outputs": [
    {
     "name": "stdout",
     "output_type": "stream",
     "text": [
      "torch.Size([8, 2, 4])\n"
     ]
    }
   ],
   "source": [
    "import torch\n",
    "\n",
    "def my_max(a, dim, keepdim=False):\n",
    "    \n",
    "    if isinstance(dim,int):\n",
    "    \n",
    "        return torch.max(a, dim, keepdim=keepdim)[0]\n",
    "    \n",
    "    elif isinstance(dim,tuple):\n",
    "        \n",
    "        list_shape = list(a.shape)\n",
    "        K = len(list_shape)\n",
    "        pos_dim= [] \n",
    "        tmp = a\n",
    "        for n in dim:\n",
    "            tmp = torch.max(tmp, dim=n, keepdim=True)[0]\n",
    "            j = n if n >= 0 else K+n\n",
    "            pos_dim.append(j)\n",
    "  \n",
    "        if keepdim:\n",
    "            return tmp\n",
    "        else:            \n",
    "            for n in sorted(pos_dim, reverse=True):\n",
    "                del list_shape[n]\n",
    "            return tmp.view(list_shape)\n",
    "        \n",
    "s_mask = torch.sigmoid(torch.randn(1,8,2,28,6,4))\n",
    "a = my_max(s_mask, dim=(-3,0,-2))\n",
    "print(a.shape)"
   ]
  },
  {
   "cell_type": "code",
   "execution_count": null,
   "metadata": {},
   "outputs": [],
   "source": []
  }
 ],
 "metadata": {
  "kernelspec": {
   "display_name": "Python [conda env:pyro] *",
   "language": "python",
   "name": "conda-env-pyro-py"
  },
  "language_info": {
   "codemirror_mode": {
    "name": "ipython",
    "version": 3
   },
   "file_extension": ".py",
   "mimetype": "text/x-python",
   "name": "python",
   "nbconvert_exporter": "python",
   "pygments_lexer": "ipython3",
   "version": "3.7.3"
  }
 },
 "nbformat": 4,
 "nbformat_minor": 2
}
