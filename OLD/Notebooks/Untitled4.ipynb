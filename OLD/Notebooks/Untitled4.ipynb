{
 "cells": [
  {
   "cell_type": "code",
   "execution_count": null,
   "metadata": {},
   "outputs": [],
   "source": [
    "import neptune\n",
    "\n",
    "# The init() function called this way assumes that \n",
    "# NEPTUNE_API_TOKEN environment variable is defined.\n",
    "\n",
    "neptune.init('dalessioluca/sandbox')\n",
    "neptune.create_experiment(name='minimal_example')\n",
    "\n",
    "# log some metrics\n",
    "\n",
    "for i in range(100):\n",
    "    neptune.log_metric('loss', 0.95**i)\n",
    "\n",
    "neptune.log_metric('AUC', 0.96)"
   ]
  }
 ],
 "metadata": {
  "kernelspec": {
   "display_name": "Python 3",
   "language": "python",
   "name": "python3"
  }
 },
 "nbformat": 4,
 "nbformat_minor": 4
}
