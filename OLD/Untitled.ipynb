{
 "cells": [
  {
   "cell_type": "code",
   "execution_count": null,
   "metadata": {},
   "outputs": [],
   "source": [
    "%load_ext autoreload\n",
    "%autoreload 2"
   ]
  },
  {
   "cell_type": "code",
   "execution_count": null,
   "metadata": {},
   "outputs": [],
   "source": [
    "%matplotlib inline\n",
    "#%matplotlib notebook\n",
    "import matplotlib.pyplot as plt"
   ]
  },
  {
   "cell_type": "code",
   "execution_count": 35,
   "metadata": {},
   "outputs": [
    {
     "name": "stdout",
     "output_type": "stream",
     "text": [
      "FieldKeys.FACILITY_NAME FACILITY_NAME 1\n",
      "FieldKeys.FACILITY_CODE FACILITY_CODE 2\n",
      "FieldKeys.FIRST_NAME FIRST_NAME 3\n",
      "FieldKeys.MIDDLE_NAME MIDDLE_NAME 4\n",
      "FieldKeys.RACE_AIOAN RACE_AIOAN 5\n",
      "FieldKeys.LAST_NAME LAST_NAME 6\n",
      "FieldKeys.RACE_BOAA RACE_BOAA 7\n",
      "FieldKeys.RACE_NHOPI RACE_NHOPI 8\n",
      "FieldKeys.RACE_ASIAN RACE_ASIAN 9\n",
      "FieldKeys.DOB_MONTH DOB_MONTH 10\n",
      "FieldKeys.DOB_DAY DOB_DAY 11\n",
      "FieldKeys.DOB_YEAR DOB_YEAR 12\n",
      "FieldKeys.RACE_WHITE RACE_WHITE 13\n",
      "FieldKeys.SEX_M SEX_M 14\n",
      "FieldKeys.SEX_F SEX_F 15\n",
      "FieldKeys.SEX_O SEX_O 16\n",
      "FieldKeys.RACE_OTHER RACE_OTHER 17\n",
      "FieldKeys.COLLECT_HOUR COLLECT_HOUR 18\n",
      "FieldKeys.COLLECT_MINUTE COLLECT_MINUTE 19\n",
      "FieldKeys.COLLECT_AM COLLECT_AM 20\n",
      "FieldKeys.COLLECT_PM COLLECT_PM 21\n",
      "FieldKeys.COLLECT_MONTH COLLECT_MONTH 22\n",
      "FieldKeys.COLLECT_DAY COLLECT_DAY 23\n",
      "FieldKeys.COLLECT_YEAR COLLECT_YEAR 24\n",
      "FieldKeys.ETHNIC_HOL ETHNIC_HOL 25\n",
      "FieldKeys.ETHNIC_NOL ETHNIC_NOL 26\n",
      "FieldKeys.SWAB_BARCODE SWAB_BARCODE 27\n",
      "FieldKeys.PHYSICIAN_NAME PHYSICIAN_NAME 28\n",
      "FieldKeys.PHYSICIAN_PHONE PHYSICIAN_PHONE 29\n",
      "FieldKeys.PATIENT_SYMPTO PATIENT_SYMPTO 30\n",
      "FieldKeys.PHYSICIAN_EMAIL PHYSICIAN_EMAIL 31\n",
      "FieldKeys.PATIENT_NON_SYMPTO PATIENT_NON_SYMPTO 32\n",
      "FieldKeys.PHYSICIAN_FAX PHYSICIAN_FAX 33\n",
      "FieldKeys.PHYSICIAN_NPI PHYSICIAN_NPI 34\n",
      "FieldKeys.PATIENT_IS_STAFF PATIENT_IS_STAFF 35\n",
      "FieldKeys.PATIENT_IS_RESIDENT PATIENT_IS_RESIDENT 36\n"
     ]
    }
   ],
   "source": [
    "from enum import Enum\n",
    "\n",
    "class FieldKeys(Enum):\n",
    "    \"\"\"Fields present in the form\"\"\"\n",
    "    FACILITY_NAME = 1  # \"facility_name\"\n",
    "    FACILITY_CODE = 2  # \"facility_code\"\n",
    "    FIRST_NAME = 3  # \"first_name\"\n",
    "    MIDDLE_NAME = 4  # \"middle_name\"\n",
    "    RACE_AIOAN = 5  # \"race_american_indian_or_alaska_native\"\n",
    "    LAST_NAME = 6  # \"last_name\"\n",
    "    RACE_BOAA = 7  # \"race_black_or_african_american\"\n",
    "    RACE_NHOPI = 8  # \"race_native_hawaiian_or_pacific_islander\"\n",
    "    RACE_ASIAN = 9  # \"race_asian\"\n",
    "    DOB_MONTH = 10  # \"date_of_birth_month\"\n",
    "    DOB_DAY = 11  # \"date_of_birth_day\"\n",
    "    DOB_YEAR = 12  # \"date_of_birth_year\"\n",
    "    RACE_WHITE = 13  # \"race_white\"\n",
    "    SEX_M = 14  # \"sex_male\"\n",
    "    SEX_F = 15  # \"sex_female\"\n",
    "    SEX_O = 16  # \"sex_other\"\n",
    "    RACE_OTHER = 17  # \"race_other\"\n",
    "    COLLECT_HOUR = 18  # \"speciman_collection_date_hour\"\n",
    "    COLLECT_MINUTE = 19  # \"speciman_collection_date_minute\"\n",
    "    COLLECT_AM = 20  # \"speciman_collection_date_am\"\n",
    "    COLLECT_PM = 21  # \"speciman_collection_date_pm\"\n",
    "    COLLECT_MONTH = 22  # \"speciman_collection_date_month\"\n",
    "    COLLECT_DAY = 23  # \"speciman_collection_date_day\"\n",
    "    COLLECT_YEAR = 24  # \"speciman_collection_date_year\"\n",
    "    ETHNIC_HOL = 25  # \"ethnicity_hispanic_or_latino\"\n",
    "    ETHNIC_NOL = 26  # \"ethnicity_nonhispanic_or_latino\"\n",
    "    SWAB_BARCODE = 27  # \"swab_tube_barcode_label\"\n",
    "    PHYSICIAN_NAME = 28  # \"requesting_physician_name\"\n",
    "    PHYSICIAN_PHONE = 29  # \"physician_phone_number\"\n",
    "    PATIENT_SYMPTO = 30  # \"patient_is_symptomatic\"\n",
    "    PHYSICIAN_EMAIL = 31  # \"requesting_physician_email\"\n",
    "    PATIENT_NON_SYMPTO = 32  # \"patient_is_asymptomatic\"\n",
    "    PHYSICIAN_FAX = 33  # \"requesting_physician_secure_fax\"\n",
    "    PHYSICIAN_NPI = 34  # \"requesting_physician_npi\"\n",
    "    PATIENT_IS_STAFF = 35  # \"patient_is_staff\"\n",
    "    PATIENT_IS_RESIDENT = 36  # \"patient_is_resident\"\n",
    "    \n",
    "#for name, member in FieldKeys.__members__.items():\n",
    "#    print(name,member,member.value,member.name)\n",
    "    \n",
    "for member in FieldKeys:\n",
    "    print(member, member.name, member.value)\n",
    "    "
   ]
  },
  {
   "cell_type": "code",
   "execution_count": 6,
   "metadata": {},
   "outputs": [],
   "source": [
    "import torch\n",
    "import torch.nn as nn\n",
    "import torch.nn.functional as F\n",
    "\n",
    "from MODULES.unet_parts import MLP_1by1"
   ]
  },
  {
   "cell_type": "code",
   "execution_count": 31,
   "metadata": {},
   "outputs": [
    {
     "name": "stdout",
     "output_type": "stream",
     "text": [
      "torch.Size([1, 1, 5, 5])\n",
      "torch.Size([1, 1, 5, 5])\n"
     ]
    }
   ],
   "source": [
    "class PredictBackground(nn.Module):\n",
    "    \"\"\" Predict the bg_mu in (0,1) by applying sigmoid\"\"\"\n",
    "    def __init__(self, ch_in: int, ch_out: int):\n",
    "        super().__init__()\n",
    "        self.predict = MLP_1by1(ch_in=ch_in, ch_out=ch_out)\n",
    "\n",
    "    def forward(self, x: torch.Tensor, background_resolution: tuple, output_resolution: tuple) -> torch.Tensor:\n",
    "        bg_mu = torch.sigmoid(self.predict(x))\n",
    "        print(bg_mu.shape)\n",
    "        small_bg_mu = F.interpolate(bg_mu, size=background_resolution, mode='bilinear', align_corners=True)\n",
    "        print(small_bg_mu.shape)\n",
    "        return F.interpolate(small_bg_mu, size=output_resolution, mode='bilinear', align_corners=True)\n",
    "\n",
    "\n",
    "small_size, small_size, large_w, large_h = 5,5,80,80\n",
    "bath_size, ch, w, h = 1,3,5,5\n",
    "x = torch.randn((bath_size, ch, w, h))\n",
    "predict_bg = PredictBackground(ch_in=ch, ch_out=1)\n",
    "bg = predict_bg(x, background_resolution=(small_size, small_size), output_resolution=(large_w, large_h))"
   ]
  },
  {
   "cell_type": "code",
   "execution_count": 30,
   "metadata": {},
   "outputs": [
    {
     "data": {
      "text/plain": [
       "<matplotlib.image.AxesImage at 0x1322dbf40>"
      ]
     },
     "execution_count": 30,
     "metadata": {},
     "output_type": "execute_result"
    },
    {
     "data": {
      "image/png": "[encoded data removed]",
      "text/plain": [
       "<Figure size 432x288 with 1 Axes>"
      ]
     },
     "metadata": {
      "needs_background": "light"
     },
     "output_type": "display_data"
    }
   ],
   "source": [
    "plt.imshow(bg[0,0].detach().cpu(), cmap='gray')"
   ]
  },
  {
   "cell_type": "code",
   "execution_count": null,
   "metadata": {},
   "outputs": [],
   "source": []
  }
 ],
 "metadata": {
  "kernelspec": {
   "display_name": "Python 3",
   "language": "python",
   "name": "python3"
  },
  "language_info": {
   "codemirror_mode": {
    "name": "ipython",
    "version": 3
   },
   "file_extension": ".py",
   "mimetype": "text/x-python",
   "name": "python",
   "nbconvert_exporter": "python",
   "pygments_lexer": "ipython3",
   "version": "3.8.2"
  }
 },
 "nbformat": 4,
 "nbformat_minor": 4
}
