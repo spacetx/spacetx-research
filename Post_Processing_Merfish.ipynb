{
 "cells": [
  {
   "cell_type": "markdown",
   "metadata": {},
   "source": [
    "## POSTPROECESSING"
   ]
  },
  {
   "cell_type": "code",
   "execution_count": 1,
   "metadata": {},
   "outputs": [],
   "source": [
    "%load_ext autoreload\n",
    "%autoreload 2"
   ]
  },
  {
   "cell_type": "code",
   "execution_count": 2,
   "metadata": {},
   "outputs": [],
   "source": [
    "# !pip install leidenalg==0.7.0"
   ]
  },
  {
   "cell_type": "code",
   "execution_count": 9,
   "metadata": {},
   "outputs": [],
   "source": [
    "%matplotlib inline\n",
    "#%matplotlib notebook\n",
    "import matplotlib.pyplot as plt\n",
    "from matplotlib import animation\n",
    "from IPython.display import HTML\n",
    "\n",
    "from MODULES.utilities import load_obj\n",
    "import torch\n",
    "import numpy\n",
    "import skimage.color\n",
    "import torch.nn.functional as F\n",
    "from MODULES.graph_clustering import *\n",
    "import time\n",
    "from typing import List, Tuple"
   ]
  },
  {
   "cell_type": "markdown",
   "metadata": {},
   "source": [
    "## Helper function"
   ]
  },
  {
   "cell_type": "code",
   "execution_count": 10,
   "metadata": {},
   "outputs": [],
   "source": [
    "def do_resolution_sweep(g, res_range, cpm_or_modularity, each_cc_separately):\n",
    "    video_list, title_list, ncell_list, iou_list, resolution_list, mi_list, sizes_list = [], [], [], [], [], [], []\n",
    "    for r in res_range:\n",
    "        partition = g.find_partition_leiden(resolution=r, \n",
    "                                            cpm_or_modularity=cpm_or_modularity,\n",
    "                                            each_cc_separately=each_cc_separately,\n",
    "                                            min_size=10)\n",
    "        concordance = partition.concordance_with_partition(other_partition=g.partition_sample_segmask)\n",
    "        \n",
    "        mi_list.append(concordance.mutual_information)\n",
    "        iou_list.append(concordance.iou)\n",
    "        seg_mask = g.partition_2_mask(partition)\n",
    "        video_list.append(seg_mask)\n",
    "        resolution_list.append(r)\n",
    "        ncell_list.append(len(partition.sizes)-1)\n",
    "        sizes_list.append(partition.sizes.cpu().numpy())\n",
    "        \n",
    "    video = torch.stack(video_list, dim=0).cpu().numpy()\n",
    "\n",
    "    mydict = {\"video\": video, \n",
    "              \"ref_image\": g.raw_image[0].cpu().numpy(), \n",
    "              \"resolution_list\": resolution_list, \n",
    "              \"ncell_list\": ncell_list,\n",
    "              \"mi_list\": mi_list,\n",
    "              \"iou_list\": iou_list,\n",
    "              \"sizes_list\": sizes_list}\n",
    "    return mydict"
   ]
  },
  {
   "cell_type": "code",
   "execution_count": 11,
   "metadata": {},
   "outputs": [],
   "source": [
    "def show_video(dictionary: dict,\n",
    "        figsize: Tuple[int, int] = (8, 4),\n",
    "        interval: int = 50,\n",
    "        nbins=10,\n",
    "        hist_range=(0,200)):\n",
    "    \"\"\"\n",
    "    :param video: an ndarray with shape (n_frames, height, width)\n",
    "    :param title: an list of lenght (n_frames)    \n",
    "    \"\"\"\n",
    "    fig, axs = plt.subplots(nrows=2, ncols=2, figsize=figsize)\n",
    "    ax_video = axs[0,0]\n",
    "    ax_image = axs[0,1]\n",
    "    ax_graph = axs[1,0]\n",
    "    ax_hist = axs[1,1]\n",
    "    \n",
    "    # image\n",
    "    ax_video.axis('off')\n",
    "    im = ax_video.imshow(skimage.color.label2rgb(dictionary[\"video\"][0, ...], bg_label=0), aspect='equal')\n",
    "    ax_video.set_title(\"title\")\n",
    "\n",
    "    # reference image\n",
    "    ax_image.axis('off')\n",
    "    _ = ax_image.imshow(dictionary[\"ref_image\"], cmap='gray', aspect='equal')\n",
    "    \n",
    "    # graph\n",
    "    color = 'tab:red'\n",
    "    _ = ax_graph.plot(dictionary[\"resolution_list\"], dictionary[\"ncell_list\"], '.--', label=\"n_cell\", color=color)\n",
    "    ax_graph.set_xlabel(\"resolution\")\n",
    "    ax_graph.set_ylabel('n_cell', color=color)\n",
    "    ax_graph.tick_params(axis='y', labelcolor=color)\n",
    "    ax_graph.legend()\n",
    "    ax_graph.grid()\n",
    "\n",
    "    ax_graph_2 = ax_graph.twinx()  # instantiate a second axes that shares the same x-axis\n",
    "    color = 'tab:green'\n",
    "    _ = ax_graph_2.plot(dictionary[\"resolution_list\"], dictionary[\"iou_list\"], '-', label=\"iou\", color=color)\n",
    "    ax_graph_2.set_ylabel('iou', color=color)\n",
    "    ax_graph_2.tick_params(axis='y', labelcolor=color)\n",
    "    ax_graph_2.legend()\n",
    "    \n",
    "    # hist\n",
    "    _ = ax_hist.hist(dictionary[\"sizes_list\"][0][1:], range=hist_range, density=False, bins=nbins)\n",
    "    ax_hist.set_title(\"title\")\n",
    "        \n",
    "    plt.tight_layout()\n",
    "    plt.close()\n",
    "    \n",
    "    def init():\n",
    "        im.set_data(dictionary[\"video\"][0, ...])\n",
    "        ax_video.set_title(\"title\")\n",
    "        ax_hist.hist(dictionary[\"sizes_list\"][0][1:], range=hist_range, density=False, bins=nbins)\n",
    "        \n",
    "    def animate(i):\n",
    "        title = 'frame={0:3d} res={1:.3f} ncell={2:2d}'.format(i,dictionary[\"resolution_list\"][i],\n",
    "                                                               dictionary[\"ncell_list\"][i])\n",
    "        ax_video.imshow(skimage.color.label2rgb(dictionary[\"video\"][i, ...], bg_label=0))\n",
    "        ax_video.set_title(title)\n",
    "        ax_hist.clear()\n",
    "        ax_hist.hist(dictionary[\"sizes_list\"][i][1:], range=hist_range, density=False, bins=nbins)\n",
    "        ax_hist.set_title(\"PDF cell size\")\n",
    "        \n",
    "    anim = animation.FuncAnimation(\n",
    "        fig, animate, init_func=init, frames=dictionary[\"video\"].shape[0],\n",
    "        interval=interval)\n",
    "    \n",
    "    return HTML(anim.to_html5_video())"
   ]
  },
  {
   "cell_type": "markdown",
   "metadata": {},
   "source": [
    "# Import files"
   ]
  },
  {
   "cell_type": "code",
   "execution_count": 12,
   "metadata": {},
   "outputs": [],
   "source": [
    "#tiling_file = \"/home/jupyter/REPOS/spacetx-research/NEW_ARCHIVE/merfish_aug_5_v1/tiling_aug7_radius5.pt\"\n",
    "#tiling_file = \"/Users/ldalessi/DAPI_unsupervised/spacetx-research/merfish_aug_5_v1/tiling.pt\"\n",
    "tiling_file = \"NEW_ARCHIVE/merfish_aug_12_v2/tiling.pt\""
   ]
  },
  {
   "cell_type": "markdown",
   "metadata": {},
   "source": [
    "# Load and plot results without normalizing the graph"
   ]
  },
  {
   "cell_type": "code",
   "execution_count": 13,
   "metadata": {},
   "outputs": [
    {
     "data": {
      "text/plain": [
       "('raw_image', 'fg_prob', 'integer_mask', 'bounding_boxes', 'similarity')"
      ]
     },
     "execution_count": 13,
     "metadata": {},
     "output_type": "execute_result"
    }
   ],
   "source": [
    "#tiling_original = torch.load(tiling_file, map_location=torch.device('cpu'))\n",
    "tiling_original = load_obj(tiling_file)\n",
    "tiling_original._fields"
   ]
  },
  {
   "cell_type": "code",
   "execution_count": 15,
   "metadata": {},
   "outputs": [
    {
     "data": {
      "text/plain": [
       "Text(0.5, 1.0, 'sample segmentation')"
      ]
     },
     "execution_count": 15,
     "metadata": {},
     "output_type": "execute_result"
    },
    {
     "data": {
      "image/png": "[encoded data removed]",
      "text/plain": [
       "<Figure size 864x864 with 3 Axes>"
      ]
     },
     "metadata": {
      "needs_background": "light"
     },
     "output_type": "display_data"
    }
   ],
   "source": [
    "\n",
    "#assert tiling_original.similarity.\n",
    "\n",
    "\n",
    "min_row, min_col, max_row, max_col = 40,60,80,100\n",
    "fig, axs = plt.subplots(ncols=3, figsize=(12,12))\n",
    "\n",
    "axs[0].imshow(tiling_original.raw_image[0,0,min_row:max_row, min_col:max_col].cpu())\n",
    "axs[1].imshow(tiling_original.fg_prob[0,0,min_row:max_row, min_col:max_col].cpu())\n",
    "axs[2].imshow(tiling_original.integer_mask[0,0,min_row:max_row, min_col:max_col].cpu())\n",
    "axs[0].set_title(\"raw image\")\n",
    "axs[1].set_title(\"fg prob\")\n",
    "axs[2].set_title(\"sample segmentation\")\n"
   ]
  },
  {
   "cell_type": "code",
   "execution_count": null,
   "metadata": {},
   "outputs": [],
   "source": [
    "g = GraphSegmentation(tiling_original, min_fg_prob=0.1, min_edge_weight=0.1, normalize_graph_edges=False)"
   ]
  },
  {
   "cell_type": "code",
   "execution_count": null,
   "metadata": {},
   "outputs": [],
   "source": [
    "#ig.plot(g.graph)"
   ]
  },
  {
   "cell_type": "code",
   "execution_count": null,
   "metadata": {},
   "outputs": [],
   "source": [
    "suggestion = g.suggest_resolution_parameter(window = None, #(min_row, min_col, max_row, max_col),\n",
    "                                            min_size = 10,\n",
    "                                            max_size = None,\n",
    "                                            cpm_or_modularity = \"cpm\",\n",
    "                                            each_cc_separately = True,\n",
    "                                            show_graph = True,\n",
    "                                            figsize = (12, 12),\n",
    "                                            fontsize = 20,\n",
    "                                            sweep_range = None) "
   ]
  },
  {
   "cell_type": "code",
   "execution_count": null,
   "metadata": {},
   "outputs": [],
   "source": [
    "suggestion.show_best(figsize=(6,6))"
   ]
  },
  {
   "cell_type": "code",
   "execution_count": null,
   "metadata": {},
   "outputs": [],
   "source": [
    "sweep = do_resolution_sweep(g, res_range=numpy.arange(0.5,5,0.5), cpm_or_modularity=\"cpm\", each_cc_separately=True)"
   ]
  },
  {
   "cell_type": "code",
   "execution_count": null,
   "metadata": {},
   "outputs": [],
   "source": [
    "show_video(dictionary=sweep, interval=500, nbins=50, hist_range=(0,600))"
   ]
  },
  {
   "cell_type": "markdown",
   "metadata": {},
   "source": [
    "# OLD"
   ]
  },
  {
   "cell_type": "markdown",
   "metadata": {},
   "source": [
    "# Examine the results"
   ]
  },
  {
   "cell_type": "code",
   "execution_count": null,
   "metadata": {},
   "outputs": [],
   "source": [
    "def plot_comparison(which_list,cpm_or_modularity):\n",
    "\n",
    "    fig, axs = plt.subplots(ncols=2, figsize=(12,6))\n",
    "    fig.suptitle(which_list+\"  \"+cpm_or_modularity, fontsize=16)\n",
    "    \n",
    "    ax0 = axs[0]\n",
    "    ax1 = axs[1]\n",
    "    ax0.set_title(\"YES_norm\")\n",
    "    ax1.set_title(\"NO_norm\")\n",
    "    if which_list == \"ncell_list\":\n",
    "        ax0.set_ylim(15,25)\n",
    "        ax1.set_ylim(15,25)\n",
    "\n",
    "    if cpm_or_modularity == \"cpm\":\n",
    "        ax0.plot(sweep_CPM_radius_10_YES_norm[\"resolution_list\"],sweep_CPM_radius_10_YES_norm[which_list], 'x--', label=\"CPM 10\",color=\"blue\")\n",
    "        ax0.plot(sweep_CPM_radius_5_YES_norm[\"resolution_list\"],sweep_CPM_radius_5_YES_norm[which_list], 'x--', label=\"CPM 5\",color=\"red\")\n",
    "        ax0.plot(sweep_CPM_radius_2_YES_norm[\"resolution_list\"],sweep_CPM_radius_2_YES_norm[which_list], 'x--', label=\"CPM 2\",color=\"green\")\n",
    "        \n",
    "        ax1.plot(sweep_CPM_radius_10_NO_norm[\"resolution_list\"],sweep_CPM_radius_10_NO_norm[which_list], 'x--', label=\"CPM 10\",color=\"blue\")\n",
    "        ax1.plot(sweep_CPM_radius_5_NO_norm[\"resolution_list\"],sweep_CPM_radius_5_NO_norm[which_list], 'x--', label=\"CPM 5\",color=\"red\")\n",
    "        ax1.plot(sweep_CPM_radius_2_NO_norm[\"resolution_list\"],sweep_CPM_radius_2_NO_norm[which_list], 'x--', label=\"CPM 2\",color=\"green\")\n",
    "    else:\n",
    "        ax0.plot(sweep_MOD_radius_10_YES_norm[\"resolution_list\"],sweep_MOD_radius_10_YES_norm[which_list], 'o-', label=\"MOD 10\",color=\"blue\")\n",
    "        ax0.plot(sweep_MOD_radius_5_YES_norm[\"resolution_list\"],sweep_MOD_radius_5_YES_norm[which_list], 'o-', label=\"MOD 5\",color=\"red\")\n",
    "        ax0.plot(sweep_MOD_radius_2_YES_norm[\"resolution_list\"],sweep_MOD_radius_2_YES_norm[which_list], 'o-', label=\"MOD 2\",color=\"green\")\n",
    "        \n",
    "        ax1.plot(sweep_MOD_radius_10_NO_norm[\"resolution_list\"],sweep_MOD_radius_10_NO_norm[which_list], 'o-', label=\"MOD 10\",color=\"blue\")\n",
    "        ax1.plot(sweep_MOD_radius_5_NO_norm[\"resolution_list\"],sweep_MOD_radius_5_NO_norm[which_list], 'o-', label=\"MOD 5\",color=\"red\")\n",
    "        ax1.plot(sweep_MOD_radius_2_NO_norm[\"resolution_list\"],sweep_MOD_radius_2_NO_norm[which_list], 'o-', label=\"MOD 2\",color=\"green\")\n",
    "       \n",
    "    ax0.grid()\n",
    "    ax0.legend()\n",
    "    ax0.set_xlabel('resolution parameter')\n",
    "    \n",
    "    ax1.grid()\n",
    "    ax1.legend()\n",
    "    ax1.set_xlabel('resolution parameter')"
   ]
  },
  {
   "cell_type": "code",
   "execution_count": null,
   "metadata": {},
   "outputs": [],
   "source": [
    "plot_comparison(\"iou_list\",\"modularity\")"
   ]
  },
  {
   "cell_type": "code",
   "execution_count": null,
   "metadata": {},
   "outputs": [],
   "source": [
    "plot_comparison(\"ncell_list\",\"modularity\")"
   ]
  },
  {
   "cell_type": "code",
   "execution_count": null,
   "metadata": {},
   "outputs": [],
   "source": [
    "plot_comparison(\"ncell_list\",\"cpm\")"
   ]
  },
  {
   "cell_type": "code",
   "execution_count": null,
   "metadata": {},
   "outputs": [],
   "source": [
    "plot_comparison(\"iou_list\",\"cpm\")"
   ]
  },
  {
   "cell_type": "markdown",
   "metadata": {},
   "source": [
    "# SHOW A VIDEO WITH AND WITHOUT EDGE NORMALIZATION"
   ]
  },
  {
   "cell_type": "code",
   "execution_count": null,
   "metadata": {},
   "outputs": [],
   "source": [
    "#show_video(dictionary=sweep_MOD_radius_2_NO_norm, interval=500, nbins=50, hist_range=(0,300))"
   ]
  },
  {
   "cell_type": "code",
   "execution_count": null,
   "metadata": {},
   "outputs": [],
   "source": [
    "show_video(dictionary=sweep_MOD_radius_5_NO_norm, interval=500, nbins=50, hist_range=(0,600))"
   ]
  },
  {
   "cell_type": "code",
   "execution_count": null,
   "metadata": {},
   "outputs": [],
   "source": [
    "#show_video(dictionary=sweep_MOD_radius_10_NO_norm, interval=500, nbins=50, hist_range=(0,200))"
   ]
  },
  {
   "cell_type": "code",
   "execution_count": null,
   "metadata": {},
   "outputs": [],
   "source": [
    "#show_video(dictionary=sweep_CPM_radius_2, interval=500, nbins=50, hist_range=(0,200))"
   ]
  },
  {
   "cell_type": "code",
   "execution_count": null,
   "metadata": {},
   "outputs": [],
   "source": [
    "#show_video(dictionary=sweep_CPM_radius_5, interval=500, nbins=50, hist_range=(0,200))"
   ]
  },
  {
   "cell_type": "code",
   "execution_count": null,
   "metadata": {},
   "outputs": [],
   "source": [
    "#show_video(dictionary=sweep_CPM_radius_10, interval=500, nbins=50, hist_range=(0,200))"
   ]
  },
  {
   "cell_type": "markdown",
   "metadata": {},
   "source": [
    "# MANUAL ANALYSIS"
   ]
  },
  {
   "cell_type": "code",
   "execution_count": null,
   "metadata": {},
   "outputs": [],
   "source": [
    "tiling_original = torch.load(mask_file_dot, map_location=torch.device('cpu'))\n",
    "tiling = tiling_original.reduce_similarity_radius(new_radius = 5)\n",
    "g = GraphSegmentation(tiling, min_fg_prob=0.1, min_edge_weight=0.1)"
   ]
  },
  {
   "cell_type": "code",
   "execution_count": null,
   "metadata": {},
   "outputs": [],
   "source": [
    "# graph summary\n",
    "\n",
    "g.graph.summary()"
   ]
  },
  {
   "cell_type": "code",
   "execution_count": null,
   "metadata": {},
   "outputs": [],
   "source": [
    "_ = g.plot_partition()"
   ]
  },
  {
   "cell_type": "code",
   "execution_count": null,
   "metadata": {},
   "outputs": [],
   "source": [
    "#_ = g.plot_partition(window=(40,0,100,40))\n",
    "_ = g.plot_partition(window=(0,40,100,1000))"
   ]
  },
  {
   "cell_type": "code",
   "execution_count": null,
   "metadata": {},
   "outputs": [],
   "source": [
    "suggestion = g.suggest_resolution_parameter(window=(0,40,100,1000))\n",
    "print(suggestion.best_resolution)"
   ]
  },
  {
   "cell_type": "code",
   "execution_count": null,
   "metadata": {},
   "outputs": [],
   "source": [
    "suggestion.show_best(figsize=(12,12))"
   ]
  }
 ],
 "metadata": {
  "kernelspec": {
   "display_name": "Python 3",
   "language": "python",
   "name": "python3"
  },
  "language_info": {
   "codemirror_mode": {
    "name": "ipython",
    "version": 3
   },
   "file_extension": ".py",
   "mimetype": "text/x-python",
   "name": "python",
   "nbconvert_exporter": "python",
   "pygments_lexer": "ipython3",
   "version": "3.7.7"
  }
 },
 "nbformat": 4,
 "nbformat_minor": 4
}
