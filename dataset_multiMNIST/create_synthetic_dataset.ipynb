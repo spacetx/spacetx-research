{
 "cells": [
  {
   "cell_type": "markdown",
   "metadata": {},
   "source": [
    "# Create SYNTHETIC dataset"
   ]
  },
  {
   "cell_type": "code",
   "execution_count": 2,
   "metadata": {},
   "outputs": [],
   "source": [
    "%matplotlib inline\n",
    "import matplotlib.pyplot as plt\n",
    "\n",
    "import torch \n",
    "#import numpy as np\n",
    "import torch.nn.functional as F\n",
    "import torchvision\n",
    "from torchvision import transforms\n",
    "from LOW_LEVEL_UTILITIES.utilities import show_batch, save_obj, load_obj\n",
    "from LOW_LEVEL_UTILITIES.utilities import DatasetInMemory\n",
    "from matplotlib.pyplot import imshow"
   ]
  },
  {
   "cell_type": "code",
   "execution_count": 58,
   "metadata": {},
   "outputs": [],
   "source": [
    "params = {\n",
    "    \"N_MIN_OBJECTS\": 2,\n",
    "    \"N_MAX_OBJECTS\": 6,\n",
    "    \"MIN_OBJECT_SIZE\": 20,\n",
    "    \"MAX_OBJECT_SIZE\": 35,\n",
    "    \"WIDTH_RAW_IMAGE\": 80,\n",
    "    \"HEIGHT_RAW_IMAGE\": 80,\n",
    "    \"BACK_GROUND_MEAN\":0.0,\n",
    "    \"BACK_GROUND_STD\":0.0,\n",
    "    \"OBJECT_MAX_INTENSITY\": 1.0,\n",
    "    \"OVERLAP_THRESHOLD\" : 0.4\n",
    "    }"
   ]
  },
  {
   "cell_type": "code",
   "execution_count": 59,
   "metadata": {},
   "outputs": [],
   "source": [
    "def make_single_disks(disk_size=28,n_disk=400):\n",
    "    x_mat = torch.linspace(-1.0, 1.0,steps=disk_size).view(-1,1).expand(disk_size,disk_size).float()\n",
    "    y_mat = x_mat.clone().permute(1,0)\n",
    "    r2   = (x_mat**2 + y_mat**2)\n",
    "    disk = (r2<1.0).float()\n",
    "    fake_labels = disk.new_zeros(n_disk)\n",
    "    return disk[None,None,...].expand(n_disk,-1,-1,-1),fake_labels\n",
    "\n",
    "def make_single_disks_with_shading(disk_size=28,n_disk=400):\n",
    "    x_mat = torch.linspace(-1.0, 1.0,steps=disk_size).view(-1,1).expand(disk_size,disk_size).float()\n",
    "    y_mat = x_mat.clone().permute(1,0)\n",
    "    r2   = (x_mat**2 + y_mat**2)\n",
    "    disk = torch.exp(-r2)*(r2<1.0).float()\n",
    "    fake_labels = disk.new_zeros(n_disk)\n",
    "    return disk[None,None,...].expand(n_disk,-1,-1,-1),fake_labels\n",
    "\n",
    "def compute_affine_aligned(bx_dimfull,by_dimfull,bw_dimfull,bh_dimfull,width_raw_image,height_raw_image):\n",
    "        \"\"\" The affine matrix desxcribes the mapping between the source and the target \n",
    "            This particular affine matrix encodes only scaling and translation\n",
    "\n",
    "            | x_s |   | sx  0   kx | | x_t |   | sx  0  | | x_t |   | kx |\n",
    "            |     | = |            | | y_t | = | 0   sy | | y_t | + | ky |\n",
    "            | y_s |   | 0   sy  ky | | 1   |     \n",
    "\n",
    "            From bx,by,bw,bh dimfull we can get:\n",
    "            sx =  width/bw\n",
    "            sy = height/bh\n",
    "            kx = (width-2*bx)/bw\n",
    "            ky = (height-2*by)/bh\n",
    "        \"\"\" \n",
    "        \n",
    "        # Preparation the variable of interest  \n",
    "        zero = (torch.zeros_like(bx_dimfull)).view(-1)\n",
    "        sx = (width_raw_image/bw_dimfull).view(-1)\n",
    "        sy = (height_raw_image/bh_dimfull).view(-1)\n",
    "        kx = ((width_raw_image-2*bx_dimfull)/bw_dimfull).view(-1)\n",
    "        ky = ((height_raw_image-2*by_dimfull)/bh_dimfull).view(-1)\n",
    "        \n",
    "        # Affine matrix\n",
    "        affine = torch.stack((zero,sx,sy,kx,ky), dim=1)\n",
    "        indeces_resampling = torch.LongTensor([1, 0, 3, 0, 2, 4]).to(affine.device) # indeces to sample: sx,0,kx,0,sy,ky\n",
    "        return torch.index_select(affine, 1, indeces_resampling).view(-1,2,3) \n",
    "\n",
    "\n",
    "def create_dataset(params, dataset_single_objects, N_imgs=100):\n",
    "    dataloader = torch.utils.data.DataLoader(dataset_single_objects, batch_size=params[\"N_MAX_OBJECTS\"], shuffle=True)\n",
    "    \n",
    "    N_max_objects = params[\"N_MAX_OBJECTS\"]\n",
    "    width  = params[\"WIDTH_RAW_IMAGE\"]\n",
    "    height = params[\"HEIGHT_RAW_IMAGE\"]\n",
    "    delta_size = params[\"MAX_OBJECT_SIZE\"]-params[\"MIN_OBJECT_SIZE\"]\n",
    "    delta_n_digits = params[\"N_MAX_OBJECTS\"]-params[\"N_MIN_OBJECTS\"]\n",
    "    threshold_overlap = params[\"OVERLAP_THRESHOLD\"] \n",
    "    \n",
    "    many_objects = torch.zeros(N_max_objects,1,width,height)\n",
    "    \n",
    "    imgs  = torch.zeros(N_imgs,1,width,height)\n",
    "    count = torch.zeros(N_imgs)\n",
    "\n",
    "    for l in range(N_imgs):\n",
    "        if(l%100 == 0):\n",
    "            print(l,\" out of \",N_imgs)\n",
    "        \n",
    "        # Draw a random background\n",
    "        bg = params[\"BACK_GROUND_MEAN\"]+torch.randn(1,width,height)*params[\"BACK_GROUND_STD\"]\n",
    "        \n",
    "        # Draw the random variables\n",
    "        bw_dimfull = params[\"MIN_OBJECT_SIZE\"] + delta_size*torch.rand(N_max_objects)\n",
    "        bh_dimfull = bw_dimfull\n",
    "        bx_dimfull = torch.rand(N_max_objects)*(width-bw_dimfull)+0.5*bw_dimfull\n",
    "        by_dimfull = torch.rand(N_max_objects)*(height-bh_dimfull)+0.5*bh_dimfull\n",
    "               \n",
    "        # Compute the affine matrix\n",
    "        affine_matrix = compute_affine_aligned(bx_dimfull,by_dimfull,bw_dimfull,bh_dimfull,width,height)\n",
    "        assert(affine_matrix.shape == (N_max_objects,2,3))\n",
    "    \n",
    "        # Sample individual object\n",
    "        single_object, labels = next(iter(dataloader))\n",
    "        squares = torch.ones_like(single_object)\n",
    "        grid = F.affine_grid(affine_matrix, many_objects.shape) \n",
    "        many_objects  = F.grid_sample(single_object, grid, mode='bilinear', padding_mode='zeros') \n",
    "        many_squares = (F.grid_sample(squares, grid, mode='bilinear', padding_mode='zeros') >0).float() \n",
    "        #do this so that many_suqare is a binary variable. This is NOT the case after bilinear interpolation\n",
    "\n",
    "        # Compute the Intersection_Over_Union of the squares\n",
    "        batch_size = many_squares.shape[0]\n",
    "        flatten = many_squares.view(batch_size,-1)\n",
    "        area = torch.sum(flatten,dim=-1)\n",
    "        min_area = torch.min(area.unsqueeze(0),area.unsqueeze(1))\n",
    "        intersec = torch.sum(flatten.unsqueeze(0)*flatten.unsqueeze(1),dim=-1)\n",
    "        IoMIN = intersec/min_area\n",
    "        cluster_mask = (IoMIN > threshold_overlap).float()\n",
    "        \n",
    "        # Select the non-overlapping squares\n",
    "        impossible  = torch.zeros(batch_size)\n",
    "        chosen      = torch.zeros(batch_size)\n",
    "        while 1 < 2:\n",
    "            possible = 1 - impossible\n",
    "            index = torch.argmax(possible) \n",
    "            chosen[index] = 1.0\n",
    "            impossible = torch.clamp(torch.matmul(cluster_mask,chosen),max=1)\n",
    "            if( (impossible == 1).all() ):\n",
    "                break\n",
    "                \n",
    "        # Count the number of non-overlapping objects\n",
    "        # and select a random subset of them\n",
    "        cumsum = torch.cumsum(chosen,dim=0)\n",
    "        #n_chosen = int(cumsum[-1]*torch.rand(1))\n",
    "        n_chosen = cumsum[-1]\n",
    "        indicator = chosen*(cumsum <= n_chosen).float()              \n",
    "        \n",
    "        # FOREGROUND obtained by summing the non-overlapping digits\n",
    "        #fg = params[\"OBJECT_MAX_INTENSITY\"]*torch.sum(indicator[:,None,None,None]*many_objects,dim=0)    \n",
    "        fg = torch.zeros_like(bg)\n",
    "        pixel_already_taken = torch.zeros(width,height)\n",
    "        for i in range(N_max_objects):\n",
    "            if indicator[i] == 1:\n",
    "                fg += (1 - pixel_already_taken) * many_objects[i]\n",
    "                pixel_already_taken = (fg > 0).float()\n",
    "                \n",
    "        \n",
    "        \n",
    "        # Add the background and clamp to 1.0\n",
    "        imgs[l,...] = torch.clamp(fg+bg,min=0.0,max=1.0)\n",
    "        count[l] = n_chosen\n",
    "        \n",
    "    return imgs,count"
   ]
  },
  {
   "cell_type": "markdown",
   "metadata": {},
   "source": [
    "### Single MNIST dataset and Single DISK dataset"
   ]
  },
  {
   "cell_type": "code",
   "execution_count": 60,
   "metadata": {},
   "outputs": [],
   "source": [
    "#write_dir_single_MNIST = \"/home/ldalessi/MNIST_DATA/\"\n",
    "write_dir_single_MNIST = \"/home/ldalessi/DATA/SINGLE_MNIST/\"\n",
    "\n",
    "#transform = transforms.ToTensor()\n",
    "#mnist_trainset = torchvision.datasets.MNIST(write_dir_single_MNIST, train=True, download=True, transform=transform)\n",
    "#mnist_testset  = torchvision.datasets.MNIST(write_dir_single_MNIST, train=False, download=True, transform=transform)\n",
    "\n",
    "#disks,labels = make_single_disks(disk_size=28,n_disk=400)\n",
    "#disks_trainset = torch.utils.data.TensorDataset(disks,labels)\n",
    "#disks_testset = torch.utils.data.TensorDataset(disks,labels)\n",
    "\n",
    "disks_with_shading,labels = make_single_disks_with_shading(disk_size=28,n_disk=400)\n",
    "disks_with_shading_trainset = torch.utils.data.TensorDataset(disks_with_shading,labels)\n",
    "disks_with_shading_testset = torch.utils.data.TensorDataset(disks_with_shading,labels)"
   ]
  },
  {
   "cell_type": "markdown",
   "metadata": {},
   "source": [
    "### Create the MULTI OBJECT DATASET from SINGLE OBJECT DATASET"
   ]
  },
  {
   "cell_type": "code",
   "execution_count": 69,
   "metadata": {},
   "outputs": [
    {
     "name": "stdout",
     "output_type": "stream",
     "text": [
      "0  out of  2000\n",
      "100  out of  2000\n",
      "200  out of  2000\n",
      "300  out of  2000\n",
      "400  out of  2000\n",
      "500  out of  2000\n",
      "600  out of  2000\n",
      "700  out of  2000\n",
      "800  out of  2000\n",
      "900  out of  2000\n",
      "1000  out of  2000\n",
      "1100  out of  2000\n",
      "1200  out of  2000\n",
      "1300  out of  2000\n",
      "1400  out of  2000\n",
      "1500  out of  2000\n",
      "1600  out of  2000\n",
      "1700  out of  2000\n",
      "1800  out of  2000\n",
      "1900  out of  2000\n",
      "0  out of  500\n",
      "100  out of  500\n",
      "200  out of  500\n",
      "300  out of  500\n",
      "400  out of  500\n"
     ]
    }
   ],
   "source": [
    "#multi_mnist_train = create_dataset(params,mnist_trainset,N_imgs=60000)  \n",
    "#multi_mnist_test = create_dataset(params,mnist_testset,N_imgs=1000) \n",
    "\n",
    "#multi_mnist_train = create_dataset(params,mnist_trainset,N_imgs=10)  \n",
    "#multi_mnist_test = create_dataset(params,mnist_testset,N_imgs=10) \n",
    "\n",
    "#multi_disk_train = create_dataset(params,disks_trainset,N_imgs=10)  \n",
    "#multi_disk_test = create_dataset(params,disks_testset,N_imgs=10) \n",
    "\n",
    "#multi_disk_train = create_dataset(params,disks_trainset,N_imgs=2000)  \n",
    "#multi_disk_test = create_dataset(params,disks_testset,N_imgs=500) \n",
    "\n",
    "multi_disk_with_shading_train = create_dataset(params,disks_with_shading_trainset,N_imgs=2000)  \n",
    "multi_disk_with_shading_test = create_dataset(params,disks_with_shading_testset,N_imgs=500)  "
   ]
  },
  {
   "cell_type": "code",
   "execution_count": 70,
   "metadata": {},
   "outputs": [
    {
     "name": "stdout",
     "output_type": "stream",
     "text": [
      "imgs.shape torch.Size([2000, 1, 80, 80])\n",
      "labels tensor([4., 5., 4., 4., 5., 4., 3., 4.])\n"
     ]
    },
    {
     "data": {
      "text/plain": [
       "<matplotlib.image.AxesImage at 0x102c8aa898>"
      ]
     },
     "execution_count": 70,
     "metadata": {},
     "output_type": "execute_result"
    },
    {
     "data": {
      "image/png": "[encoded data removed]",
      "text/plain": [
       "<Figure size 432x288 with 1 Axes>"
      ]
     },
     "metadata": {
      "needs_background": "light"
     },
     "output_type": "display_data"
    }
   ],
   "source": [
    "imgs,labels = multi_disk_with_shading_train\n",
    "print(\"imgs.shape\",imgs.shape)\n",
    "print(\"labels\",labels[:8])\n",
    "show_batch(imgs[:8])"
   ]
  },
  {
   "cell_type": "code",
   "execution_count": 71,
   "metadata": {},
   "outputs": [],
   "source": [
    "#imgs,labels = multi_disk_train\n",
    "#print(\"imgs.shape\",imgs.shape)\n",
    "#print(\"labels\",labels[:8])\n",
    "#show_batch(imgs[:8])"
   ]
  },
  {
   "cell_type": "code",
   "execution_count": 72,
   "metadata": {},
   "outputs": [],
   "source": [
    "#imgs,labels = multi_mnist_train\n",
    "#print(\"imgs.shape\",imgs.shape)\n",
    "#print(\"labels.shape\",labels.shape)\n",
    "#print(\"labels\",labels[:8])\n",
    "#show_batch(imgs[:8])"
   ]
  },
  {
   "cell_type": "markdown",
   "metadata": {},
   "source": [
    "### Save dataset on file"
   ]
  },
  {
   "cell_type": "code",
   "execution_count": 73,
   "metadata": {},
   "outputs": [],
   "source": [
    "#write_dir_multiple_MNIST = \"/home/ldalessi/MULTI_MNIST/\"\n",
    "#write_dir_multiple_MNIST = \"/home/ldalessi/DATA/MULTI_MNIST/\"\n",
    "\n",
    "#save_obj(multi_mnist_train,write_dir_multiple_MNIST,\"multi_mnist_train_large\")\n",
    "#save_obj(multi_mnist_test,write_dir_multiple_MNIST,\"multi_mnist_test_large\")\n",
    "\n",
    "\n",
    "write_dir_multiple_DISK = \"/home/ldalessi/MULTI_MDISK/\"\n",
    "write_dir_multiple_DISK = \"/home/ldalessi/DATA/MULTI_DISK/\"\n",
    "write_dir_multiple_DISK = \"/Users/ldalessi/DAPI_unsupervised/DATA/DISK_SHADING/\"\n",
    "\n",
    "\n",
    "#save_obj(multi_disk_train,write_dir_multiple_DISK,\"multi_disk_train_with_bg\")\n",
    "#save_obj(multi_disk_test,write_dir_multiple_DISK,\"multi_disk_test_with_bg\")\n",
    "\n",
    "\n",
    "save_obj(multi_disk_with_shading_train,write_dir_multiple_DISK,\"multi_disk_train_shading\")\n",
    "save_obj(multi_disk_with_shading_test,write_dir_multiple_DISK,\"multi_disk_test_shading\")"
   ]
  },
  {
   "cell_type": "code",
   "execution_count": null,
   "metadata": {},
   "outputs": [],
   "source": []
  },
  {
   "cell_type": "code",
   "execution_count": null,
   "metadata": {},
   "outputs": [],
   "source": []
  }
 ],
 "metadata": {
  "kernelspec": {
   "display_name": "Python 3",
   "language": "python",
   "name": "python3"
  },
  "language_info": {
   "codemirror_mode": {
    "name": "ipython",
    "version": 3
   },
   "file_extension": ".py",
   "mimetype": "text/x-python",
   "name": "python",
   "nbconvert_exporter": "python",
   "pygments_lexer": "ipython3",
   "version": "3.7.4"
  }
 },
 "nbformat": 4,
 "nbformat_minor": 4
}
