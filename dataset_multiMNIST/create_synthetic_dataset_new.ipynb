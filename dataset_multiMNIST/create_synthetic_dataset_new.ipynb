{
 "cells": [
  {
   "cell_type": "markdown",
   "metadata": {},
   "source": [
    "# Create SYNTHETIC dataset"
   ]
  },
  {
   "cell_type": "code",
   "execution_count": 4,
   "metadata": {},
   "outputs": [
    {
     "name": "stdout",
     "output_type": "stream",
     "text": [
      "The autoreload extension is already loaded. To reload it, use:\n",
      "  %reload_ext autoreload\n"
     ]
    }
   ],
   "source": [
    "%load_ext autoreload\n",
    "%autoreload 2"
   ]
  },
  {
   "cell_type": "code",
   "execution_count": 5,
   "metadata": {},
   "outputs": [],
   "source": [
    "%matplotlib inline\n",
    "import matplotlib.pyplot as plt\n",
    "\n",
    "import skimage.transform\n",
    "import numpy\n",
    "import torch \n",
    "import torch.nn.functional as F\n",
    "import torchvision\n",
    "from torchvision import transforms\n",
    "from MODULES.namedtuple import BB\n",
    "from MODULES.cropper_uncropper import Uncropper\n",
    "from MODULES.non_max_suppression import NonMaxSuppression\n",
    "from MODULES.utilities_visualization import show_batch, plot_img_and_seg\n",
    "from MODULES.utilities import save_obj, load_obj\n",
    "from MODULES.utilities_ml import SpecialDataSet  "
   ]
  },
  {
   "cell_type": "markdown",
   "metadata": {},
   "source": [
    "# Helper functions"
   ]
  },
  {
   "cell_type": "code",
   "execution_count": 6,
   "metadata": {},
   "outputs": [],
   "source": [
    "def torch_dilation(img, times: int=1):\n",
    "    tmp = img.flatten(start_dim=0, end_dim=-4)\n",
    "    for n in range(times):\n",
    "        tmp = torch.nn.MaxPool2d(kernel_size=3, stride=1, padding=1)(tmp)\n",
    "    return tmp.view_as(img)\n",
    "\n",
    "def make_background_grid(n):\n",
    "    width_big  = params[\"WIDTH_RAW_IMAGE\"]\n",
    "    height_big = params[\"HEIGHT_RAW_IMAGE\"]\n",
    "    rotated_bg = numpy.zeros((n,1,width_big,height_big))\n",
    "    \n",
    "    angles = numpy.random.rand(n)*45\n",
    "    for i in range(n):\n",
    "        angle = numpy.random.rand(1)*45\n",
    "        dx,dy = (10+10*numpy.random.rand(2)).astype(int)\n",
    "        template = numpy.zeros((2*width_big,2*height_big))\n",
    "        template[::dx,:]=1\n",
    "        template[:,::dy]=1\n",
    "        tmp = skimage.transform.rotate(template, angle, resize=False, center=None, order=1, clip=True, preserve_range=True)\n",
    "        rotated_bg[i,0] = tmp[width_big//2:width_big//2+width_big,height_big//2:height_big//2+height_big]\n",
    "    return torch.from_numpy(rotated_bg)\n",
    "\n",
    "\n",
    "def make_single_disks(disk_size=28,n_disk=400):\n",
    "    x_mat = torch.linspace(-1.0, 1.0,steps=disk_size).view(-1,1).expand(disk_size,disk_size).float()\n",
    "    y_mat = x_mat.clone().permute(1,0)\n",
    "    r2   = (x_mat**2 + y_mat**2)\n",
    "    disk = (r2<1.0).float()\n",
    "    fake_labels = disk.new_zeros(n_disk)\n",
    "    return disk[None,None,...].expand(n_disk,-1,-1,-1),fake_labels\n",
    "\n",
    "\n",
    "def make_single_disks_with_shading(disk_size=28,n_disk=400):\n",
    "    x_mat = torch.linspace(-1.0, 1.0,steps=disk_size).view(-1,1).expand(disk_size,disk_size).float()\n",
    "    y_mat = x_mat.clone().permute(1,0)\n",
    "    r2   = (x_mat**2 + y_mat**2)\n",
    "    disk = torch.exp(-r2)*(r2<1.0).float()\n",
    "    fake_labels = disk.new_zeros(n_disk)\n",
    "    return disk[None,None,...].expand(n_disk,-1,-1,-1),fake_labels\n",
    "\n",
    "\n",
    "def create_dataset(params, dataset_single_objects, n_for_class=100):\n",
    "    batch_size = 64\n",
    "    n_max_objects = params[\"N_MAX_OBJECTS\"]\n",
    "    width_big  = params[\"WIDTH_RAW_IMAGE\"]\n",
    "    height_big = params[\"HEIGHT_RAW_IMAGE\"]\n",
    "    min_size = params[\"MIN_OBJECT_SIZE\"]\n",
    "    max_size = params[\"MAX_OBJECT_SIZE\"]\n",
    "    min_n_obj = params[\"N_MIN_OBJECTS\"]\n",
    "    max_n_obj = params[\"N_MAX_OBJECTS\"]\n",
    "    \n",
    "    dataloader = torch.utils.data.DataLoader(dataset_single_objects, \n",
    "                                             batch_size=batch_size*2*n_max_objects, shuffle=True)\n",
    "    \n",
    "    uncropper = Uncropper()\n",
    "    nms = NonMaxSuppression()\n",
    "    \n",
    "    goal_for_class = torch.ones(1 + max_n_obj) * n_for_class\n",
    "    goal_for_class[:min_n_obj] = 0\n",
    "    n_goal = torch.sum(goal_for_class).int().item()\n",
    "    data_imgs = torch.zeros((n_goal,1,width_big,height_big), dtype=torch.float)\n",
    "    data_seg = torch.zeros((n_goal,1,width_big,height_big), dtype=torch.uint8)\n",
    "    data_count = torch.zeros(n_goal, dtype=torch.uint8)\n",
    "    \n",
    "    n_current = 0\n",
    "    while n_current <  n_goal:\n",
    "        \n",
    "        # Generate the small objects\n",
    "        objects, labels = next(iter(dataloader))\n",
    "        small_objects = objects.view(-1,batch_size,1,28,28)\n",
    "        labels = labels.view(-1,batch_size) + 1\n",
    "        \n",
    "        # Generate the random locations and scores\n",
    "        random = torch.rand([4]+list(small_objects.shape[:2]))\n",
    "        tp, tx, ty, tsize = torch.split(random, 1, dim=0)         \n",
    "        fake_score = tp.squeeze(0)\n",
    "        bw_dimfull = min_size + (max_size-min_size) * tsize.squeeze(0)\n",
    "        bh_dimfull = bw_dimfull\n",
    "        bx_dimfull = 0.5*bw_dimfull + (width_big-bw_dimfull)*tx.squeeze(0)\n",
    "        by_dimfull = 0.5*bw_dimfull + (width_big-bw_dimfull)*ty.squeeze(0)\n",
    "        bounding_box = BB(bx=bx_dimfull, by=by_dimfull, bw=bw_dimfull, bh=bh_dimfull)\n",
    "      \n",
    "        # Uncrop \n",
    "        big_objects = uncropper.uncrop(bounding_box, small_objects, width_big, height_big)\n",
    "        \n",
    "        # Compute non-Max-Suppression\n",
    "        nms_output: NMSoutput = nms.compute_mask_and_index(score=fake_score,\n",
    "                                                           bounding_box=bounding_box,\n",
    "                                                           overlap_threshold=params[\"OVERLAP_THRESHOLD\"],\n",
    "                                                           n_objects_max=n_max_objects,\n",
    "                                                           topk_only=False)\n",
    "        \n",
    "        # Select non-overlapping object \n",
    "        index_select = nms_output.index_top_k[...,None,None,None].expand([n_max_objects]+list(big_objects.shape[-4:])) \n",
    "        obj_selected = torch.gather(big_objects, dim=0, index=index_select)  #n_max_objects, batch_size, 1, width_big, height_big\n",
    "        label_selected = torch.gather(labels.view(-1,batch_size), dim=0, index=nms_output.index_top_k).to(torch.uint8)\n",
    "        c_selected_old = torch.gather(nms_output.nms_mask, dim=0, index=nms_output.index_top_k).to(torch.uint8)\n",
    "        \n",
    "        # Drop some object to achieve balanced class\n",
    "        counter_for_class = torch.bincount(data_count, minlength=1 + max_n_obj)\n",
    "        c_selected = drop_some_objects(c_selected_old, counter_for_class, goal_for_class)\n",
    "\n",
    "        # Compute foreground, labels, counts\n",
    "        obj_selected_no_overlap = obj_selected * c_selected[...,None,None,None]\n",
    "        label_selected_no_overlap = label_selected * c_selected\n",
    "        tmp = (obj_selected_no_overlap > 0.5) * label_selected_no_overlap[...,None,None,None]\n",
    "        \n",
    "        count_label = torch.sum(c_selected, dim=0).to(torch.uint8)\n",
    "        seg_mask = torch.max(torch_dilation(tmp.float(), times=2), dim=0)[0].to(torch.uint8)\n",
    "        fg = torch.sum(obj_selected_no_overlap, dim=-5).clamp_(max=1.0)\n",
    "        \n",
    "        #print(fg.shape, seg_mask.shape, count_label.shape)\n",
    "        #print(fg.dtype, seg_mask.dtype, count_label.dtype)\n",
    "         \n",
    "        # Add to the dataset\n",
    "        use_this = (count_label > 0)\n",
    "        dn_max = n_goal-n_current\n",
    "        dn_available = torch.sum(use_this)\n",
    "        dn = min(dn_max, dn_available)\n",
    "        data_imgs[n_current:n_current+dn] = fg[use_this][:dn]\n",
    "        data_seg[n_current:n_current+dn] = seg_mask[use_this][:dn]\n",
    "        data_count[n_current:n_current+dn] = count_label[use_this][:dn]\n",
    "        n_current += dn\n",
    "    return data_imgs, data_seg, data_count\n",
    "    \n",
    "\n",
    "def drop_some_objects(c_selected_old, counter_for_class, goal_for_class):\n",
    "    \"\"\" drop some object by changing the indicator function.\n",
    "        It start greedely from the most object and remove object 1by1\n",
    "    \"\"\"\n",
    "        \n",
    "    count = torch.sum(c_selected_old, dim=0)\n",
    "    available_for_class = torch.bincount(count, minlength=counter_for_class.shape[0]).int()\n",
    "    missing_for_class = (goal_for_class - counter_for_class).clamp(min=0).int()\n",
    "    drop_for_class = (available_for_class - missing_for_class).clamp(min=0)\n",
    "    #print(\"missing_for_class ---->\",missing_for_class)\n",
    "    #print(\"available_for_class -->\",available_for_class,\"-->\",torch.sum(available_for_class))\n",
    "    #print(\"drop_for_class ------->\",drop_for_class)\n",
    "    \n",
    "    for cl in range(drop_for_class.shape[0]-1,0,-1): # count backward\n",
    "        n_dropped = 0\n",
    "        while drop_for_class[cl] > n_dropped:\n",
    "            # If there is something to do. I will loop over everything and drop stuff\n",
    "            for i in range(count.shape[0]):\n",
    "                if count[i]==cl:\n",
    "                    index = torch.argmax(c_selected_old[:,i].int(), dim=0)\n",
    "                    c_selected_old[index,i] = 0\n",
    "                    n_dropped += 1\n",
    "                    if (n_dropped == drop_for_class[cl]):\n",
    "                        return drop_some_objects(c_selected_old, counter_for_class, goal_for_class)\n",
    "    return c_selected_old       "
   ]
  },
  {
   "cell_type": "markdown",
   "metadata": {},
   "source": [
    "# Create Multi-MNIST dataset"
   ]
  },
  {
   "cell_type": "code",
   "execution_count": 7,
   "metadata": {},
   "outputs": [],
   "source": [
    "params = {\n",
    "    \"N_MIN_OBJECTS\": 2,\n",
    "    \"N_MAX_OBJECTS\": 6,\n",
    "    \"MIN_OBJECT_SIZE\": 20,\n",
    "    \"MAX_OBJECT_SIZE\": 40,\n",
    "    \"WIDTH_RAW_IMAGE\": 80,\n",
    "    \"HEIGHT_RAW_IMAGE\": 80,\n",
    "    \"OVERLAP_THRESHOLD\" : 0.3\n",
    "    }"
   ]
  },
  {
   "cell_type": "code",
   "execution_count": 8,
   "metadata": {},
   "outputs": [],
   "source": [
    "write_dir_single_MNIST = \"./\"\n",
    "transform = transforms.ToTensor()\n",
    "mnist_trainset = torchvision.datasets.MNIST(write_dir_single_MNIST, train=True, download=True, transform=transform)\n",
    "mnist_testset  = torchvision.datasets.MNIST(write_dir_single_MNIST, train=False, download=True, transform=transform)\n",
    "\n",
    "img, seg_mask, count = create_dataset(params, mnist_trainset, n_for_class=1000)\n",
    "save_obj((img, seg_mask, count), \"./multi_mnist_train.pt\")\n",
    "img, seg_mask, count = create_dataset(params, mnist_testset, n_for_class=100)\n",
    "save_obj((img, seg_mask, count), \"./multi_mnist_test.pt\")"
   ]
  },
  {
   "cell_type": "code",
   "execution_count": 10,
   "metadata": {},
   "outputs": [],
   "source": [
    "img, seg_mask, count = create_dataset(params, mnist_trainset, n_for_class=10)\n",
    "save_obj((img, seg_mask, count), \"./SMALL_multi_mnist_train.pt\")\n",
    "img, seg_mask, count = create_dataset(params, mnist_testset, n_for_class=10)\n",
    "save_obj((img, seg_mask, count), \"./SMALL_multi_mnist_test.pt\")"
   ]
  },
  {
   "cell_type": "markdown",
   "metadata": {},
   "source": [
    "### Test the dataloader"
   ]
  },
  {
   "cell_type": "code",
   "execution_count": 11,
   "metadata": {},
   "outputs": [
    {
     "name": "stdout",
     "output_type": "stream",
     "text": [
      "Dataset lenght: 50\n",
      "img.shape torch.Size([50, 1, 80, 80])\n",
      "img.dtype torch.float32\n",
      "img.device cpu\n",
      "MINIBATCH: img.shapes seg.shape labels.shape, index.shape -> torch.Size([8, 1, 80, 80]) torch.Size([8, 1, 80, 80]) torch.Size([8]) torch.Size([8])\n",
      "MINIBATCH: min and max of minibatch tensor(0.) tensor(1.)\n"
     ]
    },
    {
     "data": {
      "image/png": "[encoded data removed]",
      "text/plain": [
       "<Figure size 432x864 with 16 Axes>"
      ]
     },
     "execution_count": 11,
     "metadata": {},
     "output_type": "execute_result"
    }
   ],
   "source": [
    "loader = SpecialDataSet(img=img, roi_mask=None, seg_mask=seg_mask, labels=count, batch_size=4, drop_last=False)\n",
    "loader.check_batch()"
   ]
  },
  {
   "cell_type": "code",
   "execution_count": 17,
   "metadata": {},
   "outputs": [
    {
     "name": "stdout",
     "output_type": "stream",
     "text": [
      "<class 'list'>\n",
      "<class 'numpy.ndarray'>\n"
     ]
    }
   ],
   "source": [
    "a = [1,2,3,4,5]\n",
    "print(type(a))\n",
    "\n",
    "b = numpy.array(a)\n",
    "print(type(b))"
   ]
  },
  {
   "cell_type": "code",
   "execution_count": 14,
   "metadata": {},
   "outputs": [
    {
     "name": "stdout",
     "output_type": "stream",
     "text": [
      "0\n",
      "1\n",
      "2\n",
      "3\n",
      "4\n",
      "5\n",
      "6\n",
      "7\n",
      "8\n",
      "9\n",
      "10\n",
      "11\n"
     ]
    }
   ],
   "source": [
    "value = torch.arange(12)\n",
    "for i, x in enumerate(value):\n",
    "    print(x.item())"
   ]
  },
  {
   "cell_type": "code",
   "execution_count": 20,
   "metadata": {},
   "outputs": [
    {
     "name": "stdout",
     "output_type": "stream",
     "text": [
      "skip\n"
     ]
    }
   ],
   "source": [
    "blacklist = [\"aaa\", \"bbb\"]\n",
    "key = \"aaa\"\n",
    "if key in blacklist:\n",
    "    print(\"skip\")"
   ]
  },
  {
   "cell_type": "code",
   "execution_count": 12,
   "metadata": {},
   "outputs": [
    {
     "data": {
      "text/plain": [
       "50"
      ]
     },
     "execution_count": 12,
     "metadata": {},
     "output_type": "execute_result"
    }
   ],
   "source": [
    "loader.img.shape[0]"
   ]
  },
  {
   "cell_type": "code",
   "execution_count": null,
   "metadata": {},
   "outputs": [],
   "source": [
    "img, seg, counts, index = loader.load(index=torch.arange(8))"
   ]
  },
  {
   "cell_type": "code",
   "execution_count": null,
   "metadata": {},
   "outputs": [],
   "source": [
    "torch.sum(img>0.1).float()/torch.numel(img)"
   ]
  },
  {
   "cell_type": "code",
   "execution_count": null,
   "metadata": {},
   "outputs": [],
   "source": [
    "torch.sum(img>0)"
   ]
  },
  {
   "cell_type": "code",
   "execution_count": null,
   "metadata": {},
   "outputs": [],
   "source": [
    "show_batch(img)"
   ]
  },
  {
   "cell_type": "code",
   "execution_count": null,
   "metadata": {},
   "outputs": [],
   "source": [
    "print(img.shape)\n",
    "print(seg.shape)\n",
    "print(counts)"
   ]
  },
  {
   "cell_type": "code",
   "execution_count": null,
   "metadata": {},
   "outputs": [],
   "source": [
    "plot_img_and_seg(img[:2], seg_mask[:2], figsize=(6,6))"
   ]
  },
  {
   "cell_type": "markdown",
   "metadata": {},
   "source": [
    "# Create MNIST dataset"
   ]
  },
  {
   "cell_type": "code",
   "execution_count": null,
   "metadata": {},
   "outputs": [],
   "source": []
  },
  {
   "cell_type": "code",
   "execution_count": null,
   "metadata": {},
   "outputs": [],
   "source": [
    "fg, label, count = create_dataset(params, mnist_trainset, n_for_class=10)\n",
    "print(\" --->\",fg.shape, label.shape, count.shape)"
   ]
  },
  {
   "cell_type": "code",
   "execution_count": null,
   "metadata": {},
   "outputs": [],
   "source": [
    "show_batch(label[:8].float())"
   ]
  },
  {
   "cell_type": "code",
   "execution_count": null,
   "metadata": {},
   "outputs": [],
   "source": [
    "print(count[:8])\n",
    "print(torch.bincount(label[:8].view(-1).int()))\n",
    "show_batch(fg[:8], cmap='inferno')"
   ]
  },
  {
   "cell_type": "code",
   "execution_count": null,
   "metadata": {},
   "outputs": [],
   "source": [
    "fig, axes = plt.subplots(ncols=2, nrows=5, figsize=(12,12))\n",
    "for n in range(5):\n",
    "    axes[n, 0].imshow(label[n, 0].int(), cmap=\"inferno\")\n",
    "    axes[n, 1].imshow(fg[n,0], cmap=\"gray\")\n",
    "    show_batch(label[:8].float())"
   ]
  },
  {
   "cell_type": "markdown",
   "metadata": {},
   "source": [
    "### Save dataset"
   ]
  },
  {
   "cell_type": "code",
   "execution_count": null,
   "metadata": {},
   "outputs": [],
   "source": [
    "disks_with_shading,labels = make_single_disks_with_shading(disk_size=28,n_disk=400)\n",
    "disks_with_shading_trainset = torch.utils.data.TensorDataset(disks_with_shading,labels)\n",
    "disks_with_shading_testset = torch.utils.data.TensorDataset(disks_with_shading,labels)"
   ]
  },
  {
   "cell_type": "code",
   "execution_count": null,
   "metadata": {},
   "outputs": [],
   "source": [
    "write_dir_single_MNIST = \"./\"\n",
    "transform = transforms.ToTensor()\n",
    "mnist_trainset = torchvision.datasets.MNIST(write_dir_single_MNIST, train=True, download=True, transform=transform)\n",
    "mnist_testset  = torchvision.datasets.MNIST(write_dir_single_MNIST, train=False, download=True, transform=transform)"
   ]
  },
  {
   "cell_type": "code",
   "execution_count": null,
   "metadata": {},
   "outputs": [],
   "source": [
    "fg, label, count = create_dataset(params, mnist_trainset, n_for_class=10)\n",
    "\n",
    "\n",
    "print(\" --->\",fg.shape, label.shape, count.shape)"
   ]
  },
  {
   "cell_type": "code",
   "execution_count": null,
   "metadata": {},
   "outputs": [],
   "source": [
    "torch.bincount(count)"
   ]
  },
  {
   "cell_type": "code",
   "execution_count": null,
   "metadata": {},
   "outputs": [],
   "source": [
    "fig, axes = plt.subplots(ncols=2, nrows=4, figsize=(12,12))\n",
    "for n in range(4):\n",
    "    axes[n, 0].imshow(skimage.color.label2rgb(label=label[n, 0].cpu().numpy(),\n",
    "                                              image=fg[n,0].cpu().numpy(),\n",
    "                                              alpha=0.5,\n",
    "                                              bg_label=0))\n",
    "    axes[n, 1].imshow(fg[n,0])\n",
    "    \n",
    "    \n",
    "    show_batch(label[:8].float())"
   ]
  },
  {
   "cell_type": "code",
   "execution_count": null,
   "metadata": {},
   "outputs": [],
   "source": [
    "show_batch(fg[:8])"
   ]
  },
  {
   "cell_type": "code",
   "execution_count": null,
   "metadata": {},
   "outputs": [],
   "source": [
    "import skimage.color\n",
    "n=0\n",
    "print(count[n])\n",
    "plt.imshow(skimage.color.label2rgb(label=label[n,0].cpu().numpy(),\n",
    "                                   image=fg[n,0].cpu().numpy(),\n",
    "                                   alpha=1.0,\n",
    "                                   bg_label=0))"
   ]
  },
  {
   "cell_type": "markdown",
   "metadata": {},
   "source": [
    "### Single MNIST dataset and Single DISK dataset"
   ]
  },
  {
   "cell_type": "code",
   "execution_count": null,
   "metadata": {},
   "outputs": [],
   "source": [
    "#write_dir_single_MNIST = \"/home/ldalessi/MNIST_DATA/\"\n",
    "write_dir_single_MNIST = \"/home/ldalessi/DATA/SINGLE_MNIST/\"\n",
    "\n",
    "#transform = transforms.ToTensor()\n",
    "#mnist_trainset = torchvision.datasets.MNIST(write_dir_single_MNIST, train=True, download=True, transform=transform)\n",
    "#mnist_testset  = torchvision.datasets.MNIST(write_dir_single_MNIST, train=False, download=True, transform=transform)\n",
    "\n",
    "#disks,labels = make_single_disks(disk_size=28,n_disk=400)\n",
    "#disks_trainset = torch.utils.data.TensorDataset(disks,labels)\n",
    "#disks_testset = torch.utils.data.TensorDataset(disks,labels)\n",
    "\n",
    "disks_with_shading,labels = make_single_disks_with_shading(disk_size=28,n_disk=400)\n",
    "disks_with_shading_trainset = torch.utils.data.TensorDataset(disks_with_shading,labels)\n",
    "disks_with_shading_testset = torch.utils.data.TensorDataset(disks_with_shading,labels)"
   ]
  },
  {
   "cell_type": "code",
   "execution_count": null,
   "metadata": {},
   "outputs": [],
   "source": [
    "#write_dir_single_MNIST = \"/home/ldalessi/MNIST_DATA/\"\n",
    "write_dir_single_MNIST = \"/home/ldalessi/DATA/SINGLE_MNIST/\"\n",
    "\n",
    "#transform = transforms.ToTensor()\n",
    "#mnist_trainset = torchvision.datasets.MNIST(write_dir_single_MNIST, train=True, download=True, transform=transform)\n",
    "#mnist_testset  = torchvision.datasets.MNIST(write_dir_single_MNIST, train=False, download=True, transform=transform)\n",
    "\n",
    "#disks,labels = make_single_disks(disk_size=28,n_disk=400)\n",
    "#disks_trainset = torch.utils.data.TensorDataset(disks,labels)\n",
    "#disks_testset = torch.utils.data.TensorDataset(disks,labels)\n",
    "\n",
    "disks_with_shading,labels = make_single_disks_with_shading(disk_size=28,n_disk=400)\n",
    "disks_with_shading_trainset = torch.utils.data.TensorDataset(disks_with_shading,labels)\n",
    "disks_with_shading_testset = torch.utils.data.TensorDataset(disks_with_shading,labels)"
   ]
  },
  {
   "cell_type": "markdown",
   "metadata": {},
   "source": [
    "### Create the MULTI OBJECT DATASET from SINGLE OBJECT DATASET"
   ]
  },
  {
   "cell_type": "code",
   "execution_count": null,
   "metadata": {},
   "outputs": [],
   "source": [
    "#multi_mnist_train = create_dataset(params,mnist_trainset,N_imgs=60000)  \n",
    "#multi_mnist_test = create_dataset(params,mnist_testset,N_imgs=1000) \n",
    "\n",
    "#multi_mnist_train = create_dataset(params,mnist_trainset,N_imgs=10)  \n",
    "#multi_mnist_test = create_dataset(params,mnist_testset,N_imgs=10) \n",
    "\n",
    "#multi_disk_train = create_dataset(params,disks_trainset,N_imgs=10)  \n",
    "#multi_disk_test = create_dataset(params,disks_testset,N_imgs=10) \n",
    "\n",
    "#multi_disk_train = create_dataset(params,disks_trainset,N_imgs=2000)  \n",
    "#multi_disk_test = create_dataset(params,disks_testset,N_imgs=500) \n",
    "\n",
    "multi_disk_with_shading_train = create_dataset(params,disks_with_shading_trainset,N_imgs=2000)  \n",
    "multi_disk_with_shading_test = create_dataset(params,disks_with_shading_testset,N_imgs=500)  "
   ]
  },
  {
   "cell_type": "code",
   "execution_count": null,
   "metadata": {},
   "outputs": [],
   "source": [
    "imgs,labels = multi_disk_with_shading_train\n",
    "print(\"imgs.shape\",imgs.shape)\n",
    "print(\"labels\",labels[:8])\n",
    "show_batch(imgs[:8])"
   ]
  },
  {
   "cell_type": "code",
   "execution_count": null,
   "metadata": {},
   "outputs": [],
   "source": [
    "#imgs,labels = multi_disk_train\n",
    "#print(\"imgs.shape\",imgs.shape)\n",
    "#print(\"labels\",labels[:8])\n",
    "#show_batch(imgs[:8])"
   ]
  },
  {
   "cell_type": "code",
   "execution_count": null,
   "metadata": {},
   "outputs": [],
   "source": [
    "#imgs,labels = multi_mnist_train\n",
    "#print(\"imgs.shape\",imgs.shape)\n",
    "#print(\"labels.shape\",labels.shape)\n",
    "#print(\"labels\",labels[:8])\n",
    "#show_batch(imgs[:8])"
   ]
  },
  {
   "cell_type": "markdown",
   "metadata": {},
   "source": [
    "### Save dataset on file"
   ]
  },
  {
   "cell_type": "code",
   "execution_count": null,
   "metadata": {},
   "outputs": [],
   "source": [
    "#write_dir_multiple_MNIST = \"/home/ldalessi/MULTI_MNIST/\"\n",
    "#write_dir_multiple_MNIST = \"/home/ldalessi/DATA/MULTI_MNIST/\"\n",
    "\n",
    "#save_obj(multi_mnist_train,write_dir_multiple_MNIST,\"multi_mnist_train_large\")\n",
    "#save_obj(multi_mnist_test,write_dir_multiple_MNIST,\"multi_mnist_test_large\")\n",
    "\n",
    "\n",
    "write_dir_multiple_DISK = \"/home/ldalessi/MULTI_MDISK/\"\n",
    "write_dir_multiple_DISK = \"/home/ldalessi/DATA/MULTI_DISK/\"\n",
    "write_dir_multiple_DISK = \"/Users/ldalessi/DAPI_unsupervised/DATA/DISK_SHADING/\"\n",
    "\n",
    "\n",
    "#save_obj(multi_disk_train,write_dir_multiple_DISK,\"multi_disk_train_with_bg\")\n",
    "#save_obj(multi_disk_test,write_dir_multiple_DISK,\"multi_disk_test_with_bg\")\n",
    "\n",
    "\n",
    "save_obj(multi_disk_with_shading_train,write_dir_multiple_DISK,\"multi_disk_train_shading\")\n",
    "save_obj(multi_disk_with_shading_test,write_dir_multiple_DISK,\"multi_disk_test_shading\")"
   ]
  },
  {
   "cell_type": "code",
   "execution_count": null,
   "metadata": {},
   "outputs": [],
   "source": []
  },
  {
   "cell_type": "code",
   "execution_count": null,
   "metadata": {},
   "outputs": [],
   "source": []
  }
 ],
 "metadata": {
  "kernelspec": {
   "display_name": "Python 3",
   "language": "python",
   "name": "python3"
  },
  "language_info": {
   "codemirror_mode": {
    "name": "ipython",
    "version": 3
   },
   "file_extension": ".py",
   "mimetype": "text/x-python",
   "name": "python",
   "nbconvert_exporter": "python",
   "pygments_lexer": "ipython3",
   "version": "3.8.2"
  }
 },
 "nbformat": 4,
 "nbformat_minor": 4
}
