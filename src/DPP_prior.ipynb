{
 "cells": [
  {
   "cell_type": "code",
   "execution_count": 1,
   "metadata": {},
   "outputs": [],
   "source": [
    "%load_ext autoreload\n",
    "%autoreload 2"
   ]
  },
  {
   "cell_type": "code",
   "execution_count": 2,
   "metadata": {},
   "outputs": [],
   "source": [
    "%matplotlib inline\n",
    "import matplotlib.pyplot as plt\n",
    "import torch\n",
    "import torch.nn.functional as F\n",
    "import numpy as np\n"
   ]
  },
  {
   "cell_type": "markdown",
   "metadata": {},
   "source": [
    "### Params"
   ]
  },
  {
   "cell_type": "code",
   "execution_count": 72,
   "metadata": {},
   "outputs": [],
   "source": [
    "b,w,h = 2,20,20\n",
    "prob_corr_factor = 0.23\n",
    "n_objects_max = 20\n",
    "device = torch.device('cuda') if torch.cuda.is_available() else torch.device('cpu')"
   ]
  },
  {
   "cell_type": "code",
   "execution_count": 123,
   "metadata": {},
   "outputs": [
    {
     "name": "stdout",
     "output_type": "stream",
     "text": [
      "True\n"
     ]
    },
    {
     "data": {
      "text/plain": [
       "<matplotlib.colorbar.Colorbar at 0x7fe388db96a0>"
      ]
     },
     "execution_count": 123,
     "metadata": {},
     "output_type": "execute_result"
    },
    {
     "data": {
      "image/png": "[encoded data removed]",
      "text/plain": [
       "<Figure size 288x288 with 2 Axes>"
      ]
     },
     "metadata": {
      "needs_background": "light"
     },
     "output_type": "display_data"
    }
   ],
   "source": [
    "from MODULES.utilities_ml import FiniteDPP, SimilarityKernel\n",
    "similarity = SimilarityKernel(n_kernels=4)\n",
    "print(similarity.pbc)\n",
    "L = similarity(n_width=20, n_height=20)\n",
    "plt.matshow(L.detach().numpy())\n",
    "plt.colorbar()"
   ]
  },
  {
   "cell_type": "code",
   "execution_count": 124,
   "metadata": {},
   "outputs": [
    {
     "name": "stdout",
     "output_type": "stream",
     "text": [
      "Parameter containing:\n",
      "tensor([0.2500, 0.5000, 0.7500, 1.0000], requires_grad=True)\n",
      "(tensor([1.8259, 1.9741, 2.1369, 2.3133], grad_fn=<AddBackward0>), tensor([0.2500, 0.2500, 0.2500, 0.2500], grad_fn=<SoftmaxBackward>))\n"
     ]
    }
   ],
   "source": [
    "print(similarity.similarity_s2)\n",
    "print(similarity.get_sigma2_w())"
   ]
  },
  {
   "cell_type": "code",
   "execution_count": 125,
   "metadata": {},
   "outputs": [
    {
     "name": "stdout",
     "output_type": "stream",
     "text": [
      "tensor([-191.3760, -202.3045, -190.3987, -202.7072, -198.9339, -190.1297,\n",
      "        -179.3178, -197.3651, -195.2031, -194.6745, -203.8270, -198.6043,\n",
      "        -205.2301, -191.1152, -186.3945, -193.0165, -195.7259, -197.5692,\n",
      "        -196.3014, -197.0101, -199.9196, -193.0740, -200.1505, -202.8017,\n",
      "        -194.2516, -199.1216, -186.5667, -191.7514, -200.5530, -196.6481],\n",
      "       grad_fn=<SubBackward0>)\n"
     ]
    },
    {
     "data": {
      "text/plain": [
       "<matplotlib.image.AxesImage at 0x7fe387bb9d60>"
      ]
     },
     "execution_count": 125,
     "metadata": {},
     "output_type": "execute_result"
    },
    {
     "data": {
      "image/png": "[encoded data removed]",
      "text/plain": [
       "<Figure size 864x864 with 4 Axes>"
      ]
     },
     "metadata": {
      "needs_background": "light"
     },
     "output_type": "display_data"
    }
   ],
   "source": [
    "DPP = FiniteDPP(L=L)\n",
    "value = DPP.sample(sample_shape=torch.Size([30]))\n",
    "mask = similarity.sample_2_mask(value)\n",
    "\n",
    "print(log_p)\n",
    "fig, ax =  plt.subplots(ncols=4, figsize=(12,12))\n",
    "ax[0].imshow(mask[0])\n",
    "ax[1].imshow(mask[1])\n",
    "ax[2].imshow(mask[2])\n",
    "ax[3].imshow(mask.sum(dim=(-3)))"
   ]
  },
  {
   "cell_type": "code",
   "execution_count": 81,
   "metadata": {},
   "outputs": [
    {
     "ename": "AttributeError",
     "evalue": "'FiniteDPP' object has no attribute 'OLD_log_prob'",
     "output_type": "error",
     "traceback": [
      "\u001b[0;31m---------------------------------------------------------------------------\u001b[0m",
      "\u001b[0;31mAttributeError\u001b[0m                            Traceback (most recent call last)",
      "\u001b[0;32m<ipython-input-81-7a22de1c9e54>\u001b[0m in \u001b[0;36m<module>\u001b[0;34m\u001b[0m\n\u001b[0;32m----> 1\u001b[0;31m \u001b[0mOLD_log_p\u001b[0m \u001b[0;34m=\u001b[0m \u001b[0mDPP\u001b[0m\u001b[0;34m.\u001b[0m\u001b[0mOLD_log_prob\u001b[0m\u001b[0;34m(\u001b[0m\u001b[0mvalue\u001b[0m\u001b[0;34m)\u001b[0m\u001b[0;34m\u001b[0m\u001b[0;34m\u001b[0m\u001b[0m\n\u001b[0m\u001b[1;32m      2\u001b[0m \u001b[0mprint\u001b[0m\u001b[0;34m(\u001b[0m\u001b[0mOLD_log_p\u001b[0m\u001b[0;34m)\u001b[0m\u001b[0;34m\u001b[0m\u001b[0;34m\u001b[0m\u001b[0m\n",
      "\u001b[0;31mAttributeError\u001b[0m: 'FiniteDPP' object has no attribute 'OLD_log_prob'"
     ]
    }
   ],
   "source": [
    "OLD_log_p = DPP.OLD_log_prob(value)\n",
    "print(OLD_log_p)"
   ]
  },
  {
   "cell_type": "code",
   "execution_count": 82,
   "metadata": {},
   "outputs": [
    {
     "name": "stdout",
     "output_type": "stream",
     "text": [
      "tensor([-191.3760, -202.3045, -190.3987, -202.7072, -198.9339, -190.1297,\n",
      "        -179.3178, -197.3651, -195.2031, -194.6745, -203.8270, -198.6043,\n",
      "        -205.2301, -191.1152, -186.3945, -193.0165, -195.7259, -197.5692,\n",
      "        -196.3014, -197.0101, -199.9196, -193.0740, -200.1505, -202.8017,\n",
      "        -194.2516, -199.1216, -186.5667, -191.7514, -200.5530, -196.6481],\n",
      "       grad_fn=<SubBackward0>)\n"
     ]
    }
   ],
   "source": [
    "log_p = DPP.log_prob(value)\n",
    "print(log_p)"
   ]
  },
  {
   "cell_type": "code",
   "execution_count": 77,
   "metadata": {},
   "outputs": [
    {
     "name": "stdout",
     "output_type": "stream",
     "text": [
      "None\n",
      "None\n",
      "tensor([1.5521])\n",
      "tensor([0.])\n"
     ]
    }
   ],
   "source": [
    "print(similarity.similarity_s2.grad)\n",
    "print(similarity.similarity_w.grad)\n",
    "log_p.sum().backward()\n",
    "print(similarity.similarity_s2.grad)\n",
    "print(similarity.similarity_w.grad)"
   ]
  },
  {
   "cell_type": "code",
   "execution_count": null,
   "metadata": {},
   "outputs": [],
   "source": []
  },
  {
   "cell_type": "code",
   "execution_count": 78,
   "metadata": {},
   "outputs": [
    {
     "name": "stdout",
     "output_type": "stream",
     "text": [
      "tensor([ -98.3883,  -95.6295, -102.4156, -107.7099,  -92.8232,  -98.0463,\n",
      "        -102.7109,  -89.7170, -101.1470, -107.0532, -102.6955,  -86.5829,\n",
      "        -112.0418, -113.3100, -108.3110, -103.5347,  -97.7020,  -99.0648,\n",
      "        -103.6033,  -98.9097,  -93.3701,  -97.5867, -106.7261,  -88.1096,\n",
      "        -102.9354,  -99.4595,  -93.6434,  -96.0969,  -95.2765, -104.3446],\n",
      "       grad_fn=<SubBackward0>)\n"
     ]
    },
    {
     "data": {
      "text/plain": [
       "<matplotlib.image.AxesImage at 0x7fe3ab069100>"
      ]
     },
     "execution_count": 78,
     "metadata": {},
     "output_type": "execute_result"
    },
    {
     "data": {
      "image/png": "[encoded data removed]",
      "text/plain": [
       "<Figure size 864x864 with 4 Axes>"
      ]
     },
     "metadata": {
      "needs_background": "light"
     },
     "output_type": "display_data"
    }
   ],
   "source": []
  },
  {
   "cell_type": "markdown",
   "metadata": {},
   "source": [
    "### GUIDE"
   ]
  },
  {
   "cell_type": "code",
   "execution_count": 4,
   "metadata": {},
   "outputs": [
    {
     "ename": "NotImplementedError",
     "evalue": "",
     "output_type": "error",
     "traceback": [
      "\u001b[0;31m---------------------------------------------------------------------------\u001b[0m",
      "\u001b[0;31mNotImplementedError\u001b[0m                       Traceback (most recent call last)",
      "\u001b[0;32m<ipython-input-4-4ee247d56315>\u001b[0m in \u001b[0;36m<module>\u001b[0;34m\u001b[0m\n\u001b[1;32m     46\u001b[0m \u001b[0mc\u001b[0m \u001b[0;34m=\u001b[0m \u001b[0mpass_bernoulli\u001b[0m\u001b[0;34m(\u001b[0m\u001b[0mprob\u001b[0m\u001b[0;34m=\u001b[0m\u001b[0mq\u001b[0m\u001b[0;34m)\u001b[0m\u001b[0;34m\u001b[0m\u001b[0;34m\u001b[0m\u001b[0m\n\u001b[1;32m     47\u001b[0m \u001b[0;32mwith\u001b[0m \u001b[0mtorch\u001b[0m\u001b[0;34m.\u001b[0m\u001b[0mno_grad\u001b[0m\u001b[0;34m(\u001b[0m\u001b[0;34m)\u001b[0m\u001b[0;34m:\u001b[0m\u001b[0;34m\u001b[0m\u001b[0;34m\u001b[0m\u001b[0m\n\u001b[0;32m---> 48\u001b[0;31m     \u001b[0mnms_mask\u001b[0m \u001b[0;34m=\u001b[0m \u001b[0mcompute_nms\u001b[0m\u001b[0;34m(\u001b[0m\u001b[0mprob\u001b[0m\u001b[0;34m=\u001b[0m\u001b[0mq\u001b[0m\u001b[0;34m,\u001b[0m \u001b[0mc\u001b[0m\u001b[0;34m=\u001b[0m\u001b[0mc\u001b[0m\u001b[0;34m)\u001b[0m  \u001b[0;31m# only if c=1, there is NMS.\u001b[0m\u001b[0;34m\u001b[0m\u001b[0;34m\u001b[0m\u001b[0m\n\u001b[0m\u001b[1;32m     49\u001b[0m \u001b[0mc_mask\u001b[0m \u001b[0;34m=\u001b[0m \u001b[0mpass_mask\u001b[0m\u001b[0;34m(\u001b[0m\u001b[0mc\u001b[0m\u001b[0;34m,\u001b[0m \u001b[0mnms_mask\u001b[0m\u001b[0;34m)\u001b[0m\u001b[0;34m\u001b[0m\u001b[0;34m\u001b[0m\u001b[0m\n\u001b[1;32m     50\u001b[0m \u001b[0mlog_prob_posterior\u001b[0m \u001b[0;34m=\u001b[0m \u001b[0;34m(\u001b[0m\u001b[0mc_mask\u001b[0m\u001b[0;34m*\u001b[0m\u001b[0mlog_q\u001b[0m \u001b[0;34m+\u001b[0m \u001b[0;34m~\u001b[0m\u001b[0mc_mask\u001b[0m\u001b[0;34m*\u001b[0m\u001b[0mlog_one_minus_q\u001b[0m\u001b[0;34m)\u001b[0m\u001b[0;34m.\u001b[0m\u001b[0msum\u001b[0m\u001b[0;34m(\u001b[0m\u001b[0;34m)\u001b[0m\u001b[0;34m\u001b[0m\u001b[0;34m\u001b[0m\u001b[0m\n",
      "\u001b[0;32m<ipython-input-4-4ee247d56315>\u001b[0m in \u001b[0;36mcompute_nms\u001b[0;34m(prob, c)\u001b[0m\n\u001b[1;32m     25\u001b[0m \u001b[0;34m\u001b[0m\u001b[0m\n\u001b[1;32m     26\u001b[0m \u001b[0;32mdef\u001b[0m \u001b[0mcompute_nms\u001b[0m\u001b[0;34m(\u001b[0m\u001b[0mprob\u001b[0m\u001b[0;34m,\u001b[0m \u001b[0mc\u001b[0m\u001b[0;34m)\u001b[0m\u001b[0;34m:\u001b[0m\u001b[0;34m\u001b[0m\u001b[0;34m\u001b[0m\u001b[0m\n\u001b[0;32m---> 27\u001b[0;31m     \u001b[0;32mraise\u001b[0m \u001b[0mNotImplementedError\u001b[0m\u001b[0;34m\u001b[0m\u001b[0;34m\u001b[0m\u001b[0m\n\u001b[0m\u001b[1;32m     28\u001b[0m     \u001b[0mnms_mask\u001b[0m \u001b[0;34m=\u001b[0m \u001b[0;34m(\u001b[0m\u001b[0mc\u001b[0m \u001b[0;34m==\u001b[0m \u001b[0;36m1\u001b[0m\u001b[0;34m)\u001b[0m\u001b[0;34m\u001b[0m\u001b[0;34m\u001b[0m\u001b[0m\n\u001b[1;32m     29\u001b[0m     \u001b[0;32mreturn\u001b[0m \u001b[0mnms_mask\u001b[0m\u001b[0;34m\u001b[0m\u001b[0;34m\u001b[0m\u001b[0m\n",
      "\u001b[0;31mNotImplementedError\u001b[0m: "
     ]
    }
   ],
   "source": [
    "class PassBernoulli(torch.autograd.Function):\n",
    "    @staticmethod\n",
    "    def forward(ctx, p):\n",
    "        c = torch.rand_like(p)<p\n",
    "        return c\n",
    "    \n",
    "    @staticmethod\n",
    "    def backward(ctx, grad_output):\n",
    "        return grad_output\n",
    "\n",
    "def pass_bernoulli(prob):\n",
    "    return PassBernoulli.apply(prob)\n",
    "    \n",
    "class PassMask(torch.autograd.Function):\n",
    "    @staticmethod\n",
    "    def forward(ctx, c, mask):\n",
    "        return c*nms_mask\n",
    "    \n",
    "    @staticmethod\n",
    "    def backward(ctx, grad_output):\n",
    "        return grad_output\n",
    "    \n",
    "def pass_mask(c, mask):\n",
    "    return PassMask.apply(c, mask)\n",
    "\n",
    "def compute_nms(prob, c):\n",
    "    raise NotImplementedError\n",
    "    nms_mask = (c == 1)\n",
    "    return nms_mask\n",
    "\n",
    "\n",
    "raw =torch.randn((b,1,w,h))\n",
    "q = torch.sigmoid(raw)\n",
    "\n",
    "# Correction factor\n",
    "if prob_corr_factor == 0:\n",
    "    log_q = F.logsigmoid(raw)\n",
    "    log_one_minus_q = F.logsigmoid(-raw)\n",
    "else:\n",
    "    correction = torch.rand_like(q)\n",
    "    q = ((1-prob_corr_factor)*q + prob_corr_factor*correction).clamp(min=1E-4, max=1-1E-4)\n",
    "    log_q = torch.log(q)\n",
    "    log_one_minus_q = torch.log1p(-q)\n",
    "\n",
    "# sample, NMS, log_prob\n",
    "c = pass_bernoulli(prob=q)\n",
    "with torch.no_grad():\n",
    "    nms_mask = compute_nms(prob=q, c=c)  # only if c=1, there is NMS.\n",
    "c_mask = pass_mask(c, nms_mask) \n",
    "log_prob_posterior = (c_mask*log_q + ~c_mask*log_one_minus_q).sum()"
   ]
  },
  {
   "cell_type": "code",
   "execution_count": 5,
   "metadata": {},
   "outputs": [
    {
     "ename": "NameError",
     "evalue": "name 'c_mask' is not defined",
     "output_type": "error",
     "traceback": [
      "\u001b[0;31m---------------------------------------------------------------------------\u001b[0m",
      "\u001b[0;31mNameError\u001b[0m                                 Traceback (most recent call last)",
      "\u001b[0;32m<ipython-input-5-e9ae8752dc7f>\u001b[0m in \u001b[0;36m<module>\u001b[0;34m\u001b[0m\n\u001b[1;32m      2\u001b[0m \u001b[0max\u001b[0m\u001b[0;34m[\u001b[0m\u001b[0;36m0\u001b[0m\u001b[0;34m]\u001b[0m\u001b[0;34m.\u001b[0m\u001b[0mimshow\u001b[0m\u001b[0;34m(\u001b[0m\u001b[0mq\u001b[0m\u001b[0;34m[\u001b[0m\u001b[0;36m0\u001b[0m\u001b[0;34m,\u001b[0m\u001b[0;36m0\u001b[0m\u001b[0;34m]\u001b[0m\u001b[0;34m)\u001b[0m\u001b[0;34m\u001b[0m\u001b[0;34m\u001b[0m\u001b[0m\n\u001b[1;32m      3\u001b[0m \u001b[0max\u001b[0m\u001b[0;34m[\u001b[0m\u001b[0;36m1\u001b[0m\u001b[0;34m]\u001b[0m\u001b[0;34m.\u001b[0m\u001b[0mimshow\u001b[0m\u001b[0;34m(\u001b[0m\u001b[0mc\u001b[0m\u001b[0;34m[\u001b[0m\u001b[0;36m0\u001b[0m\u001b[0;34m,\u001b[0m\u001b[0;36m0\u001b[0m\u001b[0;34m]\u001b[0m\u001b[0;34m)\u001b[0m\u001b[0;34m\u001b[0m\u001b[0;34m\u001b[0m\u001b[0m\n\u001b[0;32m----> 4\u001b[0;31m \u001b[0max\u001b[0m\u001b[0;34m[\u001b[0m\u001b[0;36m2\u001b[0m\u001b[0;34m]\u001b[0m\u001b[0;34m.\u001b[0m\u001b[0mimshow\u001b[0m\u001b[0;34m(\u001b[0m\u001b[0mc_mask\u001b[0m\u001b[0;34m[\u001b[0m\u001b[0;36m0\u001b[0m\u001b[0;34m,\u001b[0m\u001b[0;36m0\u001b[0m\u001b[0;34m]\u001b[0m\u001b[0;34m)\u001b[0m\u001b[0;34m\u001b[0m\u001b[0;34m\u001b[0m\u001b[0m\n\u001b[0m",
      "\u001b[0;31mNameError\u001b[0m: name 'c_mask' is not defined"
     ]
    },
    {
     "data": {
      "image/png": "[encoded data removed]",
      "text/plain": [
       "<Figure size 864x864 with 3 Axes>"
      ]
     },
     "metadata": {
      "needs_background": "light"
     },
     "output_type": "display_data"
    }
   ],
   "source": [
    "fig, ax =  plt.subplots(ncols=3, figsize=(12,12))\n",
    "ax[0].imshow(q[0,0])\n",
    "ax[1].imshow(c[0,0])\n",
    "ax[2].imshow(c_mask[0,0])"
   ]
  },
  {
   "cell_type": "markdown",
   "metadata": {},
   "source": [
    "### MODEL"
   ]
  },
  {
   "cell_type": "code",
   "execution_count": 23,
   "metadata": {},
   "outputs": [],
   "source": [
    "from torch.distributions.distribution import Distribution\n",
    "from torch.distributions import constraints\n",
    "from MODULES.utilities_ml import are_broadcastable\n",
    "\n",
    "class Similarity(torch.nn.Module):\n",
    "    \"\"\" Similarity based on sum of gaussian kernels of different strength and length_scales \"\"\"\n",
    "\n",
    "    def __init__(self, n_kernels: int = 4, eps: float = 1E-4):\n",
    "        super().__init__()\n",
    "        \n",
    "        self.n_kernels = n_kernels\n",
    "        self.eps = eps\n",
    "        self.device = torch.device('cuda') if torch.cuda.is_available() else torch.device('cpu')\n",
    "        \n",
    "        self.w = torch.nn.Parameter(data=torch.randn(self.n_kernels, \n",
    "                                                     device=self.device, \n",
    "                                                     dtype=torch.float), requires_grad=True)\n",
    "        self.b = torch.nn.Parameter(data=25*torch.ones(self.n_kernels, \n",
    "                                                     device=self.device, \n",
    "                                                     dtype=torch.float), requires_grad=True)\n",
    "        \n",
    "        # Initialization\n",
    "        self.n_width = -1\n",
    "        self.n_height = -1\n",
    "        self.d2 = None\n",
    "        self.diag = None \n",
    "        \n",
    "    def _compute_d2_diag(self, n_width: int, n_height: int):\n",
    "        with torch.no_grad():\n",
    "            ix_array = torch.arange(start=0, end=n_width, dtype=torch.int, device=self.device)\n",
    "            iy_array = torch.arange(start=0, end=n_height, dtype=torch.int, device=self.device)\n",
    "            ix_grid, iy_grid = torch.meshgrid([ix_array, iy_array])\n",
    "            map_points = torch.stack((ix_grid, iy_grid), dim=-1)  # n_width, n_height, 2\n",
    "            locations = map_points.flatten(start_dim=0, end_dim=-2)  # (n_width*n_height, 2)\n",
    "            d2 = (locations.unsqueeze(-2) - locations.unsqueeze(-3)).pow(2).sum(dim=-1).float()\n",
    "            diag = torch.eye(d2.shape[-2], \n",
    "                             dtype=torch.float, \n",
    "                             device=self.device, \n",
    "                             requires_grad=False) * self.eps\n",
    "            return d2, diag\n",
    "        \n",
    "    def sample_2_mask(self, sample):\n",
    "        independent_dims = list(sample.shape[:-1])\n",
    "        mask = sample.view(independent_dims+[self.n_width, self.n_height])\n",
    "        return mask\n",
    "        \n",
    "    def forward(self, n_width: int, n_height: int):\n",
    "        \"\"\" Implement L = sum_i a_i exp[-b_i d2] \"\"\"\n",
    "        sigma2 = F.softplus(self.b).view(-1,1,1)  # add singleton for w,h\n",
    "        print(sigma2)\n",
    "        w = F.softplus(self.w).view(-1,1,1)  # add singleton for w,h\n",
    "        \n",
    "        if (n_width != self.n_width) or (n_height != self.n_height):\n",
    "            self.n_width=n_width\n",
    "            self.n_height=n_height\n",
    "            self.d2, self.diag = self._compute_d2_diag(n_width=n_width, n_height=n_height)\n",
    "                    \n",
    "        likelihood_kernel = (w*torch.exp(-0.5*self.d2/sigma2)).sum(dim=-3) + self.diag\n",
    "        return likelihood_kernel  # shape (n_width*n_height, n_width*n_height)\n",
    "    \n",
    "class FiniteDPP(Distribution):\n",
    "    \"\"\" Finite DPP distribution defined via:\n",
    "        1. L = likelihood kernel of shape *,n,n \n",
    "        2. K = correlation kernel of shape *,n,n \n",
    "        \n",
    "        The constraints are:\n",
    "        K = positive semidefinite, symmetric, eigenvalues in [0,1]\n",
    "        L = positive semidefinite, symmetric, eigenvalues >= 0\n",
    "    \"\"\"\n",
    "    \n",
    "    arg_constraints = {'K': constraints.positive_definite, \n",
    "                       'L': constraints.positive_definite}\n",
    "    support = constraints.boolean\n",
    "    has_rsample = False\n",
    "    \n",
    "    def __init__(self, K=None, L=None, validate_args=None):\n",
    "        \n",
    "        if (K is None and L is None) or (K is not None and L is not None):\n",
    "            raise Exception(\"only one among K and L need to be defined\")\n",
    "                    \n",
    "        elif K is not None:\n",
    "            self.K = 0.5*(K+K.transpose(-1,-2))  # make sure it is symmetrized\n",
    "            u,s_k,v = torch.svd(self.K)\n",
    "            s_l = s_k / (1.0-s_k)\n",
    "            self.L = torch.matmul(u * s_l.unsqueeze(-2), v.transpose(-1,-2))\n",
    "            \n",
    "            tmp = torch.matmul(u * s_k.unsqueeze(-2), v.transpose(-1,-2))\n",
    "            check = (tmp-self.K).abs().max()\n",
    "            # print(\"check ->\",check)\n",
    "            assert check < 1E-4\n",
    "            \n",
    "        else:\n",
    "            self.L = 0.5*(L+L.transpose(-1,-2))  # make sure it is symmetrized \n",
    "            u,s_l,v = torch.svd(self.L) \n",
    "            s_k = s_l / (1.0+s_l) \n",
    "            self.K = torch.matmul(u * s_k.unsqueeze(-2), v.transpose(-1,-2))\n",
    "            \n",
    "            tmp = torch.matmul(u * s_l.unsqueeze(-2), v.transpose(-1,-2))\n",
    "            check = (tmp-self.L).abs().max()\n",
    "            # print(\"check ->\",check)\n",
    "            assert check < 1E-4\n",
    "        \n",
    "        self.s_l = s_l            \n",
    "        batch_shape, event_shape = self.K.shape[:-2], self.K.shape[-1:]\n",
    "        super(FiniteDPP, self).__init__(batch_shape, event_shape, validate_args=validate_args)\n",
    "        \n",
    "    def expand(self, batch_shape, _instance=None):\n",
    "        new = self._get_checked_instance(FiniteDPP, _instance)\n",
    "        batch_shape = torch.Size(batch_shape)\n",
    "        kernel_shape = batch_shape + self.event_shape + self.event_shape\n",
    "        value_shape = batch_shape + self.event_shape \n",
    "        new.s_l = self.s_l.expand(value_shape) \n",
    "        new.L = self.L.expand(kernel_shape)\n",
    "        new.K = self.K.expand(kernel_shape)\n",
    "        super(FiniteDPP, new).__init__(batch_shape,\n",
    "                                       self.event_shape,\n",
    "                                       validate_args=False)\n",
    "        new._validate_args = self._validate_args\n",
    "        return new\n",
    "\n",
    "    \n",
    "    def sample(self, sample_shape=torch.Size()):\n",
    "        shape_value = self._extended_shape(sample_shape)  # shape = sample_shape + batch_shape + event_shape\n",
    "        shape_kernel = shape_value + self._event_shape  # shape = sample_shape + batch_shape + event_shape + event_shape\n",
    "        \n",
    "        with torch.no_grad():\n",
    "            K = self.K.expand(shape_kernel).clone()\n",
    "            value = torch.zeros(shape_value, dtype=torch.bool, device=K.device)\n",
    "            rand = torch.rand(shape_value, dtype=K.dtype, device=K.device)\n",
    "\n",
    "            for j in range(rand.shape[-1]):\n",
    "                c = rand[...,j]<K[...,j,j] \n",
    "                value[...,j] = c\n",
    "                K[..., j, j] -= (~c).to(K.dtype)\n",
    "                K[..., j + 1:, j] /= K[..., j, j].unsqueeze(-1)\n",
    "                K[..., j + 1:, j + 1:] -= K[..., j + 1:, j].unsqueeze(-1) * K[..., j, j + 1:].unsqueeze(-2)\n",
    "        \n",
    "            return value\n",
    "\n",
    "    def log_prob(self, value):\n",
    "        \"\"\" log_prob = logdet(Ls) - logdet(L+I)\n",
    "            I am using the fact that eigen(L+I) = eigen(L)+1 \n",
    "            -> logdet(L+I)=log prod[ eigen(L+I) ] = sum log(eigen(L+I)) = sum log(eigen(L)+1) \n",
    "            \n",
    "            # value.shape = sample_shape + batch_shape + event_shape\n",
    "            # logdet(L+I).shape = batch_shape\n",
    "        \"\"\"\n",
    "        assert are_broadcastable(value, self.L[...,0])\n",
    "        assert self.L.device == value.device\n",
    "        assert value.dtype == torch.bool\n",
    "        \n",
    "        if self._validate_args:\n",
    "            self._validate_sample(value)\n",
    "        \n",
    "        logdet_L_plus_I = (self.s_l+1).log().sum(dim=-1)  # batch_shape\n",
    "        \n",
    "        # Reshapes\n",
    "        independet_dims = list(value.shape[:-1])\n",
    "        value = value.flatten(start_dim=0, end_dim=-2)  # *, event_shape\n",
    "        L = self.L.expand(independet_dims+[-1,-1]).flatten(start_dim=0, end_dim=-3)  # *, event_shape, event_shape\n",
    "        logdet_Ls = torch.zeros(independet_dims, dtype=self.L.dtype, device=value.device).view(-1)  # *\n",
    "        \n",
    "        # Select rows and columns of the matrix which correspond to selected particles\n",
    "        for i in range(logdet_Ls.shape[0]):\n",
    "            tmp = L[i,value[i],:][:,value[i]]\n",
    "            logdet_Ls[i] = torch.logdet(tmp)\n",
    "        logdet_Ls = logdet_Ls.view(independet_dims)  # sample_shape, batch_shape\n",
    "        return logdet_Ls - logdet_L_plus_I"
   ]
  },
  {
   "cell_type": "code",
   "execution_count": 24,
   "metadata": {},
   "outputs": [
    {
     "name": "stdout",
     "output_type": "stream",
     "text": [
      "tensor([[[25.]],\n",
      "\n",
      "        [[25.]],\n",
      "\n",
      "        [[25.]],\n",
      "\n",
      "        [[25.]]], grad_fn=<ViewBackward>)\n",
      "tensor([-75.7696, -80.0176, -73.2170], grad_fn=<SubBackward0>)\n"
     ]
    },
    {
     "data": {
      "text/plain": [
       "<matplotlib.image.AxesImage at 0x7ffd216bc8e0>"
      ]
     },
     "execution_count": 24,
     "metadata": {},
     "output_type": "execute_result"
    },
    {
     "data": {
      "image/png": "[encoded data removed]",
      "text/plain": [
       "<Figure size 864x864 with 4 Axes>"
      ]
     },
     "metadata": {
      "needs_background": "light"
     },
     "output_type": "display_data"
    }
   ],
   "source": [
    "similarity = Similarity()\n",
    "L = similarity(n_width=20, n_height=20)\n",
    "DPP = FiniteDPP(L=L)\n",
    "value = DPP.sample(sample_shape=torch.Size([3]))\n",
    "log_p = DPP.log_prob(value)\n",
    "mask = similarity.sample_2_mask(value)\n",
    "\n",
    "print(log_p)\n",
    "fig, ax =  plt.subplots(ncols=4, figsize=(12,12))\n",
    "ax[0].imshow(mask[0])\n",
    "ax[1].imshow(mask[1])\n",
    "ax[2].imshow(mask[2])\n",
    "ax[3].imshow(mask.sum(dim=(-3)))"
   ]
  },
  {
   "cell_type": "code",
   "execution_count": null,
   "metadata": {},
   "outputs": [],
   "source": []
  },
  {
   "cell_type": "code",
   "execution_count": null,
   "metadata": {},
   "outputs": [],
   "source": []
  }
 ],
 "metadata": {
  "kernelspec": {
   "display_name": "Python 3",
   "language": "python",
   "name": "python3"
  },
  "language_info": {
   "codemirror_mode": {
    "name": "ipython",
    "version": 3
   },
   "file_extension": ".py",
   "mimetype": "text/x-python",
   "name": "python",
   "nbconvert_exporter": "python",
   "pygments_lexer": "ipython3",
   "version": "3.8.2"
  }
 },
 "nbformat": 4,
 "nbformat_minor": 4
}
