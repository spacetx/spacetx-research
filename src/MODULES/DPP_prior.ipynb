{
 "cells": [
  {
   "cell_type": "code",
   "execution_count": 4,
   "metadata": {},
   "outputs": [],
   "source": [
    "%load_ext autoreload\n",
    "%autoreload 2"
   ]
  },
  {
   "cell_type": "code",
   "execution_count": 274,
   "metadata": {},
   "outputs": [],
   "source": [
    "%matplotlib inline\n",
    "import matplotlib.pyplot as plt\n",
    "import torch\n",
    "import torch.nn.functional as F\n",
    "import numpy as np\n"
   ]
  },
  {
   "cell_type": "markdown",
   "metadata": {},
   "source": [
    "### Params"
   ]
  },
  {
   "cell_type": "code",
   "execution_count": 275,
   "metadata": {},
   "outputs": [],
   "source": [
    "b,w,h = 2,20,20\n",
    "device = torch.device('cuda') if torch.cuda.is_available() else torch.device('cpu')"
   ]
  },
  {
   "cell_type": "markdown",
   "metadata": {},
   "source": [
    "### MODEL"
   ]
  },
  {
   "cell_type": "code",
   "execution_count": 338,
   "metadata": {},
   "outputs": [],
   "source": [
    "class Similarity(torch.nn.Module):\n",
    "    \"\"\" Similarity based on sum of gaussian kernels of different strength and length_scales \"\"\"\n",
    "\n",
    "    def __init__(self, n_kernels: int = 4, eps: float = 1E-6):\n",
    "        super().__init__()\n",
    "        \n",
    "        self.n_kernels = n_kernels\n",
    "        self.eps = eps\n",
    "        self.device = torch.device('cuda') if torch.cuda.is_available() else torch.device('cpu')\n",
    "        \n",
    "        self.w = torch.nn.Parameter(data=torch.randn(self.n_kernels, \n",
    "                                                     device=self.device, \n",
    "                                                     dtype=torch.float), requires_grad=True)\n",
    "        self.b = torch.nn.Parameter(data=torch.randn(self.n_kernels, \n",
    "                                                     device=self.device, \n",
    "                                                     dtype=torch.float), requires_grad=True)\n",
    "        \n",
    "        \n",
    "        # Initialization\n",
    "        self.n_width = -1\n",
    "        self.n_height = -1\n",
    "        self.ix_grid = None\n",
    "        self.iy_grid = None\n",
    "        self.d2 = None\n",
    "        self.diag = None \n",
    "        \n",
    "        \n",
    "    def compute_ixgrid_iygrid_d2_diag(self, n_width: int, n_height: int):\n",
    "        with torch.no_grad():\n",
    "            ix_array = torch.arange(start=0, end=n_width, dtype=torch.int, device=self.device)\n",
    "            iy_array = torch.arange(start=0, end=n_height, dtype=torch.int, device=self.device)\n",
    "            ix_grid, iy_grid = torch.meshgrid([ix_array, iy_array])\n",
    "            pmap_points = torch.stack((ix_grid, iy_grid), dim=-1)  # n_width, n_height, 2\n",
    "            tmp = pmap_points.flatten(start_dim=0, end_dim=-2)  # (n_width*n_height, 2)\n",
    "            d2 = (tmp.unsqueeze(-2) - tmp.unsqueeze(-3)).pow(2).sum(dim=-1).float()\n",
    "            diag = torch.eye(d2.shape[-2], \n",
    "                             dtype=torch.float, \n",
    "                             device=self.device, \n",
    "                             requires_grad=False) * self.eps\n",
    "            return ix_grid, iy_grid, d2, diag\n",
    "        \n",
    "    \n",
    "    def forward(self, n_width: int, n_height: int):\n",
    "        \"\"\" Implement L = sum_i a_i exp[-b_i d2] \"\"\"\n",
    "        b = F.softplus(self.b).view(-1,1,1)\n",
    "        w = F.softplus(self.w).view(-1,1,1)\n",
    "        \n",
    "        if (n_width != self.n_width) or (n_height != self.n_height):\n",
    "            self.n_width=n_width\n",
    "            self.n_height=n_height\n",
    "            tmp = self.compute_ixgrid_iygrid_d2_diag(n_width=n_width, n_height=n_height)\n",
    "            self.ix_grid, self.iy_grid, self.d2, self.diag = tmp\n",
    "                    \n",
    "        #likelihood_kernel = (w*torch.exp(-b*self.d2)).sum(dim=-3) + self.diag\n",
    "        \n",
    "        likelihood_kernel = torch.exp(-0.1*self.d2) + self.diag\n",
    "        return likelihood_kernel  # shape (n_width*n_height, n_width*n_height)\n",
    "    \n",
    "    #def plot(self, sample):\n",
    "    #    loc = torch.zeros(self.K.shape[-1])\n",
    "    #    loc[sample] = 1\n",
    "    #    loc.view()"
   ]
  },
  {
   "cell_type": "code",
   "execution_count": 339,
   "metadata": {},
   "outputs": [],
   "source": [
    "class Dpp(object):\n",
    "    \n",
    "    def __init__(self, L=None):\n",
    "        self.L = L\n",
    "        print(self.L)\n",
    "        lower = torch.cholesky(L)\n",
    "        #debug1 = (torch.matmul(tmp,tmp.T)-L).abs().max()\n",
    "        #print(debug1)\n",
    "        \n",
    "        d = torch.diagonal(lower, offset=0, dim1=-2, dim2=-1)\n",
    "        self.L_eig_vals = d.pow(2)\n",
    "        print(self.L_eig_vals)\n",
    "        self.eig_vecs = lower/d\n",
    "        #debug2 = (torch.matmul(self.eig_vecs*self.L_eig_vals, self.eig_vecs.T)-L).abs().max()\n",
    "        #print(debug2)\n",
    "        \n",
    "        self.K_eig_vals = self.L_eig_vals / (1.0 + self.L_eig_vals)\n",
    "        self.K = torch.matmul(self.eig_vecs * self.K_eig_vals, self.eig_vecs.T)\n",
    "        print(self.K_eig_vals)\n",
    "        print(self.K)\n",
    "        \n",
    "    def sample(self):\n",
    "        A = self.L.clone()\n",
    "        sample = []\n",
    "\n",
    "        for j in range(len(A)):\n",
    "\n",
    "            if torch.rand(1) < A[j, j]:\n",
    "                sample.append(j)\n",
    "            else:\n",
    "                A[j, j] -= 1\n",
    "\n",
    "            A[j + 1:, j] /= A[j, j]\n",
    "            A[j + 1:, j + 1:] -= A[j + 1:, j].unsqueeze(-1)*A[j, j + 1:].unsqueeze(-2)\n",
    "\n",
    "        return sample #, A\n",
    "    \n"
   ]
  },
  {
   "cell_type": "code",
   "execution_count": null,
   "metadata": {},
   "outputs": [],
   "source": [
    "PROBLEM. \n",
    "0. USE THE MODEL STRAIGHT FROM THE CODE AND SEE IF IT WORKS\n",
    "1. MATRIX K is not translationally invariant...\n",
    "2. SAMPLE ALWAYS PREFER THE FIRST LOCATION\n",
    "3. Implement a nice plotting\n"
   ]
  },
  {
   "cell_type": "code",
   "execution_count": 340,
   "metadata": {},
   "outputs": [
    {
     "name": "stdout",
     "output_type": "stream",
     "text": [
      "torch.Size([8, 8])\n"
     ]
    }
   ],
   "source": [
    "similarity = Similarity()\n",
    "L = similarity.forward(n_width=4, n_height=2)\n",
    "print(L.shape)"
   ]
  },
  {
   "cell_type": "code",
   "execution_count": 342,
   "metadata": {},
   "outputs": [
    {
     "name": "stdout",
     "output_type": "stream",
     "text": [
      "tensor([[1.0000, 0.9048, 0.9048, 0.8187, 0.6703, 0.6065, 0.4066, 0.3679],\n",
      "        [0.9048, 1.0000, 0.8187, 0.9048, 0.6065, 0.6703, 0.3679, 0.4066],\n",
      "        [0.9048, 0.8187, 1.0000, 0.9048, 0.9048, 0.8187, 0.6703, 0.6065],\n",
      "        [0.8187, 0.9048, 0.9048, 1.0000, 0.8187, 0.9048, 0.6065, 0.6703],\n",
      "        [0.6703, 0.6065, 0.9048, 0.8187, 1.0000, 0.9048, 0.9048, 0.8187],\n",
      "        [0.6065, 0.6703, 0.8187, 0.9048, 0.9048, 1.0000, 0.8187, 0.9048],\n",
      "        [0.4066, 0.3679, 0.6703, 0.6065, 0.9048, 0.8187, 1.0000, 0.9048],\n",
      "        [0.3679, 0.4066, 0.6065, 0.6703, 0.8187, 0.9048, 0.9048, 1.0000]])\n",
      "tensor([1.0000, 0.1813, 0.1813, 0.0329, 0.0598, 0.0108, 0.0270, 0.0049])\n",
      "tensor([0.5000, 0.1535, 0.1535, 0.0318, 0.0564, 0.0107, 0.0263, 0.0049])\n",
      "tensor([[0.5000, 0.4524, 0.4524, 0.4094, 0.3352, 0.3033, 0.2033, 0.1839],\n",
      "        [0.4524, 0.5628, 0.4094, 0.5093, 0.3033, 0.3773, 0.1839, 0.2288],\n",
      "        [0.4524, 0.4094, 0.5628, 0.5093, 0.5558, 0.5029, 0.4400, 0.3981],\n",
      "        [0.4094, 0.5093, 0.5093, 0.6182, 0.5029, 0.6005, 0.3981, 0.4697],\n",
      "        [0.3352, 0.3033, 0.5558, 0.5029, 0.6966, 0.6303, 0.6846, 0.6195],\n",
      "        [0.3033, 0.3773, 0.5029, 0.6005, 0.6303, 0.7362, 0.6195, 0.7138],\n",
      "        [0.2033, 0.1839, 0.4400, 0.3981, 0.6846, 0.6195, 0.8221, 0.7439],\n",
      "        [0.1839, 0.2288, 0.3981, 0.4697, 0.6195, 0.7138, 0.7439, 0.8462]])\n"
     ]
    }
   ],
   "source": [
    "dpp = Dpp(L=L)\n",
    "#dpp.sample()"
   ]
  },
  {
   "cell_type": "code",
   "execution_count": null,
   "metadata": {},
   "outputs": [],
   "source": []
  },
  {
   "cell_type": "code",
   "execution_count": null,
   "metadata": {},
   "outputs": [],
   "source": []
  },
  {
   "cell_type": "code",
   "execution_count": null,
   "metadata": {},
   "outputs": [],
   "source": []
  },
  {
   "cell_type": "code",
   "execution_count": null,
   "metadata": {},
   "outputs": [],
   "source": []
  },
  {
   "cell_type": "code",
   "execution_count": null,
   "metadata": {},
   "outputs": [],
   "source": []
  },
  {
   "cell_type": "code",
   "execution_count": null,
   "metadata": {},
   "outputs": [],
   "source": []
  },
  {
   "cell_type": "code",
   "execution_count": null,
   "metadata": {},
   "outputs": [],
   "source": []
  },
  {
   "cell_type": "code",
   "execution_count": null,
   "metadata": {},
   "outputs": [],
   "source": []
  },
  {
   "cell_type": "code",
   "execution_count": 236,
   "metadata": {},
   "outputs": [
    {
     "name": "stdout",
     "output_type": "stream",
     "text": [
      "torch.Size([8, 8])\n"
     ]
    },
    {
     "data": {
      "text/plain": [
       "<matplotlib.image.AxesImage at 0x7fc5c50b2dc0>"
      ]
     },
     "execution_count": 236,
     "metadata": {},
     "output_type": "execute_result"
    },
    {
     "data": {
      "image/png": "[encoded data removed]",
      "text/plain": [
       "<Figure size 864x864 with 4 Axes>"
      ]
     },
     "metadata": {
      "needs_background": "light"
     },
     "output_type": "display_data"
    }
   ],
   "source": [
    "fig, ax =  plt.subplots(ncols=4, figsize=(12,12))\n",
    "ax[0].imshow(L.detach().numpy())\n",
    "ax[1].imshow(s.d2)\n",
    "ax[2].imshow(s.ix_grid)\n",
    "ax[3].imshow(s.iy_grid)"
   ]
  },
  {
   "cell_type": "code",
   "execution_count": 227,
   "metadata": {},
   "outputs": [],
   "source": []
  },
  {
   "cell_type": "code",
   "execution_count": 228,
   "metadata": {},
   "outputs": [],
   "source": []
  },
  {
   "cell_type": "code",
   "execution_count": 231,
   "metadata": {},
   "outputs": [
    {
     "data": {
      "text/plain": [
       "[1, 2, 5, 6]"
      ]
     },
     "execution_count": 231,
     "metadata": {},
     "output_type": "execute_result"
    }
   ],
   "source": []
  },
  {
   "cell_type": "code",
   "execution_count": 186,
   "metadata": {},
   "outputs": [],
   "source": [
    "def dpp_sampler_generic_kernel(K, random_state=None):\n",
    "    \"\"\" Sample from generic :math:`\\\\operatorname{DPP}(\\\\mathbf{K})` with potentially non hermitian correlation kernel :math:`\\\\operatorname{DPP}(\\\\mathbf{K})` based on :math:`LU` factorization procedure.\n",
    "    :param K:\n",
    "        Correlation kernel (potentially non hermitian).\n",
    "    :type K:\n",
    "        array_like\n",
    "    :return:\n",
    "        A sample :math:`\\\\mathcal{X}` from :math:`\\\\operatorname{DPP}(K)` and\n",
    "        the in-place :math:`LU factorization of :math:`K − I_{\\\\mathcal{X}^{c}}` where :math:`I_{\\\\mathcal{X}^{c}}` is the diagonal indicator matrix for the entries not in the sample :math:`\\\\mathcal{X}`.\n",
    "    :rtype:\n",
    "        list and array_like\n",
    "    .. seealso::\n",
    "        - :cite:`Pou19` Algorithm 1\n",
    "    \"\"\"\n",
    "\n",
    "    A = K.clone()\n",
    "    sample = []\n",
    "\n",
    "    for j in range(len(A)):\n",
    "\n",
    "        if torch.rand(1) < A[j, j]:\n",
    "            sample.append(j)\n",
    "        else:\n",
    "            A[j, j] -= 1\n",
    "\n",
    "        A[j + 1:, j] /= A[j, j]\n",
    "        A[j + 1:, j + 1:] -= A[j + 1:, j]*A[j, j + 1:]\n",
    "\n",
    "    return sample, A"
   ]
  },
  {
   "cell_type": "code",
   "execution_count": 187,
   "metadata": {},
   "outputs": [
    {
     "data": {
      "text/plain": [
       "([1, 2, 3, 5, 6],\n",
       " tensor([[-0.1922,  0.5003,  0.5003,  0.3194,  0.1415,  0.0976,  0.0257,  0.0189],\n",
       "         [-2.6029,  2.3337,  1.6260,  1.1669,  0.2062,  0.2274,  0.0236,  0.0339],\n",
       "         [-2.6029,  0.6967,  1.2010,  0.1977,  0.6659,  0.3411,  0.1880,  0.1187],\n",
       "         [-1.6616,  0.8307,  0.6709,  0.7031, -0.0506,  0.5707,  0.0748,  0.1912],\n",
       "         [-0.7361,  0.6018,  0.7121, -0.1816, -0.2857,  0.2735,  0.7528,  0.5372],\n",
       "         [-0.5076,  0.6343,  0.5039,  0.3784, -0.8849,  1.2316,  1.1969,  0.9564],\n",
       "         [-0.1338,  0.5667,  0.3059, -0.6101, -0.9498,  0.2136,  1.7250,  0.2931],\n",
       "         [-0.0982,  0.5718,  0.2545, -0.4725,  0.0307,  0.5600,  0.7189, -0.1762]],\n",
       "        grad_fn=<CopySlices>))"
      ]
     },
     "execution_count": 187,
     "metadata": {},
     "output_type": "execute_result"
    }
   ],
   "source": [
    "dpp_sampler_generic_kernel(dpp.K)"
   ]
  },
  {
   "cell_type": "code",
   "execution_count": 145,
   "metadata": {},
   "outputs": [
    {
     "name": "stdout",
     "output_type": "stream",
     "text": [
      "tensor(2.3842e-07, grad_fn=<MaxBackward1>)\n",
      "tensor(2.3842e-07, grad_fn=<MaxBackward1>)\n"
     ]
    }
   ],
   "source": [
    "dpp = Dpp(similarity=L)"
   ]
  },
  {
   "cell_type": "code",
   "execution_count": 146,
   "metadata": {},
   "outputs": [
    {
     "name": "stdout",
     "output_type": "stream",
     "text": [
      "tensor([1.6907, 1.3997, 1.3958, 1.2219, 1.3786, 1.2081, 1.3742, 1.2052],\n",
      "       grad_fn=<DiagonalBackward>)\n",
      "tensor([0.4274, 0.5954, 0.7741, 0.6738, 0.0093, 0.0381, 0.6485, 0.4944])\n",
      "tensor([False,  True,  True,  True, False, False,  True, False])\n"
     ]
    }
   ],
   "source": [
    "dpp.sample()"
   ]
  },
  {
   "cell_type": "code",
   "execution_count": 110,
   "metadata": {},
   "outputs": [
    {
     "name": "stdout",
     "output_type": "stream",
     "text": [
      "tensor([[0., 1., 2.],\n",
      "        [3., 4., 5.],\n",
      "        [6., 7., 8.]])\n",
      "tensor([[0., 3., 6.],\n",
      "        [1., 4., 7.],\n",
      "        [2., 5., 8.]])\n"
     ]
    }
   ],
   "source": [
    "a = torch.arange(9).view(3,3).float()\n",
    "print(a)\n",
    "print(a.T)"
   ]
  },
  {
   "cell_type": "markdown",
   "metadata": {},
   "source": [
    "### GUIDE"
   ]
  },
  {
   "cell_type": "code",
   "execution_count": null,
   "metadata": {},
   "outputs": [],
   "source": [
    "\n",
    "\n",
    "logit = torch.randn((b,1,w,h))\n",
    "pb = pass_bernoulli(logit=logit)\n",
    "\n",
    "c = pb.sample()\n",
    "log_p = pb.log_prob(c)\n"
   ]
  }
 ],
 "metadata": {
  "kernelspec": {
   "display_name": "Python 3",
   "language": "python",
   "name": "python3"
  },
  "language_info": {
   "codemirror_mode": {
    "name": "ipython",
    "version": 3
   },
   "file_extension": ".py",
   "mimetype": "text/x-python",
   "name": "python",
   "nbconvert_exporter": "python",
   "pygments_lexer": "ipython3",
   "version": "3.8.2"
  }
 },
 "nbformat": 4,
 "nbformat_minor": 4
}
