{
 "cells": [
  {
   "cell_type": "code",
   "execution_count": 1,
   "metadata": {},
   "outputs": [],
   "source": [
    "%load_ext autoreload\n",
    "%autoreload 2"
   ]
  },
  {
   "cell_type": "code",
   "execution_count": 2,
   "metadata": {},
   "outputs": [],
   "source": [
    "from MODULES.encoders_decoders import *\n",
    "import torch"
   ]
  },
  {
   "cell_type": "code",
   "execution_count": 11,
   "metadata": {},
   "outputs": [
    {
     "name": "stdout",
     "output_type": "stream",
     "text": [
      "y3.shape torch.Size([2, 32, 1, 1])\n"
     ]
    }
   ],
   "source": [
    "B,ch_in,w,h = 2,128,5,5\n",
    "dim_z=3\n",
    "enc = EncoderBackground(ch_in=ch_in, dim_z=dim_z)\n",
    "dec = DecoderBackground(ch_out=7, dim_z=dim_z)\n",
    "\n",
    "        \n",
    "x = torch.randn((B,ch_in,w,h))\n",
    "y= enc(x)\n",
    "\n",
    "x2 = dec(y.mu, high_resolution=(80,80))"
   ]
  },
  {
   "cell_type": "code",
   "execution_count": 12,
   "metadata": {},
   "outputs": [
    {
     "name": "stdout",
     "output_type": "stream",
     "text": [
      "torch.Size([2, 3])\n",
      "torch.Size([2, 7, 80, 80])\n"
     ]
    }
   ],
   "source": [
    "print(y.mu.shape)\n",
    "print(x2.shape)"
   ]
  },
  {
   "cell_type": "code",
   "execution_count": null,
   "metadata": {},
   "outputs": [],
   "source": [
    "from MODULES.vae_model import *\n",
    "from MODULES.utilities_ml import process_one_epoch\n",
    "from MODULES.utilities_visualization import show_batch\n",
    "import torch.nn.functional as F\n",
    "from MODULES.utilities_ml import ConditionalRandomCrop, SpecialDataSet, process_one_epoch\n",
    "\n",
    "\n",
    "# Check versions\n",
    "from platform import python_version\n",
    "print(\"python_version() ---> \", python_version())\n",
    "print(\"torch.__version__ --> \", torch.__version__)"
   ]
  },
  {
   "cell_type": "code",
   "execution_count": null,
   "metadata": {},
   "outputs": [],
   "source": [
    "params = load_json_as_dict(\"./ML_parameters.json\")\n",
    "preprocessed = load_obj(\"./data_train.pt\")\n",
    "img_torch = preprocessed.img.float()\n",
    "roi_mask_torch = preprocessed.roi_mask.bool()\n",
    "assert len(img_torch.shape) == len(roi_mask_torch.shape) == 4\n",
    "# print(\"GPU GB after opening data ->\",torch.cuda.memory_allocated()/1E9)\n",
    "\n",
    "BATCH_SIZE = params[\"simulation\"][\"batch_size\"]\n",
    "SIZE_CROPS = params[\"input_image\"][\"size_raw_image\"]\n",
    "N_TEST = params[\"simulation\"][\"N_test\"]\n",
    "N_TRAIN = params[\"simulation\"][\"N_train\"]\n",
    "conditional_crop_test = ConditionalRandomCrop(desired_w=SIZE_CROPS, desired_h=SIZE_CROPS, \n",
    "                                              min_roi_fraction=0.9, n_crops_per_image=N_TEST)\n",
    "\n",
    "conditional_crop_train = ConditionalRandomCrop(desired_w=SIZE_CROPS, desired_h=SIZE_CROPS, \n",
    "                                               min_roi_fraction=0.9, n_crops_per_image=N_TRAIN)\n",
    "\n",
    "test_data = conditional_crop_test.crop(img=img_torch,\n",
    "                                       roi_mask=roi_mask_torch)\n",
    "# print(\"GPU GB after defining test data ->\",torch.cuda.memory_allocated()/1E9)\n",
    "\n",
    "\n",
    "test_loader = SpecialDataSet(img=test_data,\n",
    "                             store_in_cuda=False,\n",
    "                             shuffle=False,\n",
    "                             drop_last=False,\n",
    "                             batch_size=BATCH_SIZE)\n",
    "test_batch_example_fig = test_loader.check_batch()\n",
    "\n",
    "train_loader = SpecialDataSet(img=img_torch,\n",
    "                              roi_mask=roi_mask_torch,\n",
    "                              data_augmentation=conditional_crop_train,\n",
    "                              store_in_cuda=False,\n",
    "                              shuffle=True,\n",
    "                              drop_last=True,\n",
    "                              batch_size=BATCH_SIZE)\n",
    "train_batch_example_fig = train_loader.check_batch()"
   ]
  },
  {
   "cell_type": "code",
   "execution_count": null,
   "metadata": {},
   "outputs": [],
   "source": [
    "img_to_segment = train_loader.img[0, :, 1060:1360, 2100:2400]\n",
    "plt.imshow(img_to_segment[0])"
   ]
  },
  {
   "cell_type": "code",
   "execution_count": null,
   "metadata": {},
   "outputs": [],
   "source": [
    "ix = 1240-160\n",
    "iy= 2140\n",
    "print(ix)\n",
    "img_to_segment = train_loader.img[0, :, ix:ix+2*(80), iy:iy+4*(80)]\n",
    "plt.imshow(img_to_segment[0])"
   ]
  },
  {
   "cell_type": "code",
   "execution_count": null,
   "metadata": {},
   "outputs": [],
   "source": [
    "\n",
    "img_to_segment = train_loader.img[0, :, 940:1240, 2140:2440]\n",
    "plt.imshow(img_to_segment[0])"
   ]
  },
  {
   "cell_type": "code",
   "execution_count": null,
   "metadata": {},
   "outputs": [],
   "source": []
  },
  {
   "cell_type": "code",
   "execution_count": null,
   "metadata": {},
   "outputs": [],
   "source": []
  },
  {
   "cell_type": "code",
   "execution_count": null,
   "metadata": {},
   "outputs": [],
   "source": []
  },
  {
   "cell_type": "code",
   "execution_count": null,
   "metadata": {},
   "outputs": [],
   "source": []
  },
  {
   "cell_type": "code",
   "execution_count": null,
   "metadata": {},
   "outputs": [],
   "source": []
  },
  {
   "cell_type": "code",
   "execution_count": null,
   "metadata": {},
   "outputs": [],
   "source": []
  },
  {
   "cell_type": "code",
   "execution_count": null,
   "metadata": {},
   "outputs": [],
   "source": []
  },
  {
   "cell_type": "code",
   "execution_count": null,
   "metadata": {},
   "outputs": [],
   "source": [
    "Entropy(\\pi)"
   ]
  },
  {
   "cell_type": "code",
   "execution_count": null,
   "metadata": {},
   "outputs": [],
   "source": [
    "# params"
   ]
  },
  {
   "cell_type": "code",
   "execution_count": null,
   "metadata": {},
   "outputs": [],
   "source": [
    "image_size = params['input_image']['size_raw_image']\n",
    "b, c, w, h = 8, params['input_image']['ch_in'], image_size, image_size\n",
    "imgs_in = torch.sigmoid(torch.randn(b,c,w, h))\n",
    "\n",
    "optimizer = instantiate_optimizer(model=vae, dict_params_optimizer=params[\"optimizer\"])"
   ]
  },
  {
   "cell_type": "code",
   "execution_count": null,
   "metadata": {},
   "outputs": [],
   "source": [
    "show_batch(imgs_in)"
   ]
  },
  {
   "cell_type": "code",
   "execution_count": null,
   "metadata": {},
   "outputs": [],
   "source": [
    "#from MODULES.utilities_ml import SpecialDataSet\n",
    "#\n",
    "#train_loader = SpecialDataSet(img=imgs_in,\n",
    "#                              store_in_cuda=False,\n",
    "#                              shuffle=True,\n",
    "#                              drop_last=True,\n",
    "#                              batch_size=2)\n",
    "#optimizer = instantiate_optimizer(model=vae, dict_params_optimizer=params[\"optimizer\"])\n",
    "#epoch_restart = -1\n",
    "#history_dict = {}\n",
    "#min_test_loss = 99999999\n",
    "#    \n",
    "#for delta_epoch in range(1, 5):\n",
    "#    epoch = delta_epoch+epoch_restart\n",
    "#    with torch.autograd.set_detect_anomaly(True):\n",
    "#        train_metrics = process_one_epoch(model=vae, \n",
    "#                                          dataloader=train_loader, \n",
    "#                                          optimizer=optimizer, \n",
    "#                                          verbose=True)\n",
    "#        print(train_metrics.pretty_print(epoch))"
   ]
  },
  {
   "cell_type": "code",
   "execution_count": null,
   "metadata": {},
   "outputs": [],
   "source": [
    "params = load_json_as_dict(\"./ML_parameters.json\")\n",
    "vae = CompositionalVae(params)\n",
    "generated = vae.generate(imgs_in, draw_boxes=True)"
   ]
  },
  {
   "cell_type": "code",
   "execution_count": null,
   "metadata": {},
   "outputs": [],
   "source": [
    "vae.inference_and_generator.similarity_kernel_dpp.get_l_w()"
   ]
  },
  {
   "cell_type": "code",
   "execution_count": null,
   "metadata": {},
   "outputs": [],
   "source": [
    "print(generated._fields)\n",
    "print(generated.inference._fields)\n",
    "print(generated.inference.sample_c_map.shape)\n",
    "show_batch(generated.inference.sample_c_map.float())"
   ]
  },
  {
   "cell_type": "code",
   "execution_count": null,
   "metadata": {},
   "outputs": [],
   "source": [
    "#generated.inference.prob_map[0,0]"
   ]
  },
  {
   "cell_type": "code",
   "execution_count": null,
   "metadata": {},
   "outputs": [],
   "source": [
    "show_batch(generated.inference.prob_map)"
   ]
  },
  {
   "cell_type": "code",
   "execution_count": null,
   "metadata": {},
   "outputs": [],
   "source": [
    "from MODULES.utilities_visualization import plot_reconstruction_and_inference, plot_segmentation\n",
    "\n",
    "plot_reconstruction_and_inference(generated, epoch=0, prefix=\"gen_\")"
   ]
  },
  {
   "cell_type": "code",
   "execution_count": null,
   "metadata": {},
   "outputs": [],
   "source": [
    "vae.prob_corr_factor = 0.0\n",
    "output = vae.forward(imgs_in, draw_image=True, draw_boxes=True, verbose=False)"
   ]
  },
  {
   "cell_type": "code",
   "execution_count": null,
   "metadata": {},
   "outputs": [],
   "source": [
    "print(torch.max(output.inference.prob_map))\n",
    "show_batch(output.inference.prob_map)"
   ]
  },
  {
   "cell_type": "code",
   "execution_count": null,
   "metadata": {},
   "outputs": [],
   "source": [
    "c_map_2 = (torch.rand_like(output.inference.prob_map) < output.inference.prob_map).float()\n",
    "show_batch(c_map_2)"
   ]
  },
  {
   "cell_type": "code",
   "execution_count": null,
   "metadata": {},
   "outputs": [],
   "source": [
    "show_batch(output.inference.sample_c_map)"
   ]
  },
  {
   "cell_type": "code",
   "execution_count": null,
   "metadata": {},
   "outputs": [],
   "source": []
  },
  {
   "cell_type": "code",
   "execution_count": null,
   "metadata": {},
   "outputs": [],
   "source": [
    "show_batch(output.inference.sample_c_map)"
   ]
  },
  {
   "cell_type": "code",
   "execution_count": null,
   "metadata": {},
   "outputs": [],
   "source": [
    "print(output.inference.bb_few.bh[..., 0])\n",
    "print(vae.inference_and_generator.size_min)\n",
    "print(vae.inference_and_generator.size_max)"
   ]
  },
  {
   "cell_type": "code",
   "execution_count": null,
   "metadata": {},
   "outputs": [],
   "source": [
    "plot_reconstruction_and_inference(output, epoch=0, prefix=\"rec_\")"
   ]
  },
  {
   "cell_type": "code",
   "execution_count": null,
   "metadata": {},
   "outputs": [],
   "source": [
    "\n",
    "    "
   ]
  },
  {
   "cell_type": "code",
   "execution_count": null,
   "metadata": {},
   "outputs": [],
   "source": [
    "vae"
   ]
  },
  {
   "cell_type": "code",
   "execution_count": null,
   "metadata": {},
   "outputs": [],
   "source": []
  }
 ],
 "metadata": {
  "kernelspec": {
   "display_name": "Python 3",
   "language": "python",
   "name": "python3"
  },
  "language_info": {
   "codemirror_mode": {
    "name": "ipython",
    "version": 3
   },
   "file_extension": ".py",
   "mimetype": "text/x-python",
   "name": "python",
   "nbconvert_exporter": "python",
   "pygments_lexer": "ipython3",
   "version": "3.8.2"
  }
 },
 "nbformat": 4,
 "nbformat_minor": 4
}
